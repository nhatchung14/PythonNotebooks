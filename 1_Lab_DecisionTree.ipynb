{
  "nbformat": 4,
  "nbformat_minor": 0,
  "metadata": {
    "colab": {
      "name": "1-Lab-DecisionTree.ipynb",
      "provenance": [],
      "collapsed_sections": [],
      "include_colab_link": true
    },
    "kernelspec": {
      "display_name": "Python 3",
      "language": "python",
      "name": "python3"
    },
    "language_info": {
      "codemirror_mode": {
        "name": "ipython",
        "version": 3
      },
      "file_extension": ".py",
      "mimetype": "text/x-python",
      "name": "python",
      "nbconvert_exporter": "python",
      "pygments_lexer": "ipython3",
      "version": "3.7.3"
    }
  },
  "cells": [
    {
      "cell_type": "markdown",
      "metadata": {
        "id": "view-in-github",
        "colab_type": "text"
      },
      "source": [
        "<a href=\"https://colab.research.google.com/github/nhatchung14/PythonNotebooks/blob/master/1_Lab_DecisionTree.ipynb\" target=\"_parent\"><img src=\"https://colab.research.google.com/assets/colab-badge.svg\" alt=\"Open In Colab\"/></a>"
      ]
    },
    {
      "cell_type": "code",
      "metadata": {
        "id": "4FUWxjrPV9ve",
        "colab_type": "code",
        "colab": {
          "base_uri": "https://localhost:8080/",
          "height": 156
        },
        "outputId": "7549e015-c965-4850-8ecd-3381dec7c294"
      },
      "source": [
        "from google.colab import drive\n",
        "drive.mount('/gdrive')\n",
        "%cd /gdrive\n",
        "%cd 'My Drive'/'Colab Notebooks'/Lab6/2-Decision-Tree\n"
      ],
      "execution_count": 1,
      "outputs": [
        {
          "output_type": "stream",
          "text": [
            "Go to this URL in a browser: https://accounts.google.com/o/oauth2/auth?client_id=947318989803-6bn6qk8qdgf4n4g3pfee6491hc0brc4i.apps.googleusercontent.com&redirect_uri=urn%3aietf%3awg%3aoauth%3a2.0%3aoob&response_type=code&scope=email%20https%3a%2f%2fwww.googleapis.com%2fauth%2fdocs.test%20https%3a%2f%2fwww.googleapis.com%2fauth%2fdrive%20https%3a%2f%2fwww.googleapis.com%2fauth%2fdrive.photos.readonly%20https%3a%2f%2fwww.googleapis.com%2fauth%2fpeopleapi.readonly\n",
            "\n",
            "Enter your authorization code:\n",
            "··········\n",
            "Mounted at /gdrive\n",
            "/gdrive\n",
            "/gdrive/My Drive/Colab Notebooks/Lab6/2-Decision-Tree\n"
          ],
          "name": "stdout"
        }
      ]
    },
    {
      "cell_type": "markdown",
      "metadata": {
        "colab_type": "text",
        "id": "gvKshvFzQorr"
      },
      "source": [
        "# Decision Tree in Python"
      ]
    },
    {
      "cell_type": "markdown",
      "metadata": {
        "colab_type": "text",
        "id": "YeHd4gDaQ0_c"
      },
      "source": [
        "## Introduction"
      ]
    },
    {
      "cell_type": "markdown",
      "metadata": {
        "colab_type": "text",
        "id": "VxauYFNjYzWw"
      },
      "source": [
        "\n",
        "* Author: thuanle@hcmut.edu.vn\n",
        "\n",
        "* Content:\n",
        "  - Practice the DecisionTree classifier\n",
        "  - Learn more about split the dataset into train and test.\n",
        "  - Evaluation by Accuracy score\n",
        "* Major steps:\n",
        "  - Load data from CSV, split into trainning set and test set\n",
        "  - Buidling kNN model.\n",
        "  - Evaluating results\n",
        "  - Training DecisionTree classifier model\n",
        "  - Evaluating results\n",
        "  - Visualize models"
      ]
    },
    {
      "cell_type": "markdown",
      "metadata": {
        "colab_type": "text",
        "id": "iqHlfOFUVQAD"
      },
      "source": [
        "## Configuration"
      ]
    },
    {
      "cell_type": "code",
      "metadata": {
        "colab_type": "code",
        "id": "hFmx_vCrVEX3",
        "colab": {}
      },
      "source": [
        "dataset_filename = \"bill_authentication.csv\""
      ],
      "execution_count": 0,
      "outputs": []
    },
    {
      "cell_type": "markdown",
      "metadata": {
        "colab_type": "text",
        "id": "H89hX3QbQor2"
      },
      "source": [
        "## Grab the data\n",
        "\n",
        "Since our file is in CSV format, we will use panda's read_csv method to read our CSV data file. Execute the following script to do so:"
      ]
    },
    {
      "cell_type": "code",
      "metadata": {
        "colab_type": "code",
        "id": "t85tLpXzQor5",
        "outputId": "9f75cbe5-648d-4747-9067-0f49271bba81",
        "colab": {
          "base_uri": "https://localhost:8080/",
          "height": 34
        }
      },
      "source": [
        "import pandas as pd  \n",
        "dataset = pd.read_csv(dataset_filename)\n",
        "dataset.shape"
      ],
      "execution_count": 3,
      "outputs": [
        {
          "output_type": "execute_result",
          "data": {
            "text/plain": [
              "(1372, 5)"
            ]
          },
          "metadata": {
            "tags": []
          },
          "execution_count": 3
        }
      ]
    },
    {
      "cell_type": "code",
      "metadata": {
        "colab_type": "code",
        "id": "A0dBLnZKQosF",
        "outputId": "2a2d22b6-079a-4cfe-f5ca-56b2c629847f",
        "colab": {
          "base_uri": "https://localhost:8080/",
          "height": 34
        }
      },
      "source": [
        "# Overview about dataset\n",
        "dataset.keys()"
      ],
      "execution_count": 4,
      "outputs": [
        {
          "output_type": "execute_result",
          "data": {
            "text/plain": [
              "Index(['Variance', 'Skewness', 'Curtosis', 'Entropy', 'Class'], dtype='object')"
            ]
          },
          "metadata": {
            "tags": []
          },
          "execution_count": 4
        }
      ]
    },
    {
      "cell_type": "code",
      "metadata": {
        "colab_type": "code",
        "id": "6S5WHtRnQosJ",
        "outputId": "f735bc89-4f5e-43a8-a412-ed2f21b548cb",
        "colab": {
          "base_uri": "https://localhost:8080/",
          "height": 204
        }
      },
      "source": [
        "dataset.head()  "
      ],
      "execution_count": 5,
      "outputs": [
        {
          "output_type": "execute_result",
          "data": {
            "text/html": [
              "<div>\n",
              "<style scoped>\n",
              "    .dataframe tbody tr th:only-of-type {\n",
              "        vertical-align: middle;\n",
              "    }\n",
              "\n",
              "    .dataframe tbody tr th {\n",
              "        vertical-align: top;\n",
              "    }\n",
              "\n",
              "    .dataframe thead th {\n",
              "        text-align: right;\n",
              "    }\n",
              "</style>\n",
              "<table border=\"1\" class=\"dataframe\">\n",
              "  <thead>\n",
              "    <tr style=\"text-align: right;\">\n",
              "      <th></th>\n",
              "      <th>Variance</th>\n",
              "      <th>Skewness</th>\n",
              "      <th>Curtosis</th>\n",
              "      <th>Entropy</th>\n",
              "      <th>Class</th>\n",
              "    </tr>\n",
              "  </thead>\n",
              "  <tbody>\n",
              "    <tr>\n",
              "      <th>0</th>\n",
              "      <td>3.62160</td>\n",
              "      <td>8.6661</td>\n",
              "      <td>-2.8073</td>\n",
              "      <td>-0.44699</td>\n",
              "      <td>0</td>\n",
              "    </tr>\n",
              "    <tr>\n",
              "      <th>1</th>\n",
              "      <td>4.54590</td>\n",
              "      <td>8.1674</td>\n",
              "      <td>-2.4586</td>\n",
              "      <td>-1.46210</td>\n",
              "      <td>0</td>\n",
              "    </tr>\n",
              "    <tr>\n",
              "      <th>2</th>\n",
              "      <td>3.86600</td>\n",
              "      <td>-2.6383</td>\n",
              "      <td>1.9242</td>\n",
              "      <td>0.10645</td>\n",
              "      <td>0</td>\n",
              "    </tr>\n",
              "    <tr>\n",
              "      <th>3</th>\n",
              "      <td>3.45660</td>\n",
              "      <td>9.5228</td>\n",
              "      <td>-4.0112</td>\n",
              "      <td>-3.59440</td>\n",
              "      <td>0</td>\n",
              "    </tr>\n",
              "    <tr>\n",
              "      <th>4</th>\n",
              "      <td>0.32924</td>\n",
              "      <td>-4.4552</td>\n",
              "      <td>4.5718</td>\n",
              "      <td>-0.98880</td>\n",
              "      <td>0</td>\n",
              "    </tr>\n",
              "  </tbody>\n",
              "</table>\n",
              "</div>"
            ],
            "text/plain": [
              "   Variance  Skewness  Curtosis  Entropy  Class\n",
              "0   3.62160    8.6661   -2.8073 -0.44699      0\n",
              "1   4.54590    8.1674   -2.4586 -1.46210      0\n",
              "2   3.86600   -2.6383    1.9242  0.10645      0\n",
              "3   3.45660    9.5228   -4.0112 -3.59440      0\n",
              "4   0.32924   -4.4552    4.5718 -0.98880      0"
            ]
          },
          "metadata": {
            "tags": []
          },
          "execution_count": 5
        }
      ]
    },
    {
      "cell_type": "markdown",
      "metadata": {
        "colab_type": "text",
        "id": "NTob9ldXZST2"
      },
      "source": [
        "## Prepare train data and test set"
      ]
    },
    {
      "cell_type": "markdown",
      "metadata": {
        "colab_type": "text",
        "id": "_SHtTv-AQosM"
      },
      "source": [
        "The label is describe in **Class** column. So that we devide the dataset into attributes and labels"
      ]
    },
    {
      "cell_type": "code",
      "metadata": {
        "colab_type": "code",
        "id": "IWlX_Ip1QosN",
        "colab": {}
      },
      "source": [
        "X = dataset.drop('Class', axis=1)  \n",
        "y = dataset['Class']  "
      ],
      "execution_count": 0,
      "outputs": []
    },
    {
      "cell_type": "markdown",
      "metadata": {
        "colab_type": "text",
        "id": "gg1L0AW-2ScC"
      },
      "source": [
        "Here the X variable contains all the columns from the dataset, except the **Class** column, which is the label.\n",
        "\n",
        "The y variable contains the values from the **Class** column. \n",
        "\n",
        "The X variable is our attribute set and y variable contains corresponding labels."
      ]
    },
    {
      "cell_type": "markdown",
      "metadata": {
        "colab_type": "text",
        "id": "7mAg-sUBQosS"
      },
      "source": [
        "### Dividing our data into training and test sets. "
      ]
    },
    {
      "cell_type": "markdown",
      "metadata": {
        "colab_type": "text",
        "id": "0Fp9RNwf2oon"
      },
      "source": [
        "So, we split the test into 2 sets: training set and testing set. We use to split up 20% of the data in to the test set and 80% for training."
      ]
    },
    {
      "cell_type": "code",
      "metadata": {
        "colab_type": "code",
        "id": "8fXzzhfHQosT",
        "outputId": "237adebb-2c7b-4c9e-e406-72ec6e2a3d01",
        "colab": {
          "base_uri": "https://localhost:8080/",
          "height": 51
        }
      },
      "source": [
        "from sklearn.model_selection import train_test_split  \n",
        "X_train, X_test, y_train, y_test = train_test_split(X, y, test_size=0.20)\n",
        "print(X_train.shape, y_train.size)\n",
        "print(X_test.shape, y_test.shape)"
      ],
      "execution_count": 7,
      "outputs": [
        {
          "output_type": "stream",
          "text": [
            "(1097, 4) 1097\n",
            "(275, 4) (275,)\n"
          ],
          "name": "stdout"
        }
      ]
    },
    {
      "cell_type": "markdown",
      "metadata": {
        "colab_type": "text",
        "id": "RvkIhGKzQosZ"
      },
      "source": [
        "## Training with Decision Tree"
      ]
    },
    {
      "cell_type": "markdown",
      "metadata": {
        "colab_type": "text",
        "id": "Whzch7nq5Fdc"
      },
      "source": [
        "Now, let's build a **Decision Tree** model"
      ]
    },
    {
      "cell_type": "markdown",
      "metadata": {
        "id": "rq-e1YxpV80H",
        "colab_type": "text"
      },
      "source": [
        "### a) criterion='gini'"
      ]
    },
    {
      "cell_type": "code",
      "metadata": {
        "colab_type": "code",
        "id": "A5VjKMNFQosZ",
        "outputId": "493eb949-c4e6-427e-f52f-e63e63b33b9f",
        "colab": {
          "base_uri": "https://localhost:8080/",
          "height": 119
        }
      },
      "source": [
        "from sklearn.tree import DecisionTreeClassifier  \n",
        "dt = DecisionTreeClassifier(criterion='gini')  \n",
        "dt.fit(X_train, y_train)  "
      ],
      "execution_count": 8,
      "outputs": [
        {
          "output_type": "execute_result",
          "data": {
            "text/plain": [
              "DecisionTreeClassifier(ccp_alpha=0.0, class_weight=None, criterion='gini',\n",
              "                       max_depth=None, max_features=None, max_leaf_nodes=None,\n",
              "                       min_impurity_decrease=0.0, min_impurity_split=None,\n",
              "                       min_samples_leaf=1, min_samples_split=2,\n",
              "                       min_weight_fraction_leaf=0.0, presort='deprecated',\n",
              "                       random_state=None, splitter='best')"
            ]
          },
          "metadata": {
            "tags": []
          },
          "execution_count": 8
        }
      ]
    },
    {
      "cell_type": "code",
      "metadata": {
        "colab_type": "code",
        "id": "577pssBYQose",
        "outputId": "db08cb7a-6877-4d3b-9cd4-b7ad2d27bcdb",
        "colab": {
          "base_uri": "https://localhost:8080/",
          "height": 238
        }
      },
      "source": [
        "y_pred_dt = dt.predict(X_test)  \n",
        "y_pred_dt"
      ],
      "execution_count": 9,
      "outputs": [
        {
          "output_type": "execute_result",
          "data": {
            "text/plain": [
              "array([0, 1, 0, 0, 1, 1, 0, 1, 0, 1, 1, 0, 1, 0, 0, 0, 0, 1, 0, 0, 0, 0,\n",
              "       1, 1, 1, 0, 1, 0, 1, 0, 0, 0, 0, 1, 0, 0, 0, 0, 1, 0, 1, 0, 1, 0,\n",
              "       0, 1, 1, 1, 1, 0, 0, 1, 1, 0, 0, 0, 1, 1, 0, 0, 1, 1, 0, 1, 0, 1,\n",
              "       0, 1, 1, 0, 1, 0, 1, 0, 0, 1, 1, 0, 1, 1, 1, 0, 0, 1, 0, 0, 1, 1,\n",
              "       0, 0, 1, 0, 1, 0, 0, 1, 1, 1, 1, 0, 0, 0, 0, 0, 0, 0, 1, 1, 0, 1,\n",
              "       0, 1, 0, 0, 1, 0, 1, 0, 1, 1, 0, 0, 0, 1, 1, 1, 0, 1, 0, 0, 0, 0,\n",
              "       0, 0, 0, 0, 1, 0, 0, 0, 1, 1, 0, 0, 1, 0, 1, 1, 0, 0, 1, 1, 1, 0,\n",
              "       0, 0, 0, 1, 1, 0, 0, 1, 0, 0, 0, 0, 0, 0, 1, 1, 1, 0, 0, 0, 1, 1,\n",
              "       0, 0, 1, 0, 0, 0, 1, 0, 1, 0, 1, 1, 0, 0, 0, 1, 0, 1, 0, 0, 0, 0,\n",
              "       1, 0, 0, 1, 1, 0, 0, 0, 0, 1, 0, 0, 0, 0, 0, 0, 1, 0, 0, 1, 1, 0,\n",
              "       0, 1, 0, 1, 0, 0, 1, 1, 1, 1, 1, 0, 1, 1, 1, 1, 1, 1, 1, 1, 0, 1,\n",
              "       0, 0, 0, 1, 1, 1, 1, 1, 1, 0, 0, 0, 0, 1, 0, 0, 0, 1, 0, 1, 1, 1,\n",
              "       1, 1, 0, 1, 1, 0, 0, 0, 0, 0, 1])"
            ]
          },
          "metadata": {
            "tags": []
          },
          "execution_count": 9
        }
      ]
    },
    {
      "cell_type": "markdown",
      "metadata": {
        "colab_type": "text",
        "id": "UusvjyEMQosl"
      },
      "source": [
        "##### Evaluating the Algorithm\n",
        "\n"
      ]
    },
    {
      "cell_type": "code",
      "metadata": {
        "colab_type": "code",
        "id": "ZrVWAiUDQosm",
        "outputId": "1af8e736-9140-44d6-b5e0-ca19e7dbdc63",
        "colab": {
          "base_uri": "https://localhost:8080/",
          "height": 34
        }
      },
      "source": [
        "dt_score = dt.score(X_test, y_test)\n",
        "print(f\"Decision Tree classifier accuracy score is {dt_score}\")"
      ],
      "execution_count": 10,
      "outputs": [
        {
          "output_type": "stream",
          "text": [
            "Decision Tree classifier accuracy score is 0.9927272727272727\n"
          ],
          "name": "stdout"
        }
      ]
    },
    {
      "cell_type": "markdown",
      "metadata": {
        "id": "L7lH8nW8V80W",
        "colab_type": "text"
      },
      "source": [
        "### b) criterion='entropy'"
      ]
    },
    {
      "cell_type": "code",
      "metadata": {
        "id": "oFIcIZEaV80X",
        "colab_type": "code",
        "colab": {
          "base_uri": "https://localhost:8080/",
          "height": 119
        },
        "outputId": "06f7f49f-6ded-4e79-8c9b-d4b80624eb1d"
      },
      "source": [
        "from sklearn.tree import DecisionTreeClassifier  \n",
        "dt2 = DecisionTreeClassifier(criterion='entropy')  \n",
        "dt2.fit(X_train, y_train)  "
      ],
      "execution_count": 11,
      "outputs": [
        {
          "output_type": "execute_result",
          "data": {
            "text/plain": [
              "DecisionTreeClassifier(ccp_alpha=0.0, class_weight=None, criterion='entropy',\n",
              "                       max_depth=None, max_features=None, max_leaf_nodes=None,\n",
              "                       min_impurity_decrease=0.0, min_impurity_split=None,\n",
              "                       min_samples_leaf=1, min_samples_split=2,\n",
              "                       min_weight_fraction_leaf=0.0, presort='deprecated',\n",
              "                       random_state=None, splitter='best')"
            ]
          },
          "metadata": {
            "tags": []
          },
          "execution_count": 11
        }
      ]
    },
    {
      "cell_type": "code",
      "metadata": {
        "scrolled": false,
        "id": "kTlR5I0YV80b",
        "colab_type": "code",
        "colab": {
          "base_uri": "https://localhost:8080/",
          "height": 238
        },
        "outputId": "b4da5542-561c-4274-d0da-c74cd5610ff9"
      },
      "source": [
        "y_pred_dt = dt2.predict(X_test)  \n",
        "y_pred_dt"
      ],
      "execution_count": 12,
      "outputs": [
        {
          "output_type": "execute_result",
          "data": {
            "text/plain": [
              "array([0, 1, 0, 0, 1, 1, 0, 1, 0, 1, 1, 0, 1, 0, 0, 0, 0, 1, 0, 0, 0, 0,\n",
              "       1, 1, 0, 0, 1, 0, 1, 0, 0, 0, 0, 1, 0, 0, 0, 0, 1, 0, 1, 0, 1, 0,\n",
              "       0, 1, 1, 1, 1, 0, 0, 1, 1, 0, 0, 0, 1, 1, 0, 0, 1, 1, 0, 1, 0, 1,\n",
              "       0, 1, 1, 0, 1, 0, 1, 0, 0, 1, 1, 0, 1, 1, 1, 0, 0, 1, 0, 0, 1, 0,\n",
              "       0, 0, 1, 0, 1, 0, 0, 1, 1, 1, 1, 0, 0, 0, 0, 0, 0, 0, 1, 1, 0, 1,\n",
              "       0, 1, 0, 0, 1, 0, 1, 0, 1, 1, 0, 0, 0, 1, 1, 1, 0, 1, 0, 0, 0, 0,\n",
              "       0, 0, 0, 0, 1, 0, 0, 0, 1, 1, 0, 0, 1, 0, 1, 1, 0, 0, 1, 1, 1, 0,\n",
              "       0, 0, 0, 1, 1, 0, 0, 1, 0, 0, 0, 0, 0, 0, 1, 1, 1, 0, 0, 0, 1, 1,\n",
              "       0, 0, 1, 0, 0, 0, 1, 0, 1, 0, 1, 1, 0, 0, 0, 1, 0, 1, 0, 0, 0, 0,\n",
              "       1, 0, 0, 1, 1, 0, 0, 0, 0, 1, 0, 0, 0, 0, 0, 0, 1, 0, 0, 1, 1, 0,\n",
              "       0, 1, 0, 1, 0, 0, 1, 1, 1, 1, 1, 0, 1, 1, 1, 1, 1, 1, 1, 1, 0, 1,\n",
              "       0, 0, 0, 1, 1, 1, 1, 1, 1, 0, 0, 0, 0, 1, 0, 0, 0, 1, 0, 1, 1, 1,\n",
              "       1, 1, 0, 1, 1, 0, 0, 0, 0, 0, 1])"
            ]
          },
          "metadata": {
            "tags": []
          },
          "execution_count": 12
        }
      ]
    },
    {
      "cell_type": "markdown",
      "metadata": {
        "colab_type": "text",
        "id": "seQGu71LV80f"
      },
      "source": [
        "##### Evaluating the Algorithm\n",
        "\n"
      ]
    },
    {
      "cell_type": "code",
      "metadata": {
        "colab_type": "code",
        "outputId": "f92786af-c445-4ce0-a6ae-f2003aa90c26",
        "id": "q7hlcB4GV80g",
        "colab": {
          "base_uri": "https://localhost:8080/",
          "height": 34
        }
      },
      "source": [
        "dt_score = dt.score(X_test, y_test)\n",
        "print(f\"Decision Tree classifier accuracy score is {dt_score}\")"
      ],
      "execution_count": 13,
      "outputs": [
        {
          "output_type": "stream",
          "text": [
            "Decision Tree classifier accuracy score is 0.9927272727272727\n"
          ],
          "name": "stdout"
        }
      ]
    },
    {
      "cell_type": "markdown",
      "metadata": {
        "colab_type": "text",
        "id": "pSKS600B8a7r"
      },
      "source": [
        "## Extra section"
      ]
    },
    {
      "cell_type": "markdown",
      "metadata": {
        "colab_type": "text",
        "id": "VOR4z1m7Qoss"
      },
      "source": [
        "### Visualize decision tree"
      ]
    },
    {
      "cell_type": "markdown",
      "metadata": {
        "colab_type": "text",
        "id": "flCqCeIl8xm9"
      },
      "source": [
        "We can visualize the Decision Tree model using the [Graphviz](https://www.graphviz.org/) tool.\n",
        "\n",
        "Graphviz is an easy tool for drawing graph. For example: the code\n",
        "\n",
        "```\n",
        "digraph G {Hello->World}\n",
        "```\n",
        "\n",
        "will generate the following graph\n",
        "\n",
        "![digraph](https://graphviz.gitlab.io/_pages/Gallery/directed/hello.png)\n",
        "\n",
        "* More example https://www.graphviz.org/gallery/\n",
        "* You can play around at http://www.webgraphviz.com/ or https://dreampuf.github.io/GraphvizOnline/"
      ]
    },
    {
      "cell_type": "markdown",
      "metadata": {
        "colab_type": "text",
        "id": "mIG3R9Lk_5NS"
      },
      "source": [
        "So let's generate the graph."
      ]
    },
    {
      "cell_type": "code",
      "metadata": {
        "colab_type": "code",
        "id": "YIZ49PfhQosu",
        "outputId": "34c9d9b3-c79d-4a01-cc46-516dfc915c5e",
        "colab": {
          "base_uri": "https://localhost:8080/",
          "height": 1000
        }
      },
      "source": [
        "from sklearn.tree import export_graphviz\n",
        "dot_data = export_graphviz(dt, out_file=None)\n",
        "print(dot_data)"
      ],
      "execution_count": 14,
      "outputs": [
        {
          "output_type": "stream",
          "text": [
            "digraph Tree {\n",
            "node [shape=box] ;\n",
            "0 [label=\"X[0] <= 0.32\\ngini = 0.494\\nsamples = 1097\\nvalue = [607, 490]\"] ;\n",
            "1 [label=\"X[1] <= 7.293\\ngini = 0.292\\nsamples = 519\\nvalue = [92, 427]\"] ;\n",
            "0 -> 1 [labeldistance=2.5, labelangle=45, headlabel=\"True\"] ;\n",
            "2 [label=\"X[0] <= -0.257\\ngini = 0.116\\nsamples = 435\\nvalue = [27, 408]\"] ;\n",
            "1 -> 2 ;\n",
            "3 [label=\"X[2] <= 6.216\\ngini = 0.065\\nsamples = 384\\nvalue = [13, 371]\"] ;\n",
            "2 -> 3 ;\n",
            "4 [label=\"X[0] <= -0.362\\ngini = 0.007\\nsamples = 270\\nvalue = [1, 269]\"] ;\n",
            "3 -> 4 ;\n",
            "5 [label=\"gini = 0.0\\nsamples = 262\\nvalue = [0, 262]\"] ;\n",
            "4 -> 5 ;\n",
            "6 [label=\"X[2] <= 2.61\\ngini = 0.219\\nsamples = 8\\nvalue = [1, 7]\"] ;\n",
            "4 -> 6 ;\n",
            "7 [label=\"gini = 0.0\\nsamples = 7\\nvalue = [0, 7]\"] ;\n",
            "6 -> 7 ;\n",
            "8 [label=\"gini = 0.0\\nsamples = 1\\nvalue = [1, 0]\"] ;\n",
            "6 -> 8 ;\n",
            "9 [label=\"X[1] <= -4.675\\ngini = 0.188\\nsamples = 114\\nvalue = [12, 102]\"] ;\n",
            "3 -> 9 ;\n",
            "10 [label=\"gini = 0.0\\nsamples = 101\\nvalue = [0, 101]\"] ;\n",
            "9 -> 10 ;\n",
            "11 [label=\"X[1] <= -2.962\\ngini = 0.142\\nsamples = 13\\nvalue = [12, 1]\"] ;\n",
            "9 -> 11 ;\n",
            "12 [label=\"X[2] <= 7.4\\ngini = 0.5\\nsamples = 2\\nvalue = [1, 1]\"] ;\n",
            "11 -> 12 ;\n",
            "13 [label=\"gini = 0.0\\nsamples = 1\\nvalue = [0, 1]\"] ;\n",
            "12 -> 13 ;\n",
            "14 [label=\"gini = 0.0\\nsamples = 1\\nvalue = [1, 0]\"] ;\n",
            "12 -> 14 ;\n",
            "15 [label=\"gini = 0.0\\nsamples = 11\\nvalue = [11, 0]\"] ;\n",
            "11 -> 15 ;\n",
            "16 [label=\"X[2] <= 3.521\\ngini = 0.398\\nsamples = 51\\nvalue = [14, 37]\"] ;\n",
            "2 -> 16 ;\n",
            "17 [label=\"X[1] <= 5.454\\ngini = 0.268\\nsamples = 44\\nvalue = [7, 37]\"] ;\n",
            "16 -> 17 ;\n",
            "18 [label=\"gini = 0.0\\nsamples = 37\\nvalue = [0, 37]\"] ;\n",
            "17 -> 18 ;\n",
            "19 [label=\"gini = 0.0\\nsamples = 7\\nvalue = [7, 0]\"] ;\n",
            "17 -> 19 ;\n",
            "20 [label=\"gini = 0.0\\nsamples = 7\\nvalue = [7, 0]\"] ;\n",
            "16 -> 20 ;\n",
            "21 [label=\"X[0] <= -4.382\\ngini = 0.35\\nsamples = 84\\nvalue = [65, 19]\"] ;\n",
            "1 -> 21 ;\n",
            "22 [label=\"gini = 0.0\\nsamples = 19\\nvalue = [0, 19]\"] ;\n",
            "21 -> 22 ;\n",
            "23 [label=\"gini = 0.0\\nsamples = 65\\nvalue = [65, 0]\"] ;\n",
            "21 -> 23 ;\n",
            "24 [label=\"X[2] <= -4.386\\ngini = 0.194\\nsamples = 578\\nvalue = [515, 63]\"] ;\n",
            "0 -> 24 [labeldistance=2.5, labelangle=-45, headlabel=\"False\"] ;\n",
            "25 [label=\"X[1] <= 7.192\\ngini = 0.382\\nsamples = 35\\nvalue = [9, 26]\"] ;\n",
            "24 -> 25 ;\n",
            "26 [label=\"gini = 0.0\\nsamples = 26\\nvalue = [0, 26]\"] ;\n",
            "25 -> 26 ;\n",
            "27 [label=\"gini = 0.0\\nsamples = 9\\nvalue = [9, 0]\"] ;\n",
            "25 -> 27 ;\n",
            "28 [label=\"X[0] <= 1.586\\ngini = 0.127\\nsamples = 543\\nvalue = [506, 37]\"] ;\n",
            "24 -> 28 ;\n",
            "29 [label=\"X[2] <= -2.272\\ngini = 0.342\\nsamples = 155\\nvalue = [121, 34]\"] ;\n",
            "28 -> 29 ;\n",
            "30 [label=\"X[1] <= 5.667\\ngini = 0.245\\nsamples = 21\\nvalue = [3, 18]\"] ;\n",
            "29 -> 30 ;\n",
            "31 [label=\"gini = 0.0\\nsamples = 18\\nvalue = [0, 18]\"] ;\n",
            "30 -> 31 ;\n",
            "32 [label=\"gini = 0.0\\nsamples = 3\\nvalue = [3, 0]\"] ;\n",
            "30 -> 32 ;\n",
            "33 [label=\"X[3] <= 0.082\\ngini = 0.21\\nsamples = 134\\nvalue = [118, 16]\"] ;\n",
            "29 -> 33 ;\n",
            "34 [label=\"X[2] <= -1.426\\ngini = 0.019\\nsamples = 102\\nvalue = [101, 1]\"] ;\n",
            "33 -> 34 ;\n",
            "35 [label=\"X[0] <= 0.49\\ngini = 0.124\\nsamples = 15\\nvalue = [14, 1]\"] ;\n",
            "34 -> 35 ;\n",
            "36 [label=\"gini = 0.0\\nsamples = 1\\nvalue = [0, 1]\"] ;\n",
            "35 -> 36 ;\n",
            "37 [label=\"gini = 0.0\\nsamples = 14\\nvalue = [14, 0]\"] ;\n",
            "35 -> 37 ;\n",
            "38 [label=\"gini = 0.0\\nsamples = 87\\nvalue = [87, 0]\"] ;\n",
            "34 -> 38 ;\n",
            "39 [label=\"X[2] <= 1.853\\ngini = 0.498\\nsamples = 32\\nvalue = [17, 15]\"] ;\n",
            "33 -> 39 ;\n",
            "40 [label=\"X[1] <= 3.559\\ngini = 0.208\\nsamples = 17\\nvalue = [2, 15]\"] ;\n",
            "39 -> 40 ;\n",
            "41 [label=\"gini = 0.0\\nsamples = 15\\nvalue = [0, 15]\"] ;\n",
            "40 -> 41 ;\n",
            "42 [label=\"gini = 0.0\\nsamples = 2\\nvalue = [2, 0]\"] ;\n",
            "40 -> 42 ;\n",
            "43 [label=\"gini = 0.0\\nsamples = 15\\nvalue = [15, 0]\"] ;\n",
            "39 -> 43 ;\n",
            "44 [label=\"X[0] <= 2.037\\ngini = 0.015\\nsamples = 388\\nvalue = [385, 3]\"] ;\n",
            "28 -> 44 ;\n",
            "45 [label=\"X[2] <= -2.111\\ngini = 0.124\\nsamples = 45\\nvalue = [42, 3]\"] ;\n",
            "44 -> 45 ;\n",
            "46 [label=\"X[3] <= -1.796\\ngini = 0.375\\nsamples = 4\\nvalue = [1, 3]\"] ;\n",
            "45 -> 46 ;\n",
            "47 [label=\"gini = 0.0\\nsamples = 1\\nvalue = [1, 0]\"] ;\n",
            "46 -> 47 ;\n",
            "48 [label=\"gini = 0.0\\nsamples = 3\\nvalue = [0, 3]\"] ;\n",
            "46 -> 48 ;\n",
            "49 [label=\"gini = 0.0\\nsamples = 41\\nvalue = [41, 0]\"] ;\n",
            "45 -> 49 ;\n",
            "50 [label=\"gini = 0.0\\nsamples = 343\\nvalue = [343, 0]\"] ;\n",
            "44 -> 50 ;\n",
            "}\n"
          ],
          "name": "stdout"
        }
      ]
    },
    {
      "cell_type": "code",
      "metadata": {
        "id": "sttmXb6YYJss",
        "colab_type": "code",
        "colab": {
          "base_uri": "https://localhost:8080/",
          "height": 1000
        },
        "outputId": "d76a3334-3810-4c00-c6d6-e09a659be69c"
      },
      "source": [
        "from sklearn.tree import export_graphviz\n",
        "dot_data2 = export_graphviz(dt2, out_file=None)\n",
        "print(dot_data2)"
      ],
      "execution_count": 18,
      "outputs": [
        {
          "output_type": "stream",
          "text": [
            "digraph Tree {\n",
            "node [shape=box] ;\n",
            "0 [label=\"X[0] <= 0.747\\nentropy = 0.992\\nsamples = 1097\\nvalue = [607, 490]\"] ;\n",
            "1 [label=\"X[1] <= 5.161\\nentropy = 0.773\\nsamples = 590\\nvalue = [134, 456]\"] ;\n",
            "0 -> 1 [labeldistance=2.5, labelangle=45, headlabel=\"True\"] ;\n",
            "2 [label=\"X[0] <= 0.32\\nentropy = 0.459\\nsamples = 465\\nvalue = [45, 420]\"] ;\n",
            "1 -> 2 ;\n",
            "3 [label=\"X[2] <= 3.064\\nentropy = 0.28\\nsamples = 412\\nvalue = [20, 392]\"] ;\n",
            "2 -> 3 ;\n",
            "4 [label=\"entropy = 0.0\\nsamples = 250\\nvalue = [0, 250]\"] ;\n",
            "3 -> 4 ;\n",
            "5 [label=\"X[1] <= -1.82\\nentropy = 0.539\\nsamples = 162\\nvalue = [20, 142]\"] ;\n",
            "3 -> 5 ;\n",
            "6 [label=\"X[0] <= -0.651\\nentropy = 0.107\\nsamples = 142\\nvalue = [2, 140]\"] ;\n",
            "5 -> 6 ;\n",
            "7 [label=\"entropy = 0.0\\nsamples = 137\\nvalue = [0, 137]\"] ;\n",
            "6 -> 7 ;\n",
            "8 [label=\"X[2] <= 7.531\\nentropy = 0.971\\nsamples = 5\\nvalue = [2, 3]\"] ;\n",
            "6 -> 8 ;\n",
            "9 [label=\"entropy = 0.0\\nsamples = 3\\nvalue = [0, 3]\"] ;\n",
            "8 -> 9 ;\n",
            "10 [label=\"entropy = 0.0\\nsamples = 2\\nvalue = [2, 0]\"] ;\n",
            "8 -> 10 ;\n",
            "11 [label=\"X[0] <= -2.156\\nentropy = 0.469\\nsamples = 20\\nvalue = [18, 2]\"] ;\n",
            "5 -> 11 ;\n",
            "12 [label=\"X[2] <= 5.335\\nentropy = 0.918\\nsamples = 3\\nvalue = [1, 2]\"] ;\n",
            "11 -> 12 ;\n",
            "13 [label=\"entropy = 0.0\\nsamples = 2\\nvalue = [0, 2]\"] ;\n",
            "12 -> 13 ;\n",
            "14 [label=\"entropy = 0.0\\nsamples = 1\\nvalue = [1, 0]\"] ;\n",
            "12 -> 14 ;\n",
            "15 [label=\"entropy = 0.0\\nsamples = 17\\nvalue = [17, 0]\"] ;\n",
            "11 -> 15 ;\n",
            "16 [label=\"X[2] <= 0.47\\nentropy = 0.998\\nsamples = 53\\nvalue = [25, 28]\"] ;\n",
            "2 -> 16 ;\n",
            "17 [label=\"entropy = 0.0\\nsamples = 26\\nvalue = [0, 26]\"] ;\n",
            "16 -> 17 ;\n",
            "18 [label=\"X[3] <= 0.73\\nentropy = 0.381\\nsamples = 27\\nvalue = [25, 2]\"] ;\n",
            "16 -> 18 ;\n",
            "19 [label=\"entropy = 0.0\\nsamples = 25\\nvalue = [25, 0]\"] ;\n",
            "18 -> 19 ;\n",
            "20 [label=\"entropy = 0.0\\nsamples = 2\\nvalue = [0, 2]\"] ;\n",
            "18 -> 20 ;\n",
            "21 [label=\"X[0] <= -3.321\\nentropy = 0.866\\nsamples = 125\\nvalue = [89, 36]\"] ;\n",
            "1 -> 21 ;\n",
            "22 [label=\"X[2] <= 2.018\\nentropy = 0.183\\nsamples = 36\\nvalue = [1, 35]\"] ;\n",
            "21 -> 22 ;\n",
            "23 [label=\"entropy = 0.0\\nsamples = 35\\nvalue = [0, 35]\"] ;\n",
            "22 -> 23 ;\n",
            "24 [label=\"entropy = 0.0\\nsamples = 1\\nvalue = [1, 0]\"] ;\n",
            "22 -> 24 ;\n",
            "25 [label=\"X[2] <= -4.501\\nentropy = 0.089\\nsamples = 89\\nvalue = [88, 1]\"] ;\n",
            "21 -> 25 ;\n",
            "26 [label=\"entropy = 0.0\\nsamples = 1\\nvalue = [0, 1]\"] ;\n",
            "25 -> 26 ;\n",
            "27 [label=\"entropy = 0.0\\nsamples = 88\\nvalue = [88, 0]\"] ;\n",
            "25 -> 27 ;\n",
            "28 [label=\"X[2] <= -1.642\\nentropy = 0.355\\nsamples = 507\\nvalue = [473, 34]\"] ;\n",
            "0 -> 28 [labeldistance=2.5, labelangle=-45, headlabel=\"False\"] ;\n",
            "29 [label=\"X[1] <= 4.941\\nentropy = 0.722\\nsamples = 170\\nvalue = [136, 34]\"] ;\n",
            "28 -> 29 ;\n",
            "30 [label=\"X[0] <= 3.782\\nentropy = 0.31\\nsamples = 36\\nvalue = [2, 34]\"] ;\n",
            "29 -> 30 ;\n",
            "31 [label=\"entropy = 0.0\\nsamples = 34\\nvalue = [0, 34]\"] ;\n",
            "30 -> 31 ;\n",
            "32 [label=\"entropy = 0.0\\nsamples = 2\\nvalue = [2, 0]\"] ;\n",
            "30 -> 32 ;\n",
            "33 [label=\"entropy = 0.0\\nsamples = 134\\nvalue = [134, 0]\"] ;\n",
            "29 -> 33 ;\n",
            "34 [label=\"entropy = 0.0\\nsamples = 337\\nvalue = [337, 0]\"] ;\n",
            "28 -> 34 ;\n",
            "}\n"
          ],
          "name": "stdout"
        }
      ]
    },
    {
      "cell_type": "markdown",
      "metadata": {
        "colab_type": "text",
        "id": "0X6_ggMHFJ0Z"
      },
      "source": [
        "Copy the code above, paste it to online graphviz service like http://viz-js.com/ and see the result."
      ]
    },
    {
      "cell_type": "markdown",
      "metadata": {
        "colab_type": "text",
        "id": "NnUDorsr8wjv"
      },
      "source": [
        "### Jypiter does it all"
      ]
    },
    {
      "cell_type": "markdown",
      "metadata": {
        "colab_type": "text",
        "id": "tZsrkGvwBBta"
      },
      "source": [
        "If we want to display the graph automatically inside Jupiter, we'll need\n",
        "* Install Graphviz binary\n",
        "* Call the Graphviz inside Jupiter and grab the result.\n",
        "\n",
        "**Note**: Google Colab does not let us install Graphviz binary, so that we cant make with work with Google Colab.\n"
      ]
    },
    {
      "cell_type": "code",
      "metadata": {
        "colab_type": "code",
        "id": "ASScryziBlf8",
        "outputId": "698e2093-e39e-4c96-951e-1f4a190451c5",
        "colab": {
          "base_uri": "https://localhost:8080/",
          "height": 34
        }
      },
      "source": [
        "\"\"\"\n",
        "Install lib that call Graphviz binary\n",
        "\"\"\"\n",
        "\n",
        "!pip3 install graphviz"
      ],
      "execution_count": 16,
      "outputs": [
        {
          "output_type": "stream",
          "text": [
            "Requirement already satisfied: graphviz in /usr/local/lib/python3.6/dist-packages (0.10.1)\n"
          ],
          "name": "stdout"
        }
      ]
    },
    {
      "cell_type": "code",
      "metadata": {
        "colab_type": "code",
        "id": "1eRgxNHtQosy",
        "colab": {
          "base_uri": "https://localhost:8080/",
          "height": 1000
        },
        "outputId": "3479fe06-5186-40f8-b8c1-5233022e4b60"
      },
      "source": [
        "import graphviz \n",
        "graph = graphviz.Source(dot_data)\n",
        "graph"
      ],
      "execution_count": 17,
      "outputs": [
        {
          "output_type": "execute_result",
          "data": {
            "text/plain": [
              "<graphviz.files.Source at 0x7f3362a94128>"
            ],
            "image/svg+xml": "<?xml version=\"1.0\" encoding=\"UTF-8\" standalone=\"no\"?>\n<!DOCTYPE svg PUBLIC \"-//W3C//DTD SVG 1.1//EN\"\n \"http://www.w3.org/Graphics/SVG/1.1/DTD/svg11.dtd\">\n<!-- Generated by graphviz version 2.40.1 (20161225.0304)\n -->\n<!-- Title: Tree Pages: 1 -->\n<svg width=\"1628pt\" height=\"789pt\"\n viewBox=\"0.00 0.00 1628.00 789.00\" xmlns=\"http://www.w3.org/2000/svg\" xmlns:xlink=\"http://www.w3.org/1999/xlink\">\n<g id=\"graph0\" class=\"graph\" transform=\"scale(1 1) rotate(0) translate(4 785)\">\n<title>Tree</title>\n<polygon fill=\"#ffffff\" stroke=\"transparent\" points=\"-4,4 -4,-785 1624,-785 1624,4 -4,4\"/>\n<!-- 0 -->\n<g id=\"node1\" class=\"node\">\n<title>0</title>\n<polygon fill=\"none\" stroke=\"#000000\" points=\"903.5,-781 778.5,-781 778.5,-713 903.5,-713 903.5,-781\"/>\n<text text-anchor=\"middle\" x=\"841\" y=\"-765.8\" font-family=\"Times,serif\" font-size=\"14.00\" fill=\"#000000\">X[0] &lt;= 0.32</text>\n<text text-anchor=\"middle\" x=\"841\" y=\"-750.8\" font-family=\"Times,serif\" font-size=\"14.00\" fill=\"#000000\">gini = 0.494</text>\n<text text-anchor=\"middle\" x=\"841\" y=\"-735.8\" font-family=\"Times,serif\" font-size=\"14.00\" fill=\"#000000\">samples = 1097</text>\n<text text-anchor=\"middle\" x=\"841\" y=\"-720.8\" font-family=\"Times,serif\" font-size=\"14.00\" fill=\"#000000\">value = [607, 490]</text>\n</g>\n<!-- 1 -->\n<g id=\"node2\" class=\"node\">\n<title>1</title>\n<polygon fill=\"none\" stroke=\"#000000\" points=\"783.5,-677 666.5,-677 666.5,-609 783.5,-609 783.5,-677\"/>\n<text text-anchor=\"middle\" x=\"725\" y=\"-661.8\" font-family=\"Times,serif\" font-size=\"14.00\" fill=\"#000000\">X[1] &lt;= 7.293</text>\n<text text-anchor=\"middle\" x=\"725\" y=\"-646.8\" font-family=\"Times,serif\" font-size=\"14.00\" fill=\"#000000\">gini = 0.292</text>\n<text text-anchor=\"middle\" x=\"725\" y=\"-631.8\" font-family=\"Times,serif\" font-size=\"14.00\" fill=\"#000000\">samples = 519</text>\n<text text-anchor=\"middle\" x=\"725\" y=\"-616.8\" font-family=\"Times,serif\" font-size=\"14.00\" fill=\"#000000\">value = [92, 427]</text>\n</g>\n<!-- 0&#45;&gt;1 -->\n<g id=\"edge1\" class=\"edge\">\n<title>0&#45;&gt;1</title>\n<path fill=\"none\" stroke=\"#000000\" d=\"M803.0173,-712.9465C792.7023,-703.6986 781.4246,-693.5876 770.7301,-683.9994\"/>\n<polygon fill=\"#000000\" stroke=\"#000000\" points=\"772.8502,-681.1995 763.0681,-677.13 768.1774,-686.4115 772.8502,-681.1995\"/>\n<text text-anchor=\"middle\" x=\"764.4297\" y=\"-698.3929\" font-family=\"Times,serif\" font-size=\"14.00\" fill=\"#000000\">True</text>\n</g>\n<!-- 24 -->\n<g id=\"node25\" class=\"node\">\n<title>24</title>\n<polygon fill=\"none\" stroke=\"#000000\" points=\"1023.5,-677 906.5,-677 906.5,-609 1023.5,-609 1023.5,-677\"/>\n<text text-anchor=\"middle\" x=\"965\" y=\"-661.8\" font-family=\"Times,serif\" font-size=\"14.00\" fill=\"#000000\">X[2] &lt;= &#45;4.386</text>\n<text text-anchor=\"middle\" x=\"965\" y=\"-646.8\" font-family=\"Times,serif\" font-size=\"14.00\" fill=\"#000000\">gini = 0.194</text>\n<text text-anchor=\"middle\" x=\"965\" y=\"-631.8\" font-family=\"Times,serif\" font-size=\"14.00\" fill=\"#000000\">samples = 578</text>\n<text text-anchor=\"middle\" x=\"965\" y=\"-616.8\" font-family=\"Times,serif\" font-size=\"14.00\" fill=\"#000000\">value = [515, 63]</text>\n</g>\n<!-- 0&#45;&gt;24 -->\n<g id=\"edge24\" class=\"edge\">\n<title>0&#45;&gt;24</title>\n<path fill=\"none\" stroke=\"#000000\" d=\"M881.6022,-712.9465C892.7356,-703.6088 904.9183,-693.3911 916.4489,-683.7203\"/>\n<polygon fill=\"#000000\" stroke=\"#000000\" points=\"918.8938,-686.2378 924.3065,-677.13 914.3954,-680.8745 918.8938,-686.2378\"/>\n<text text-anchor=\"middle\" x=\"922.1219\" y=\"-698.3344\" font-family=\"Times,serif\" font-size=\"14.00\" fill=\"#000000\">False</text>\n</g>\n<!-- 2 -->\n<g id=\"node3\" class=\"node\">\n<title>2</title>\n<polygon fill=\"none\" stroke=\"#000000\" points=\"603.5,-573 486.5,-573 486.5,-505 603.5,-505 603.5,-573\"/>\n<text text-anchor=\"middle\" x=\"545\" y=\"-557.8\" font-family=\"Times,serif\" font-size=\"14.00\" fill=\"#000000\">X[0] &lt;= &#45;0.257</text>\n<text text-anchor=\"middle\" x=\"545\" y=\"-542.8\" font-family=\"Times,serif\" font-size=\"14.00\" fill=\"#000000\">gini = 0.116</text>\n<text text-anchor=\"middle\" x=\"545\" y=\"-527.8\" font-family=\"Times,serif\" font-size=\"14.00\" fill=\"#000000\">samples = 435</text>\n<text text-anchor=\"middle\" x=\"545\" y=\"-512.8\" font-family=\"Times,serif\" font-size=\"14.00\" fill=\"#000000\">value = [27, 408]</text>\n</g>\n<!-- 1&#45;&gt;2 -->\n<g id=\"edge2\" class=\"edge\">\n<title>1&#45;&gt;2</title>\n<path fill=\"none\" stroke=\"#000000\" d=\"M666.0613,-608.9465C649.0356,-599.1095 630.3196,-588.2958 612.8005,-578.1736\"/>\n<polygon fill=\"#000000\" stroke=\"#000000\" points=\"614.1732,-574.9246 603.7636,-572.9523 610.6713,-580.9856 614.1732,-574.9246\"/>\n</g>\n<!-- 21 -->\n<g id=\"node22\" class=\"node\">\n<title>21</title>\n<polygon fill=\"none\" stroke=\"#000000\" points=\"780,-573 670,-573 670,-505 780,-505 780,-573\"/>\n<text text-anchor=\"middle\" x=\"725\" y=\"-557.8\" font-family=\"Times,serif\" font-size=\"14.00\" fill=\"#000000\">X[0] &lt;= &#45;4.382</text>\n<text text-anchor=\"middle\" x=\"725\" y=\"-542.8\" font-family=\"Times,serif\" font-size=\"14.00\" fill=\"#000000\">gini = 0.35</text>\n<text text-anchor=\"middle\" x=\"725\" y=\"-527.8\" font-family=\"Times,serif\" font-size=\"14.00\" fill=\"#000000\">samples = 84</text>\n<text text-anchor=\"middle\" x=\"725\" y=\"-512.8\" font-family=\"Times,serif\" font-size=\"14.00\" fill=\"#000000\">value = [65, 19]</text>\n</g>\n<!-- 1&#45;&gt;21 -->\n<g id=\"edge21\" class=\"edge\">\n<title>1&#45;&gt;21</title>\n<path fill=\"none\" stroke=\"#000000\" d=\"M725,-608.9465C725,-600.776 725,-591.9318 725,-583.3697\"/>\n<polygon fill=\"#000000\" stroke=\"#000000\" points=\"728.5001,-583.13 725,-573.13 721.5001,-583.13 728.5001,-583.13\"/>\n</g>\n<!-- 3 -->\n<g id=\"node4\" class=\"node\">\n<title>3</title>\n<polygon fill=\"none\" stroke=\"#000000\" points=\"418.5,-469 301.5,-469 301.5,-401 418.5,-401 418.5,-469\"/>\n<text text-anchor=\"middle\" x=\"360\" y=\"-453.8\" font-family=\"Times,serif\" font-size=\"14.00\" fill=\"#000000\">X[2] &lt;= 6.216</text>\n<text text-anchor=\"middle\" x=\"360\" y=\"-438.8\" font-family=\"Times,serif\" font-size=\"14.00\" fill=\"#000000\">gini = 0.065</text>\n<text text-anchor=\"middle\" x=\"360\" y=\"-423.8\" font-family=\"Times,serif\" font-size=\"14.00\" fill=\"#000000\">samples = 384</text>\n<text text-anchor=\"middle\" x=\"360\" y=\"-408.8\" font-family=\"Times,serif\" font-size=\"14.00\" fill=\"#000000\">value = [13, 371]</text>\n</g>\n<!-- 2&#45;&gt;3 -->\n<g id=\"edge3\" class=\"edge\">\n<title>2&#45;&gt;3</title>\n<path fill=\"none\" stroke=\"#000000\" d=\"M486.4648,-506.0938C467.7379,-495.5662 446.8542,-483.8261 427.5397,-472.9683\"/>\n<polygon fill=\"#000000\" stroke=\"#000000\" points=\"429.2215,-469.8986 418.7893,-468.0491 425.7912,-476.0005 429.2215,-469.8986\"/>\n</g>\n<!-- 16 -->\n<g id=\"node17\" class=\"node\">\n<title>16</title>\n<polygon fill=\"none\" stroke=\"#000000\" points=\"600,-469 490,-469 490,-401 600,-401 600,-469\"/>\n<text text-anchor=\"middle\" x=\"545\" y=\"-453.8\" font-family=\"Times,serif\" font-size=\"14.00\" fill=\"#000000\">X[2] &lt;= 3.521</text>\n<text text-anchor=\"middle\" x=\"545\" y=\"-438.8\" font-family=\"Times,serif\" font-size=\"14.00\" fill=\"#000000\">gini = 0.398</text>\n<text text-anchor=\"middle\" x=\"545\" y=\"-423.8\" font-family=\"Times,serif\" font-size=\"14.00\" fill=\"#000000\">samples = 51</text>\n<text text-anchor=\"middle\" x=\"545\" y=\"-408.8\" font-family=\"Times,serif\" font-size=\"14.00\" fill=\"#000000\">value = [14, 37]</text>\n</g>\n<!-- 2&#45;&gt;16 -->\n<g id=\"edge16\" class=\"edge\">\n<title>2&#45;&gt;16</title>\n<path fill=\"none\" stroke=\"#000000\" d=\"M545,-504.9465C545,-496.776 545,-487.9318 545,-479.3697\"/>\n<polygon fill=\"#000000\" stroke=\"#000000\" points=\"548.5001,-479.13 545,-469.13 541.5001,-479.13 548.5001,-479.13\"/>\n</g>\n<!-- 4 -->\n<g id=\"node5\" class=\"node\">\n<title>4</title>\n<polygon fill=\"none\" stroke=\"#000000\" points=\"231,-365 121,-365 121,-297 231,-297 231,-365\"/>\n<text text-anchor=\"middle\" x=\"176\" y=\"-349.8\" font-family=\"Times,serif\" font-size=\"14.00\" fill=\"#000000\">X[0] &lt;= &#45;0.362</text>\n<text text-anchor=\"middle\" x=\"176\" y=\"-334.8\" font-family=\"Times,serif\" font-size=\"14.00\" fill=\"#000000\">gini = 0.007</text>\n<text text-anchor=\"middle\" x=\"176\" y=\"-319.8\" font-family=\"Times,serif\" font-size=\"14.00\" fill=\"#000000\">samples = 270</text>\n<text text-anchor=\"middle\" x=\"176\" y=\"-304.8\" font-family=\"Times,serif\" font-size=\"14.00\" fill=\"#000000\">value = [1, 269]</text>\n</g>\n<!-- 3&#45;&gt;4 -->\n<g id=\"edge4\" class=\"edge\">\n<title>3&#45;&gt;4</title>\n<path fill=\"none\" stroke=\"#000000\" d=\"M301.2754,-401.8078C281.6695,-390.7263 259.7336,-378.3277 239.7632,-367.0401\"/>\n<polygon fill=\"#000000\" stroke=\"#000000\" points=\"241.4684,-363.9835 231.0405,-362.1099 238.024,-370.0775 241.4684,-363.9835\"/>\n</g>\n<!-- 9 -->\n<g id=\"node10\" class=\"node\">\n<title>9</title>\n<polygon fill=\"none\" stroke=\"#000000\" points=\"418.5,-365 301.5,-365 301.5,-297 418.5,-297 418.5,-365\"/>\n<text text-anchor=\"middle\" x=\"360\" y=\"-349.8\" font-family=\"Times,serif\" font-size=\"14.00\" fill=\"#000000\">X[1] &lt;= &#45;4.675</text>\n<text text-anchor=\"middle\" x=\"360\" y=\"-334.8\" font-family=\"Times,serif\" font-size=\"14.00\" fill=\"#000000\">gini = 0.188</text>\n<text text-anchor=\"middle\" x=\"360\" y=\"-319.8\" font-family=\"Times,serif\" font-size=\"14.00\" fill=\"#000000\">samples = 114</text>\n<text text-anchor=\"middle\" x=\"360\" y=\"-304.8\" font-family=\"Times,serif\" font-size=\"14.00\" fill=\"#000000\">value = [12, 102]</text>\n</g>\n<!-- 3&#45;&gt;9 -->\n<g id=\"edge9\" class=\"edge\">\n<title>3&#45;&gt;9</title>\n<path fill=\"none\" stroke=\"#000000\" d=\"M360,-400.9465C360,-392.776 360,-383.9318 360,-375.3697\"/>\n<polygon fill=\"#000000\" stroke=\"#000000\" points=\"363.5001,-375.13 360,-365.13 356.5001,-375.13 363.5001,-375.13\"/>\n</g>\n<!-- 5 -->\n<g id=\"node6\" class=\"node\">\n<title>5</title>\n<polygon fill=\"none\" stroke=\"#000000\" points=\"110,-253.5 0,-253.5 0,-200.5 110,-200.5 110,-253.5\"/>\n<text text-anchor=\"middle\" x=\"55\" y=\"-238.3\" font-family=\"Times,serif\" font-size=\"14.00\" fill=\"#000000\">gini = 0.0</text>\n<text text-anchor=\"middle\" x=\"55\" y=\"-223.3\" font-family=\"Times,serif\" font-size=\"14.00\" fill=\"#000000\">samples = 262</text>\n<text text-anchor=\"middle\" x=\"55\" y=\"-208.3\" font-family=\"Times,serif\" font-size=\"14.00\" fill=\"#000000\">value = [0, 262]</text>\n</g>\n<!-- 4&#45;&gt;5 -->\n<g id=\"edge5\" class=\"edge\">\n<title>4&#45;&gt;5</title>\n<path fill=\"none\" stroke=\"#000000\" d=\"M136.3801,-296.9465C122.6676,-285.1606 107.3239,-271.9726 93.6873,-260.2519\"/>\n<polygon fill=\"#000000\" stroke=\"#000000\" points=\"95.7459,-257.4061 85.8808,-253.5422 91.1831,-262.7147 95.7459,-257.4061\"/>\n</g>\n<!-- 6 -->\n<g id=\"node7\" class=\"node\">\n<title>6</title>\n<polygon fill=\"none\" stroke=\"#000000\" points=\"223.5,-261 128.5,-261 128.5,-193 223.5,-193 223.5,-261\"/>\n<text text-anchor=\"middle\" x=\"176\" y=\"-245.8\" font-family=\"Times,serif\" font-size=\"14.00\" fill=\"#000000\">X[2] &lt;= 2.61</text>\n<text text-anchor=\"middle\" x=\"176\" y=\"-230.8\" font-family=\"Times,serif\" font-size=\"14.00\" fill=\"#000000\">gini = 0.219</text>\n<text text-anchor=\"middle\" x=\"176\" y=\"-215.8\" font-family=\"Times,serif\" font-size=\"14.00\" fill=\"#000000\">samples = 8</text>\n<text text-anchor=\"middle\" x=\"176\" y=\"-200.8\" font-family=\"Times,serif\" font-size=\"14.00\" fill=\"#000000\">value = [1, 7]</text>\n</g>\n<!-- 4&#45;&gt;6 -->\n<g id=\"edge6\" class=\"edge\">\n<title>4&#45;&gt;6</title>\n<path fill=\"none\" stroke=\"#000000\" d=\"M176,-296.9465C176,-288.776 176,-279.9318 176,-271.3697\"/>\n<polygon fill=\"#000000\" stroke=\"#000000\" points=\"179.5001,-271.13 176,-261.13 172.5001,-271.13 179.5001,-271.13\"/>\n</g>\n<!-- 7 -->\n<g id=\"node8\" class=\"node\">\n<title>7</title>\n<polygon fill=\"none\" stroke=\"#000000\" points=\"167.5,-149.5 72.5,-149.5 72.5,-96.5 167.5,-96.5 167.5,-149.5\"/>\n<text text-anchor=\"middle\" x=\"120\" y=\"-134.3\" font-family=\"Times,serif\" font-size=\"14.00\" fill=\"#000000\">gini = 0.0</text>\n<text text-anchor=\"middle\" x=\"120\" y=\"-119.3\" font-family=\"Times,serif\" font-size=\"14.00\" fill=\"#000000\">samples = 7</text>\n<text text-anchor=\"middle\" x=\"120\" y=\"-104.3\" font-family=\"Times,serif\" font-size=\"14.00\" fill=\"#000000\">value = [0, 7]</text>\n</g>\n<!-- 6&#45;&gt;7 -->\n<g id=\"edge7\" class=\"edge\">\n<title>6&#45;&gt;7</title>\n<path fill=\"none\" stroke=\"#000000\" d=\"M157.6635,-192.9465C151.7324,-181.9316 145.1419,-169.6922 139.1532,-158.5703\"/>\n<polygon fill=\"#000000\" stroke=\"#000000\" points=\"142.1146,-156.6875 134.2919,-149.5422 135.9513,-160.0063 142.1146,-156.6875\"/>\n</g>\n<!-- 8 -->\n<g id=\"node9\" class=\"node\">\n<title>8</title>\n<polygon fill=\"none\" stroke=\"#000000\" points=\"280.5,-149.5 185.5,-149.5 185.5,-96.5 280.5,-96.5 280.5,-149.5\"/>\n<text text-anchor=\"middle\" x=\"233\" y=\"-134.3\" font-family=\"Times,serif\" font-size=\"14.00\" fill=\"#000000\">gini = 0.0</text>\n<text text-anchor=\"middle\" x=\"233\" y=\"-119.3\" font-family=\"Times,serif\" font-size=\"14.00\" fill=\"#000000\">samples = 1</text>\n<text text-anchor=\"middle\" x=\"233\" y=\"-104.3\" font-family=\"Times,serif\" font-size=\"14.00\" fill=\"#000000\">value = [1, 0]</text>\n</g>\n<!-- 6&#45;&gt;8 -->\n<g id=\"edge8\" class=\"edge\">\n<title>6&#45;&gt;8</title>\n<path fill=\"none\" stroke=\"#000000\" d=\"M194.6639,-192.9465C200.7009,-181.9316 207.4091,-169.6922 213.5047,-158.5703\"/>\n<polygon fill=\"#000000\" stroke=\"#000000\" points=\"216.7158,-159.9936 218.4529,-149.5422 210.5773,-156.6292 216.7158,-159.9936\"/>\n</g>\n<!-- 10 -->\n<g id=\"node11\" class=\"node\">\n<title>10</title>\n<polygon fill=\"none\" stroke=\"#000000\" points=\"352,-253.5 242,-253.5 242,-200.5 352,-200.5 352,-253.5\"/>\n<text text-anchor=\"middle\" x=\"297\" y=\"-238.3\" font-family=\"Times,serif\" font-size=\"14.00\" fill=\"#000000\">gini = 0.0</text>\n<text text-anchor=\"middle\" x=\"297\" y=\"-223.3\" font-family=\"Times,serif\" font-size=\"14.00\" fill=\"#000000\">samples = 101</text>\n<text text-anchor=\"middle\" x=\"297\" y=\"-208.3\" font-family=\"Times,serif\" font-size=\"14.00\" fill=\"#000000\">value = [0, 101]</text>\n</g>\n<!-- 9&#45;&gt;10 -->\n<g id=\"edge10\" class=\"edge\">\n<title>9&#45;&gt;10</title>\n<path fill=\"none\" stroke=\"#000000\" d=\"M339.3714,-296.9465C332.6322,-285.8215 325.1363,-273.4473 318.3455,-262.237\"/>\n<polygon fill=\"#000000\" stroke=\"#000000\" points=\"321.2533,-260.2818 313.0784,-253.5422 315.2661,-263.9087 321.2533,-260.2818\"/>\n</g>\n<!-- 11 -->\n<g id=\"node12\" class=\"node\">\n<title>11</title>\n<polygon fill=\"none\" stroke=\"#000000\" points=\"476,-261 370,-261 370,-193 476,-193 476,-261\"/>\n<text text-anchor=\"middle\" x=\"423\" y=\"-245.8\" font-family=\"Times,serif\" font-size=\"14.00\" fill=\"#000000\">X[1] &lt;= &#45;2.962</text>\n<text text-anchor=\"middle\" x=\"423\" y=\"-230.8\" font-family=\"Times,serif\" font-size=\"14.00\" fill=\"#000000\">gini = 0.142</text>\n<text text-anchor=\"middle\" x=\"423\" y=\"-215.8\" font-family=\"Times,serif\" font-size=\"14.00\" fill=\"#000000\">samples = 13</text>\n<text text-anchor=\"middle\" x=\"423\" y=\"-200.8\" font-family=\"Times,serif\" font-size=\"14.00\" fill=\"#000000\">value = [12, 1]</text>\n</g>\n<!-- 9&#45;&gt;11 -->\n<g id=\"edge11\" class=\"edge\">\n<title>9&#45;&gt;11</title>\n<path fill=\"none\" stroke=\"#000000\" d=\"M380.6286,-296.9465C385.8499,-288.3271 391.5255,-278.9579 396.9755,-269.9611\"/>\n<polygon fill=\"#000000\" stroke=\"#000000\" points=\"400.1374,-271.4965 402.3251,-261.13 394.1503,-267.8697 400.1374,-271.4965\"/>\n</g>\n<!-- 12 -->\n<g id=\"node13\" class=\"node\">\n<title>12</title>\n<polygon fill=\"none\" stroke=\"#000000\" points=\"460.5,-157 365.5,-157 365.5,-89 460.5,-89 460.5,-157\"/>\n<text text-anchor=\"middle\" x=\"413\" y=\"-141.8\" font-family=\"Times,serif\" font-size=\"14.00\" fill=\"#000000\">X[2] &lt;= 7.4</text>\n<text text-anchor=\"middle\" x=\"413\" y=\"-126.8\" font-family=\"Times,serif\" font-size=\"14.00\" fill=\"#000000\">gini = 0.5</text>\n<text text-anchor=\"middle\" x=\"413\" y=\"-111.8\" font-family=\"Times,serif\" font-size=\"14.00\" fill=\"#000000\">samples = 2</text>\n<text text-anchor=\"middle\" x=\"413\" y=\"-96.8\" font-family=\"Times,serif\" font-size=\"14.00\" fill=\"#000000\">value = [1, 1]</text>\n</g>\n<!-- 11&#45;&gt;12 -->\n<g id=\"edge12\" class=\"edge\">\n<title>11&#45;&gt;12</title>\n<path fill=\"none\" stroke=\"#000000\" d=\"M419.7256,-192.9465C418.9314,-184.6863 418.0709,-175.7374 417.2392,-167.0875\"/>\n<polygon fill=\"#000000\" stroke=\"#000000\" points=\"420.7229,-166.7491 416.2817,-157.13 413.755,-167.4191 420.7229,-166.7491\"/>\n</g>\n<!-- 15 -->\n<g id=\"node16\" class=\"node\">\n<title>15</title>\n<polygon fill=\"none\" stroke=\"#000000\" points=\"579.5,-149.5 478.5,-149.5 478.5,-96.5 579.5,-96.5 579.5,-149.5\"/>\n<text text-anchor=\"middle\" x=\"529\" y=\"-134.3\" font-family=\"Times,serif\" font-size=\"14.00\" fill=\"#000000\">gini = 0.0</text>\n<text text-anchor=\"middle\" x=\"529\" y=\"-119.3\" font-family=\"Times,serif\" font-size=\"14.00\" fill=\"#000000\">samples = 11</text>\n<text text-anchor=\"middle\" x=\"529\" y=\"-104.3\" font-family=\"Times,serif\" font-size=\"14.00\" fill=\"#000000\">value = [11, 0]</text>\n</g>\n<!-- 11&#45;&gt;15 -->\n<g id=\"edge15\" class=\"edge\">\n<title>11&#45;&gt;15</title>\n<path fill=\"none\" stroke=\"#000000\" d=\"M457.7084,-192.9465C469.6087,-181.2707 482.9114,-168.219 494.7733,-156.5809\"/>\n<polygon fill=\"#000000\" stroke=\"#000000\" points=\"497.2605,-159.0439 501.9474,-149.5422 492.3581,-154.0473 497.2605,-159.0439\"/>\n</g>\n<!-- 13 -->\n<g id=\"node14\" class=\"node\">\n<title>13</title>\n<polygon fill=\"none\" stroke=\"#000000\" points=\"403.5,-53 308.5,-53 308.5,0 403.5,0 403.5,-53\"/>\n<text text-anchor=\"middle\" x=\"356\" y=\"-37.8\" font-family=\"Times,serif\" font-size=\"14.00\" fill=\"#000000\">gini = 0.0</text>\n<text text-anchor=\"middle\" x=\"356\" y=\"-22.8\" font-family=\"Times,serif\" font-size=\"14.00\" fill=\"#000000\">samples = 1</text>\n<text text-anchor=\"middle\" x=\"356\" y=\"-7.8\" font-family=\"Times,serif\" font-size=\"14.00\" fill=\"#000000\">value = [0, 1]</text>\n</g>\n<!-- 12&#45;&gt;13 -->\n<g id=\"edge13\" class=\"edge\">\n<title>12&#45;&gt;13</title>\n<path fill=\"none\" stroke=\"#000000\" d=\"M392.9039,-88.9777C387.7656,-80.2786 382.227,-70.9018 377.0425,-62.1247\"/>\n<polygon fill=\"#000000\" stroke=\"#000000\" points=\"379.899,-60.0786 371.7996,-53.2485 373.8719,-63.6387 379.899,-60.0786\"/>\n</g>\n<!-- 14 -->\n<g id=\"node15\" class=\"node\">\n<title>14</title>\n<polygon fill=\"none\" stroke=\"#000000\" points=\"516.5,-53 421.5,-53 421.5,0 516.5,0 516.5,-53\"/>\n<text text-anchor=\"middle\" x=\"469\" y=\"-37.8\" font-family=\"Times,serif\" font-size=\"14.00\" fill=\"#000000\">gini = 0.0</text>\n<text text-anchor=\"middle\" x=\"469\" y=\"-22.8\" font-family=\"Times,serif\" font-size=\"14.00\" fill=\"#000000\">samples = 1</text>\n<text text-anchor=\"middle\" x=\"469\" y=\"-7.8\" font-family=\"Times,serif\" font-size=\"14.00\" fill=\"#000000\">value = [1, 0]</text>\n</g>\n<!-- 12&#45;&gt;14 -->\n<g id=\"edge14\" class=\"edge\">\n<title>12&#45;&gt;14</title>\n<path fill=\"none\" stroke=\"#000000\" d=\"M432.7435,-88.9777C437.7917,-80.2786 443.2331,-70.9018 448.3266,-62.1247\"/>\n<polygon fill=\"#000000\" stroke=\"#000000\" points=\"451.4855,-63.6544 453.4776,-53.2485 445.4311,-60.1409 451.4855,-63.6544\"/>\n</g>\n<!-- 17 -->\n<g id=\"node18\" class=\"node\">\n<title>17</title>\n<polygon fill=\"none\" stroke=\"#000000\" points=\"596,-365 494,-365 494,-297 596,-297 596,-365\"/>\n<text text-anchor=\"middle\" x=\"545\" y=\"-349.8\" font-family=\"Times,serif\" font-size=\"14.00\" fill=\"#000000\">X[1] &lt;= 5.454</text>\n<text text-anchor=\"middle\" x=\"545\" y=\"-334.8\" font-family=\"Times,serif\" font-size=\"14.00\" fill=\"#000000\">gini = 0.268</text>\n<text text-anchor=\"middle\" x=\"545\" y=\"-319.8\" font-family=\"Times,serif\" font-size=\"14.00\" fill=\"#000000\">samples = 44</text>\n<text text-anchor=\"middle\" x=\"545\" y=\"-304.8\" font-family=\"Times,serif\" font-size=\"14.00\" fill=\"#000000\">value = [7, 37]</text>\n</g>\n<!-- 16&#45;&gt;17 -->\n<g id=\"edge17\" class=\"edge\">\n<title>16&#45;&gt;17</title>\n<path fill=\"none\" stroke=\"#000000\" d=\"M545,-400.9465C545,-392.776 545,-383.9318 545,-375.3697\"/>\n<polygon fill=\"#000000\" stroke=\"#000000\" points=\"548.5001,-375.13 545,-365.13 541.5001,-375.13 548.5001,-375.13\"/>\n</g>\n<!-- 20 -->\n<g id=\"node21\" class=\"node\">\n<title>20</title>\n<polygon fill=\"none\" stroke=\"#000000\" points=\"709.5,-357.5 614.5,-357.5 614.5,-304.5 709.5,-304.5 709.5,-357.5\"/>\n<text text-anchor=\"middle\" x=\"662\" y=\"-342.3\" font-family=\"Times,serif\" font-size=\"14.00\" fill=\"#000000\">gini = 0.0</text>\n<text text-anchor=\"middle\" x=\"662\" y=\"-327.3\" font-family=\"Times,serif\" font-size=\"14.00\" fill=\"#000000\">samples = 7</text>\n<text text-anchor=\"middle\" x=\"662\" y=\"-312.3\" font-family=\"Times,serif\" font-size=\"14.00\" fill=\"#000000\">value = [7, 0]</text>\n</g>\n<!-- 16&#45;&gt;20 -->\n<g id=\"edge20\" class=\"edge\">\n<title>16&#45;&gt;20</title>\n<path fill=\"none\" stroke=\"#000000\" d=\"M583.3102,-400.9465C596.5694,-389.1606 611.4058,-375.9726 624.5916,-364.2519\"/>\n<polygon fill=\"#000000\" stroke=\"#000000\" points=\"626.9912,-366.8018 632.1401,-357.5422 622.3407,-361.5699 626.9912,-366.8018\"/>\n</g>\n<!-- 18 -->\n<g id=\"node19\" class=\"node\">\n<title>18</title>\n<polygon fill=\"none\" stroke=\"#000000\" points=\"596,-253.5 494,-253.5 494,-200.5 596,-200.5 596,-253.5\"/>\n<text text-anchor=\"middle\" x=\"545\" y=\"-238.3\" font-family=\"Times,serif\" font-size=\"14.00\" fill=\"#000000\">gini = 0.0</text>\n<text text-anchor=\"middle\" x=\"545\" y=\"-223.3\" font-family=\"Times,serif\" font-size=\"14.00\" fill=\"#000000\">samples = 37</text>\n<text text-anchor=\"middle\" x=\"545\" y=\"-208.3\" font-family=\"Times,serif\" font-size=\"14.00\" fill=\"#000000\">value = [0, 37]</text>\n</g>\n<!-- 17&#45;&gt;18 -->\n<g id=\"edge18\" class=\"edge\">\n<title>17&#45;&gt;18</title>\n<path fill=\"none\" stroke=\"#000000\" d=\"M545,-296.9465C545,-286.2621 545,-274.4254 545,-263.5742\"/>\n<polygon fill=\"#000000\" stroke=\"#000000\" points=\"548.5001,-263.5421 545,-253.5422 541.5001,-263.5422 548.5001,-263.5421\"/>\n</g>\n<!-- 19 -->\n<g id=\"node20\" class=\"node\">\n<title>19</title>\n<polygon fill=\"none\" stroke=\"#000000\" points=\"709.5,-253.5 614.5,-253.5 614.5,-200.5 709.5,-200.5 709.5,-253.5\"/>\n<text text-anchor=\"middle\" x=\"662\" y=\"-238.3\" font-family=\"Times,serif\" font-size=\"14.00\" fill=\"#000000\">gini = 0.0</text>\n<text text-anchor=\"middle\" x=\"662\" y=\"-223.3\" font-family=\"Times,serif\" font-size=\"14.00\" fill=\"#000000\">samples = 7</text>\n<text text-anchor=\"middle\" x=\"662\" y=\"-208.3\" font-family=\"Times,serif\" font-size=\"14.00\" fill=\"#000000\">value = [7, 0]</text>\n</g>\n<!-- 17&#45;&gt;19 -->\n<g id=\"edge19\" class=\"edge\">\n<title>17&#45;&gt;19</title>\n<path fill=\"none\" stroke=\"#000000\" d=\"M583.3102,-296.9465C596.5694,-285.1606 611.4058,-271.9726 624.5916,-260.2519\"/>\n<polygon fill=\"#000000\" stroke=\"#000000\" points=\"626.9912,-262.8018 632.1401,-253.5422 622.3407,-257.5699 626.9912,-262.8018\"/>\n</g>\n<!-- 22 -->\n<g id=\"node23\" class=\"node\">\n<title>22</title>\n<polygon fill=\"none\" stroke=\"#000000\" points=\"720,-461.5 618,-461.5 618,-408.5 720,-408.5 720,-461.5\"/>\n<text text-anchor=\"middle\" x=\"669\" y=\"-446.3\" font-family=\"Times,serif\" font-size=\"14.00\" fill=\"#000000\">gini = 0.0</text>\n<text text-anchor=\"middle\" x=\"669\" y=\"-431.3\" font-family=\"Times,serif\" font-size=\"14.00\" fill=\"#000000\">samples = 19</text>\n<text text-anchor=\"middle\" x=\"669\" y=\"-416.3\" font-family=\"Times,serif\" font-size=\"14.00\" fill=\"#000000\">value = [0, 19]</text>\n</g>\n<!-- 21&#45;&gt;22 -->\n<g id=\"edge22\" class=\"edge\">\n<title>21&#45;&gt;22</title>\n<path fill=\"none\" stroke=\"#000000\" d=\"M706.6635,-504.9465C700.7324,-493.9316 694.1419,-481.6922 688.1532,-470.5703\"/>\n<polygon fill=\"#000000\" stroke=\"#000000\" points=\"691.1146,-468.6875 683.2919,-461.5422 684.9513,-472.0063 691.1146,-468.6875\"/>\n</g>\n<!-- 23 -->\n<g id=\"node24\" class=\"node\">\n<title>23</title>\n<polygon fill=\"none\" stroke=\"#000000\" points=\"840,-461.5 738,-461.5 738,-408.5 840,-408.5 840,-461.5\"/>\n<text text-anchor=\"middle\" x=\"789\" y=\"-446.3\" font-family=\"Times,serif\" font-size=\"14.00\" fill=\"#000000\">gini = 0.0</text>\n<text text-anchor=\"middle\" x=\"789\" y=\"-431.3\" font-family=\"Times,serif\" font-size=\"14.00\" fill=\"#000000\">samples = 65</text>\n<text text-anchor=\"middle\" x=\"789\" y=\"-416.3\" font-family=\"Times,serif\" font-size=\"14.00\" fill=\"#000000\">value = [65, 0]</text>\n</g>\n<!-- 21&#45;&gt;23 -->\n<g id=\"edge23\" class=\"edge\">\n<title>21&#45;&gt;23</title>\n<path fill=\"none\" stroke=\"#000000\" d=\"M745.956,-504.9465C752.8022,-493.8215 760.4171,-481.4473 767.3157,-470.237\"/>\n<polygon fill=\"#000000\" stroke=\"#000000\" points=\"770.4061,-471.8931 772.6664,-461.5422 764.4445,-468.2244 770.4061,-471.8931\"/>\n</g>\n<!-- 25 -->\n<g id=\"node26\" class=\"node\">\n<title>25</title>\n<polygon fill=\"none\" stroke=\"#000000\" points=\"1016,-573 914,-573 914,-505 1016,-505 1016,-573\"/>\n<text text-anchor=\"middle\" x=\"965\" y=\"-557.8\" font-family=\"Times,serif\" font-size=\"14.00\" fill=\"#000000\">X[1] &lt;= 7.192</text>\n<text text-anchor=\"middle\" x=\"965\" y=\"-542.8\" font-family=\"Times,serif\" font-size=\"14.00\" fill=\"#000000\">gini = 0.382</text>\n<text text-anchor=\"middle\" x=\"965\" y=\"-527.8\" font-family=\"Times,serif\" font-size=\"14.00\" fill=\"#000000\">samples = 35</text>\n<text text-anchor=\"middle\" x=\"965\" y=\"-512.8\" font-family=\"Times,serif\" font-size=\"14.00\" fill=\"#000000\">value = [9, 26]</text>\n</g>\n<!-- 24&#45;&gt;25 -->\n<g id=\"edge25\" class=\"edge\">\n<title>24&#45;&gt;25</title>\n<path fill=\"none\" stroke=\"#000000\" d=\"M965,-608.9465C965,-600.776 965,-591.9318 965,-583.3697\"/>\n<polygon fill=\"#000000\" stroke=\"#000000\" points=\"968.5001,-583.13 965,-573.13 961.5001,-583.13 968.5001,-583.13\"/>\n</g>\n<!-- 28 -->\n<g id=\"node29\" class=\"node\">\n<title>28</title>\n<polygon fill=\"none\" stroke=\"#000000\" points=\"1208.5,-573 1091.5,-573 1091.5,-505 1208.5,-505 1208.5,-573\"/>\n<text text-anchor=\"middle\" x=\"1150\" y=\"-557.8\" font-family=\"Times,serif\" font-size=\"14.00\" fill=\"#000000\">X[0] &lt;= 1.586</text>\n<text text-anchor=\"middle\" x=\"1150\" y=\"-542.8\" font-family=\"Times,serif\" font-size=\"14.00\" fill=\"#000000\">gini = 0.127</text>\n<text text-anchor=\"middle\" x=\"1150\" y=\"-527.8\" font-family=\"Times,serif\" font-size=\"14.00\" fill=\"#000000\">samples = 543</text>\n<text text-anchor=\"middle\" x=\"1150\" y=\"-512.8\" font-family=\"Times,serif\" font-size=\"14.00\" fill=\"#000000\">value = [506, 37]</text>\n</g>\n<!-- 24&#45;&gt;28 -->\n<g id=\"edge28\" class=\"edge\">\n<title>24&#45;&gt;28</title>\n<path fill=\"none\" stroke=\"#000000\" d=\"M1023.5352,-610.0938C1042.2621,-599.5662 1063.1458,-587.8261 1082.4603,-576.9683\"/>\n<polygon fill=\"#000000\" stroke=\"#000000\" points=\"1084.2088,-580.0005 1091.2107,-572.0491 1080.7785,-573.8986 1084.2088,-580.0005\"/>\n</g>\n<!-- 26 -->\n<g id=\"node27\" class=\"node\">\n<title>26</title>\n<polygon fill=\"none\" stroke=\"#000000\" points=\"960,-461.5 858,-461.5 858,-408.5 960,-408.5 960,-461.5\"/>\n<text text-anchor=\"middle\" x=\"909\" y=\"-446.3\" font-family=\"Times,serif\" font-size=\"14.00\" fill=\"#000000\">gini = 0.0</text>\n<text text-anchor=\"middle\" x=\"909\" y=\"-431.3\" font-family=\"Times,serif\" font-size=\"14.00\" fill=\"#000000\">samples = 26</text>\n<text text-anchor=\"middle\" x=\"909\" y=\"-416.3\" font-family=\"Times,serif\" font-size=\"14.00\" fill=\"#000000\">value = [0, 26]</text>\n</g>\n<!-- 25&#45;&gt;26 -->\n<g id=\"edge26\" class=\"edge\">\n<title>25&#45;&gt;26</title>\n<path fill=\"none\" stroke=\"#000000\" d=\"M946.6635,-504.9465C940.7324,-493.9316 934.1419,-481.6922 928.1532,-470.5703\"/>\n<polygon fill=\"#000000\" stroke=\"#000000\" points=\"931.1146,-468.6875 923.2919,-461.5422 924.9513,-472.0063 931.1146,-468.6875\"/>\n</g>\n<!-- 27 -->\n<g id=\"node28\" class=\"node\">\n<title>27</title>\n<polygon fill=\"none\" stroke=\"#000000\" points=\"1073.5,-461.5 978.5,-461.5 978.5,-408.5 1073.5,-408.5 1073.5,-461.5\"/>\n<text text-anchor=\"middle\" x=\"1026\" y=\"-446.3\" font-family=\"Times,serif\" font-size=\"14.00\" fill=\"#000000\">gini = 0.0</text>\n<text text-anchor=\"middle\" x=\"1026\" y=\"-431.3\" font-family=\"Times,serif\" font-size=\"14.00\" fill=\"#000000\">samples = 9</text>\n<text text-anchor=\"middle\" x=\"1026\" y=\"-416.3\" font-family=\"Times,serif\" font-size=\"14.00\" fill=\"#000000\">value = [9, 0]</text>\n</g>\n<!-- 25&#45;&gt;27 -->\n<g id=\"edge27\" class=\"edge\">\n<title>25&#45;&gt;27</title>\n<path fill=\"none\" stroke=\"#000000\" d=\"M984.9737,-504.9465C991.499,-493.8215 998.7569,-481.4473 1005.3322,-470.237\"/>\n<polygon fill=\"#000000\" stroke=\"#000000\" points=\"1008.3916,-471.9387 1010.432,-461.5422 1002.3536,-468.3971 1008.3916,-471.9387\"/>\n</g>\n<!-- 29 -->\n<g id=\"node30\" class=\"node\">\n<title>29</title>\n<polygon fill=\"none\" stroke=\"#000000\" points=\"1208.5,-469 1091.5,-469 1091.5,-401 1208.5,-401 1208.5,-469\"/>\n<text text-anchor=\"middle\" x=\"1150\" y=\"-453.8\" font-family=\"Times,serif\" font-size=\"14.00\" fill=\"#000000\">X[2] &lt;= &#45;2.272</text>\n<text text-anchor=\"middle\" x=\"1150\" y=\"-438.8\" font-family=\"Times,serif\" font-size=\"14.00\" fill=\"#000000\">gini = 0.342</text>\n<text text-anchor=\"middle\" x=\"1150\" y=\"-423.8\" font-family=\"Times,serif\" font-size=\"14.00\" fill=\"#000000\">samples = 155</text>\n<text text-anchor=\"middle\" x=\"1150\" y=\"-408.8\" font-family=\"Times,serif\" font-size=\"14.00\" fill=\"#000000\">value = [121, 34]</text>\n</g>\n<!-- 28&#45;&gt;29 -->\n<g id=\"edge29\" class=\"edge\">\n<title>28&#45;&gt;29</title>\n<path fill=\"none\" stroke=\"#000000\" d=\"M1150,-504.9465C1150,-496.776 1150,-487.9318 1150,-479.3697\"/>\n<polygon fill=\"#000000\" stroke=\"#000000\" points=\"1153.5001,-479.13 1150,-469.13 1146.5001,-479.13 1153.5001,-479.13\"/>\n</g>\n<!-- 44 -->\n<g id=\"node45\" class=\"node\">\n<title>44</title>\n<polygon fill=\"none\" stroke=\"#000000\" points=\"1495,-469 1385,-469 1385,-401 1495,-401 1495,-469\"/>\n<text text-anchor=\"middle\" x=\"1440\" y=\"-453.8\" font-family=\"Times,serif\" font-size=\"14.00\" fill=\"#000000\">X[0] &lt;= 2.037</text>\n<text text-anchor=\"middle\" x=\"1440\" y=\"-438.8\" font-family=\"Times,serif\" font-size=\"14.00\" fill=\"#000000\">gini = 0.015</text>\n<text text-anchor=\"middle\" x=\"1440\" y=\"-423.8\" font-family=\"Times,serif\" font-size=\"14.00\" fill=\"#000000\">samples = 388</text>\n<text text-anchor=\"middle\" x=\"1440\" y=\"-408.8\" font-family=\"Times,serif\" font-size=\"14.00\" fill=\"#000000\">value = [385, 3]</text>\n</g>\n<!-- 28&#45;&gt;44 -->\n<g id=\"edge44\" class=\"edge\">\n<title>28&#45;&gt;44</title>\n<path fill=\"none\" stroke=\"#000000\" d=\"M1208.6858,-517.954C1256.941,-500.6487 1325.2487,-476.1522 1375.1225,-458.2664\"/>\n<polygon fill=\"#000000\" stroke=\"#000000\" points=\"1376.6086,-461.4518 1384.8401,-454.7815 1374.2455,-454.8627 1376.6086,-461.4518\"/>\n</g>\n<!-- 30 -->\n<g id=\"node31\" class=\"node\">\n<title>30</title>\n<polygon fill=\"none\" stroke=\"#000000\" points=\"1013,-365 911,-365 911,-297 1013,-297 1013,-365\"/>\n<text text-anchor=\"middle\" x=\"962\" y=\"-349.8\" font-family=\"Times,serif\" font-size=\"14.00\" fill=\"#000000\">X[1] &lt;= 5.667</text>\n<text text-anchor=\"middle\" x=\"962\" y=\"-334.8\" font-family=\"Times,serif\" font-size=\"14.00\" fill=\"#000000\">gini = 0.245</text>\n<text text-anchor=\"middle\" x=\"962\" y=\"-319.8\" font-family=\"Times,serif\" font-size=\"14.00\" fill=\"#000000\">samples = 21</text>\n<text text-anchor=\"middle\" x=\"962\" y=\"-304.8\" font-family=\"Times,serif\" font-size=\"14.00\" fill=\"#000000\">value = [3, 18]</text>\n</g>\n<!-- 29&#45;&gt;30 -->\n<g id=\"edge30\" class=\"edge\">\n<title>29&#45;&gt;30</title>\n<path fill=\"none\" stroke=\"#000000\" d=\"M1091.2889,-402.5215C1069.3207,-390.3689 1044.3443,-376.5521 1022.24,-364.3243\"/>\n<polygon fill=\"#000000\" stroke=\"#000000\" points=\"1023.7271,-361.1471 1013.2825,-359.3691 1020.3387,-367.2724 1023.7271,-361.1471\"/>\n</g>\n<!-- 33 -->\n<g id=\"node34\" class=\"node\">\n<title>33</title>\n<polygon fill=\"none\" stroke=\"#000000\" points=\"1208,-365 1092,-365 1092,-297 1208,-297 1208,-365\"/>\n<text text-anchor=\"middle\" x=\"1150\" y=\"-349.8\" font-family=\"Times,serif\" font-size=\"14.00\" fill=\"#000000\">X[3] &lt;= 0.082</text>\n<text text-anchor=\"middle\" x=\"1150\" y=\"-334.8\" font-family=\"Times,serif\" font-size=\"14.00\" fill=\"#000000\">gini = 0.21</text>\n<text text-anchor=\"middle\" x=\"1150\" y=\"-319.8\" font-family=\"Times,serif\" font-size=\"14.00\" fill=\"#000000\">samples = 134</text>\n<text text-anchor=\"middle\" x=\"1150\" y=\"-304.8\" font-family=\"Times,serif\" font-size=\"14.00\" fill=\"#000000\">value = [118, 16]</text>\n</g>\n<!-- 29&#45;&gt;33 -->\n<g id=\"edge33\" class=\"edge\">\n<title>29&#45;&gt;33</title>\n<path fill=\"none\" stroke=\"#000000\" d=\"M1150,-400.9465C1150,-392.776 1150,-383.9318 1150,-375.3697\"/>\n<polygon fill=\"#000000\" stroke=\"#000000\" points=\"1153.5001,-375.13 1150,-365.13 1146.5001,-375.13 1153.5001,-375.13\"/>\n</g>\n<!-- 31 -->\n<g id=\"node32\" class=\"node\">\n<title>31</title>\n<polygon fill=\"none\" stroke=\"#000000\" points=\"896,-253.5 794,-253.5 794,-200.5 896,-200.5 896,-253.5\"/>\n<text text-anchor=\"middle\" x=\"845\" y=\"-238.3\" font-family=\"Times,serif\" font-size=\"14.00\" fill=\"#000000\">gini = 0.0</text>\n<text text-anchor=\"middle\" x=\"845\" y=\"-223.3\" font-family=\"Times,serif\" font-size=\"14.00\" fill=\"#000000\">samples = 18</text>\n<text text-anchor=\"middle\" x=\"845\" y=\"-208.3\" font-family=\"Times,serif\" font-size=\"14.00\" fill=\"#000000\">value = [0, 18]</text>\n</g>\n<!-- 30&#45;&gt;31 -->\n<g id=\"edge31\" class=\"edge\">\n<title>30&#45;&gt;31</title>\n<path fill=\"none\" stroke=\"#000000\" d=\"M923.6898,-296.9465C910.4306,-285.1606 895.5942,-271.9726 882.4084,-260.2519\"/>\n<polygon fill=\"#000000\" stroke=\"#000000\" points=\"884.6593,-257.5699 874.8599,-253.5422 880.0088,-262.8018 884.6593,-257.5699\"/>\n</g>\n<!-- 32 -->\n<g id=\"node33\" class=\"node\">\n<title>32</title>\n<polygon fill=\"none\" stroke=\"#000000\" points=\"1009.5,-253.5 914.5,-253.5 914.5,-200.5 1009.5,-200.5 1009.5,-253.5\"/>\n<text text-anchor=\"middle\" x=\"962\" y=\"-238.3\" font-family=\"Times,serif\" font-size=\"14.00\" fill=\"#000000\">gini = 0.0</text>\n<text text-anchor=\"middle\" x=\"962\" y=\"-223.3\" font-family=\"Times,serif\" font-size=\"14.00\" fill=\"#000000\">samples = 3</text>\n<text text-anchor=\"middle\" x=\"962\" y=\"-208.3\" font-family=\"Times,serif\" font-size=\"14.00\" fill=\"#000000\">value = [3, 0]</text>\n</g>\n<!-- 30&#45;&gt;32 -->\n<g id=\"edge32\" class=\"edge\">\n<title>30&#45;&gt;32</title>\n<path fill=\"none\" stroke=\"#000000\" d=\"M962,-296.9465C962,-286.2621 962,-274.4254 962,-263.5742\"/>\n<polygon fill=\"#000000\" stroke=\"#000000\" points=\"965.5001,-263.5421 962,-253.5422 958.5001,-263.5422 965.5001,-263.5421\"/>\n</g>\n<!-- 34 -->\n<g id=\"node35\" class=\"node\">\n<title>34</title>\n<polygon fill=\"none\" stroke=\"#000000\" points=\"1138,-261 1028,-261 1028,-193 1138,-193 1138,-261\"/>\n<text text-anchor=\"middle\" x=\"1083\" y=\"-245.8\" font-family=\"Times,serif\" font-size=\"14.00\" fill=\"#000000\">X[2] &lt;= &#45;1.426</text>\n<text text-anchor=\"middle\" x=\"1083\" y=\"-230.8\" font-family=\"Times,serif\" font-size=\"14.00\" fill=\"#000000\">gini = 0.019</text>\n<text text-anchor=\"middle\" x=\"1083\" y=\"-215.8\" font-family=\"Times,serif\" font-size=\"14.00\" fill=\"#000000\">samples = 102</text>\n<text text-anchor=\"middle\" x=\"1083\" y=\"-200.8\" font-family=\"Times,serif\" font-size=\"14.00\" fill=\"#000000\">value = [101, 1]</text>\n</g>\n<!-- 33&#45;&gt;34 -->\n<g id=\"edge34\" class=\"edge\">\n<title>33&#45;&gt;34</title>\n<path fill=\"none\" stroke=\"#000000\" d=\"M1128.0617,-296.9465C1122.451,-288.2373 1116.3471,-278.7626 1110.4958,-269.6801\"/>\n<polygon fill=\"#000000\" stroke=\"#000000\" points=\"1113.3457,-267.641 1104.9876,-261.13 1107.4611,-271.4321 1113.3457,-267.641\"/>\n</g>\n<!-- 39 -->\n<g id=\"node40\" class=\"node\">\n<title>39</title>\n<polygon fill=\"none\" stroke=\"#000000\" points=\"1266,-261 1156,-261 1156,-193 1266,-193 1266,-261\"/>\n<text text-anchor=\"middle\" x=\"1211\" y=\"-245.8\" font-family=\"Times,serif\" font-size=\"14.00\" fill=\"#000000\">X[2] &lt;= 1.853</text>\n<text text-anchor=\"middle\" x=\"1211\" y=\"-230.8\" font-family=\"Times,serif\" font-size=\"14.00\" fill=\"#000000\">gini = 0.498</text>\n<text text-anchor=\"middle\" x=\"1211\" y=\"-215.8\" font-family=\"Times,serif\" font-size=\"14.00\" fill=\"#000000\">samples = 32</text>\n<text text-anchor=\"middle\" x=\"1211\" y=\"-200.8\" font-family=\"Times,serif\" font-size=\"14.00\" fill=\"#000000\">value = [17, 15]</text>\n</g>\n<!-- 33&#45;&gt;39 -->\n<g id=\"edge39\" class=\"edge\">\n<title>33&#45;&gt;39</title>\n<path fill=\"none\" stroke=\"#000000\" d=\"M1169.9737,-296.9465C1175.0293,-288.3271 1180.5247,-278.9579 1185.8017,-269.9611\"/>\n<polygon fill=\"#000000\" stroke=\"#000000\" points=\"1188.9411,-271.5265 1190.9814,-261.13 1182.9031,-267.985 1188.9411,-271.5265\"/>\n</g>\n<!-- 35 -->\n<g id=\"node36\" class=\"node\">\n<title>35</title>\n<polygon fill=\"none\" stroke=\"#000000\" points=\"1014,-157 912,-157 912,-89 1014,-89 1014,-157\"/>\n<text text-anchor=\"middle\" x=\"963\" y=\"-141.8\" font-family=\"Times,serif\" font-size=\"14.00\" fill=\"#000000\">X[0] &lt;= 0.49</text>\n<text text-anchor=\"middle\" x=\"963\" y=\"-126.8\" font-family=\"Times,serif\" font-size=\"14.00\" fill=\"#000000\">gini = 0.124</text>\n<text text-anchor=\"middle\" x=\"963\" y=\"-111.8\" font-family=\"Times,serif\" font-size=\"14.00\" fill=\"#000000\">samples = 15</text>\n<text text-anchor=\"middle\" x=\"963\" y=\"-96.8\" font-family=\"Times,serif\" font-size=\"14.00\" fill=\"#000000\">value = [14, 1]</text>\n</g>\n<!-- 34&#45;&gt;35 -->\n<g id=\"edge35\" class=\"edge\">\n<title>34&#45;&gt;35</title>\n<path fill=\"none\" stroke=\"#000000\" d=\"M1043.7075,-192.9465C1032.9333,-183.6088 1021.1436,-173.3911 1009.985,-163.7203\"/>\n<polygon fill=\"#000000\" stroke=\"#000000\" points=\"1012.2299,-161.0344 1002.3808,-157.13 1007.6454,-166.3243 1012.2299,-161.0344\"/>\n</g>\n<!-- 38 -->\n<g id=\"node39\" class=\"node\">\n<title>38</title>\n<polygon fill=\"none\" stroke=\"#000000\" points=\"1134,-149.5 1032,-149.5 1032,-96.5 1134,-96.5 1134,-149.5\"/>\n<text text-anchor=\"middle\" x=\"1083\" y=\"-134.3\" font-family=\"Times,serif\" font-size=\"14.00\" fill=\"#000000\">gini = 0.0</text>\n<text text-anchor=\"middle\" x=\"1083\" y=\"-119.3\" font-family=\"Times,serif\" font-size=\"14.00\" fill=\"#000000\">samples = 87</text>\n<text text-anchor=\"middle\" x=\"1083\" y=\"-104.3\" font-family=\"Times,serif\" font-size=\"14.00\" fill=\"#000000\">value = [87, 0]</text>\n</g>\n<!-- 34&#45;&gt;38 -->\n<g id=\"edge38\" class=\"edge\">\n<title>34&#45;&gt;38</title>\n<path fill=\"none\" stroke=\"#000000\" d=\"M1083,-192.9465C1083,-182.2621 1083,-170.4254 1083,-159.5742\"/>\n<polygon fill=\"#000000\" stroke=\"#000000\" points=\"1086.5001,-159.5421 1083,-149.5422 1079.5001,-159.5422 1086.5001,-159.5421\"/>\n</g>\n<!-- 36 -->\n<g id=\"node37\" class=\"node\">\n<title>36</title>\n<polygon fill=\"none\" stroke=\"#000000\" points=\"952.5,-53 857.5,-53 857.5,0 952.5,0 952.5,-53\"/>\n<text text-anchor=\"middle\" x=\"905\" y=\"-37.8\" font-family=\"Times,serif\" font-size=\"14.00\" fill=\"#000000\">gini = 0.0</text>\n<text text-anchor=\"middle\" x=\"905\" y=\"-22.8\" font-family=\"Times,serif\" font-size=\"14.00\" fill=\"#000000\">samples = 1</text>\n<text text-anchor=\"middle\" x=\"905\" y=\"-7.8\" font-family=\"Times,serif\" font-size=\"14.00\" fill=\"#000000\">value = [0, 1]</text>\n</g>\n<!-- 35&#45;&gt;36 -->\n<g id=\"edge36\" class=\"edge\">\n<title>35&#45;&gt;36</title>\n<path fill=\"none\" stroke=\"#000000\" d=\"M942.5514,-88.9777C937.2678,-80.187 931.5684,-70.7044 926.2452,-61.8477\"/>\n<polygon fill=\"#000000\" stroke=\"#000000\" points=\"929.2282,-60.0165 921.0768,-53.2485 923.2285,-63.6225 929.2282,-60.0165\"/>\n</g>\n<!-- 37 -->\n<g id=\"node38\" class=\"node\">\n<title>37</title>\n<polygon fill=\"none\" stroke=\"#000000\" points=\"1073,-53 971,-53 971,0 1073,0 1073,-53\"/>\n<text text-anchor=\"middle\" x=\"1022\" y=\"-37.8\" font-family=\"Times,serif\" font-size=\"14.00\" fill=\"#000000\">gini = 0.0</text>\n<text text-anchor=\"middle\" x=\"1022\" y=\"-22.8\" font-family=\"Times,serif\" font-size=\"14.00\" fill=\"#000000\">samples = 14</text>\n<text text-anchor=\"middle\" x=\"1022\" y=\"-7.8\" font-family=\"Times,serif\" font-size=\"14.00\" fill=\"#000000\">value = [14, 0]</text>\n</g>\n<!-- 35&#45;&gt;37 -->\n<g id=\"edge37\" class=\"edge\">\n<title>35&#45;&gt;37</title>\n<path fill=\"none\" stroke=\"#000000\" d=\"M983.8012,-88.9777C989.1758,-80.187 994.9735,-70.7044 1000.3885,-61.8477\"/>\n<polygon fill=\"#000000\" stroke=\"#000000\" points=\"1003.4158,-63.6059 1005.646,-53.2485 997.4436,-59.9545 1003.4158,-63.6059\"/>\n</g>\n<!-- 40 -->\n<g id=\"node41\" class=\"node\">\n<title>40</title>\n<polygon fill=\"none\" stroke=\"#000000\" points=\"1254,-157 1152,-157 1152,-89 1254,-89 1254,-157\"/>\n<text text-anchor=\"middle\" x=\"1203\" y=\"-141.8\" font-family=\"Times,serif\" font-size=\"14.00\" fill=\"#000000\">X[1] &lt;= 3.559</text>\n<text text-anchor=\"middle\" x=\"1203\" y=\"-126.8\" font-family=\"Times,serif\" font-size=\"14.00\" fill=\"#000000\">gini = 0.208</text>\n<text text-anchor=\"middle\" x=\"1203\" y=\"-111.8\" font-family=\"Times,serif\" font-size=\"14.00\" fill=\"#000000\">samples = 17</text>\n<text text-anchor=\"middle\" x=\"1203\" y=\"-96.8\" font-family=\"Times,serif\" font-size=\"14.00\" fill=\"#000000\">value = [2, 15]</text>\n</g>\n<!-- 39&#45;&gt;40 -->\n<g id=\"edge40\" class=\"edge\">\n<title>39&#45;&gt;40</title>\n<path fill=\"none\" stroke=\"#000000\" d=\"M1208.3805,-192.9465C1207.752,-184.776 1207.0717,-175.9318 1206.4131,-167.3697\"/>\n<polygon fill=\"#000000\" stroke=\"#000000\" points=\"1209.8821,-166.8321 1205.6254,-157.13 1202.9027,-167.369 1209.8821,-166.8321\"/>\n</g>\n<!-- 43 -->\n<g id=\"node44\" class=\"node\">\n<title>43</title>\n<polygon fill=\"none\" stroke=\"#000000\" points=\"1374,-149.5 1272,-149.5 1272,-96.5 1374,-96.5 1374,-149.5\"/>\n<text text-anchor=\"middle\" x=\"1323\" y=\"-134.3\" font-family=\"Times,serif\" font-size=\"14.00\" fill=\"#000000\">gini = 0.0</text>\n<text text-anchor=\"middle\" x=\"1323\" y=\"-119.3\" font-family=\"Times,serif\" font-size=\"14.00\" fill=\"#000000\">samples = 15</text>\n<text text-anchor=\"middle\" x=\"1323\" y=\"-104.3\" font-family=\"Times,serif\" font-size=\"14.00\" fill=\"#000000\">value = [15, 0]</text>\n</g>\n<!-- 39&#45;&gt;43 -->\n<g id=\"edge43\" class=\"edge\">\n<title>39&#45;&gt;43</title>\n<path fill=\"none\" stroke=\"#000000\" d=\"M1247.673,-192.9465C1260.2469,-181.2707 1274.3026,-168.219 1286.8359,-156.5809\"/>\n<polygon fill=\"#000000\" stroke=\"#000000\" points=\"1289.4698,-158.9115 1294.4161,-149.5422 1284.7066,-153.7819 1289.4698,-158.9115\"/>\n</g>\n<!-- 41 -->\n<g id=\"node42\" class=\"node\">\n<title>41</title>\n<polygon fill=\"none\" stroke=\"#000000\" points=\"1194,-53 1092,-53 1092,0 1194,0 1194,-53\"/>\n<text text-anchor=\"middle\" x=\"1143\" y=\"-37.8\" font-family=\"Times,serif\" font-size=\"14.00\" fill=\"#000000\">gini = 0.0</text>\n<text text-anchor=\"middle\" x=\"1143\" y=\"-22.8\" font-family=\"Times,serif\" font-size=\"14.00\" fill=\"#000000\">samples = 15</text>\n<text text-anchor=\"middle\" x=\"1143\" y=\"-7.8\" font-family=\"Times,serif\" font-size=\"14.00\" fill=\"#000000\">value = [0, 15]</text>\n</g>\n<!-- 40&#45;&gt;41 -->\n<g id=\"edge41\" class=\"edge\">\n<title>40&#45;&gt;41</title>\n<path fill=\"none\" stroke=\"#000000\" d=\"M1181.8462,-88.9777C1176.3805,-80.187 1170.4846,-70.7044 1164.9778,-61.8477\"/>\n<polygon fill=\"#000000\" stroke=\"#000000\" points=\"1167.8837,-59.8927 1159.6312,-53.2485 1161.9391,-63.5889 1167.8837,-59.8927\"/>\n</g>\n<!-- 42 -->\n<g id=\"node43\" class=\"node\">\n<title>42</title>\n<polygon fill=\"none\" stroke=\"#000000\" points=\"1307.5,-53 1212.5,-53 1212.5,0 1307.5,0 1307.5,-53\"/>\n<text text-anchor=\"middle\" x=\"1260\" y=\"-37.8\" font-family=\"Times,serif\" font-size=\"14.00\" fill=\"#000000\">gini = 0.0</text>\n<text text-anchor=\"middle\" x=\"1260\" y=\"-22.8\" font-family=\"Times,serif\" font-size=\"14.00\" fill=\"#000000\">samples = 2</text>\n<text text-anchor=\"middle\" x=\"1260\" y=\"-7.8\" font-family=\"Times,serif\" font-size=\"14.00\" fill=\"#000000\">value = [2, 0]</text>\n</g>\n<!-- 40&#45;&gt;42 -->\n<g id=\"edge42\" class=\"edge\">\n<title>40&#45;&gt;42</title>\n<path fill=\"none\" stroke=\"#000000\" d=\"M1223.0961,-88.9777C1228.2344,-80.2786 1233.773,-70.9018 1238.9575,-62.1247\"/>\n<polygon fill=\"#000000\" stroke=\"#000000\" points=\"1242.1281,-63.6387 1244.2004,-53.2485 1236.101,-60.0786 1242.1281,-63.6387\"/>\n</g>\n<!-- 45 -->\n<g id=\"node46\" class=\"node\">\n<title>45</title>\n<polygon fill=\"none\" stroke=\"#000000\" points=\"1492,-365 1388,-365 1388,-297 1492,-297 1492,-365\"/>\n<text text-anchor=\"middle\" x=\"1440\" y=\"-349.8\" font-family=\"Times,serif\" font-size=\"14.00\" fill=\"#000000\">X[2] &lt;= &#45;2.111</text>\n<text text-anchor=\"middle\" x=\"1440\" y=\"-334.8\" font-family=\"Times,serif\" font-size=\"14.00\" fill=\"#000000\">gini = 0.124</text>\n<text text-anchor=\"middle\" x=\"1440\" y=\"-319.8\" font-family=\"Times,serif\" font-size=\"14.00\" fill=\"#000000\">samples = 45</text>\n<text text-anchor=\"middle\" x=\"1440\" y=\"-304.8\" font-family=\"Times,serif\" font-size=\"14.00\" fill=\"#000000\">value = [42, 3]</text>\n</g>\n<!-- 44&#45;&gt;45 -->\n<g id=\"edge45\" class=\"edge\">\n<title>44&#45;&gt;45</title>\n<path fill=\"none\" stroke=\"#000000\" d=\"M1440,-400.9465C1440,-392.776 1440,-383.9318 1440,-375.3697\"/>\n<polygon fill=\"#000000\" stroke=\"#000000\" points=\"1443.5001,-375.13 1440,-365.13 1436.5001,-375.13 1443.5001,-375.13\"/>\n</g>\n<!-- 50 -->\n<g id=\"node51\" class=\"node\">\n<title>50</title>\n<polygon fill=\"none\" stroke=\"#000000\" points=\"1620,-357.5 1510,-357.5 1510,-304.5 1620,-304.5 1620,-357.5\"/>\n<text text-anchor=\"middle\" x=\"1565\" y=\"-342.3\" font-family=\"Times,serif\" font-size=\"14.00\" fill=\"#000000\">gini = 0.0</text>\n<text text-anchor=\"middle\" x=\"1565\" y=\"-327.3\" font-family=\"Times,serif\" font-size=\"14.00\" fill=\"#000000\">samples = 343</text>\n<text text-anchor=\"middle\" x=\"1565\" y=\"-312.3\" font-family=\"Times,serif\" font-size=\"14.00\" fill=\"#000000\">value = [343, 0]</text>\n</g>\n<!-- 44&#45;&gt;50 -->\n<g id=\"edge50\" class=\"edge\">\n<title>44&#45;&gt;50</title>\n<path fill=\"none\" stroke=\"#000000\" d=\"M1480.9297,-400.9465C1495.0955,-389.1606 1510.9463,-375.9726 1525.0338,-364.2519\"/>\n<polygon fill=\"#000000\" stroke=\"#000000\" points=\"1527.6496,-366.6285 1533.0984,-357.5422 1523.1725,-361.2474 1527.6496,-366.6285\"/>\n</g>\n<!-- 46 -->\n<g id=\"node47\" class=\"node\">\n<title>46</title>\n<polygon fill=\"none\" stroke=\"#000000\" points=\"1493,-261 1387,-261 1387,-193 1493,-193 1493,-261\"/>\n<text text-anchor=\"middle\" x=\"1440\" y=\"-245.8\" font-family=\"Times,serif\" font-size=\"14.00\" fill=\"#000000\">X[3] &lt;= &#45;1.796</text>\n<text text-anchor=\"middle\" x=\"1440\" y=\"-230.8\" font-family=\"Times,serif\" font-size=\"14.00\" fill=\"#000000\">gini = 0.375</text>\n<text text-anchor=\"middle\" x=\"1440\" y=\"-215.8\" font-family=\"Times,serif\" font-size=\"14.00\" fill=\"#000000\">samples = 4</text>\n<text text-anchor=\"middle\" x=\"1440\" y=\"-200.8\" font-family=\"Times,serif\" font-size=\"14.00\" fill=\"#000000\">value = [1, 3]</text>\n</g>\n<!-- 45&#45;&gt;46 -->\n<g id=\"edge46\" class=\"edge\">\n<title>45&#45;&gt;46</title>\n<path fill=\"none\" stroke=\"#000000\" d=\"M1440,-296.9465C1440,-288.776 1440,-279.9318 1440,-271.3697\"/>\n<polygon fill=\"#000000\" stroke=\"#000000\" points=\"1443.5001,-271.13 1440,-261.13 1436.5001,-271.13 1443.5001,-271.13\"/>\n</g>\n<!-- 49 -->\n<g id=\"node50\" class=\"node\">\n<title>49</title>\n<polygon fill=\"none\" stroke=\"#000000\" points=\"1613,-253.5 1511,-253.5 1511,-200.5 1613,-200.5 1613,-253.5\"/>\n<text text-anchor=\"middle\" x=\"1562\" y=\"-238.3\" font-family=\"Times,serif\" font-size=\"14.00\" fill=\"#000000\">gini = 0.0</text>\n<text text-anchor=\"middle\" x=\"1562\" y=\"-223.3\" font-family=\"Times,serif\" font-size=\"14.00\" fill=\"#000000\">samples = 41</text>\n<text text-anchor=\"middle\" x=\"1562\" y=\"-208.3\" font-family=\"Times,serif\" font-size=\"14.00\" fill=\"#000000\">value = [41, 0]</text>\n</g>\n<!-- 45&#45;&gt;49 -->\n<g id=\"edge49\" class=\"edge\">\n<title>45&#45;&gt;49</title>\n<path fill=\"none\" stroke=\"#000000\" d=\"M1479.9474,-296.9465C1493.7732,-285.1606 1509.2436,-271.9726 1522.9929,-260.2519\"/>\n<polygon fill=\"#000000\" stroke=\"#000000\" points=\"1525.5244,-262.6931 1530.864,-253.5422 1520.9832,-257.366 1525.5244,-262.6931\"/>\n</g>\n<!-- 47 -->\n<g id=\"node48\" class=\"node\">\n<title>47</title>\n<polygon fill=\"none\" stroke=\"#000000\" points=\"1487.5,-149.5 1392.5,-149.5 1392.5,-96.5 1487.5,-96.5 1487.5,-149.5\"/>\n<text text-anchor=\"middle\" x=\"1440\" y=\"-134.3\" font-family=\"Times,serif\" font-size=\"14.00\" fill=\"#000000\">gini = 0.0</text>\n<text text-anchor=\"middle\" x=\"1440\" y=\"-119.3\" font-family=\"Times,serif\" font-size=\"14.00\" fill=\"#000000\">samples = 1</text>\n<text text-anchor=\"middle\" x=\"1440\" y=\"-104.3\" font-family=\"Times,serif\" font-size=\"14.00\" fill=\"#000000\">value = [1, 0]</text>\n</g>\n<!-- 46&#45;&gt;47 -->\n<g id=\"edge47\" class=\"edge\">\n<title>46&#45;&gt;47</title>\n<path fill=\"none\" stroke=\"#000000\" d=\"M1440,-192.9465C1440,-182.2621 1440,-170.4254 1440,-159.5742\"/>\n<polygon fill=\"#000000\" stroke=\"#000000\" points=\"1443.5001,-159.5421 1440,-149.5422 1436.5001,-159.5422 1443.5001,-159.5421\"/>\n</g>\n<!-- 48 -->\n<g id=\"node49\" class=\"node\">\n<title>48</title>\n<polygon fill=\"none\" stroke=\"#000000\" points=\"1600.5,-149.5 1505.5,-149.5 1505.5,-96.5 1600.5,-96.5 1600.5,-149.5\"/>\n<text text-anchor=\"middle\" x=\"1553\" y=\"-134.3\" font-family=\"Times,serif\" font-size=\"14.00\" fill=\"#000000\">gini = 0.0</text>\n<text text-anchor=\"middle\" x=\"1553\" y=\"-119.3\" font-family=\"Times,serif\" font-size=\"14.00\" fill=\"#000000\">samples = 3</text>\n<text text-anchor=\"middle\" x=\"1553\" y=\"-104.3\" font-family=\"Times,serif\" font-size=\"14.00\" fill=\"#000000\">value = [0, 3]</text>\n</g>\n<!-- 46&#45;&gt;48 -->\n<g id=\"edge48\" class=\"edge\">\n<title>46&#45;&gt;48</title>\n<path fill=\"none\" stroke=\"#000000\" d=\"M1477.0004,-192.9465C1489.6866,-181.2707 1503.8678,-168.219 1516.513,-156.5809\"/>\n<polygon fill=\"#000000\" stroke=\"#000000\" points=\"1519.1731,-158.8895 1524.1609,-149.5422 1514.4327,-153.7389 1519.1731,-158.8895\"/>\n</g>\n</g>\n</svg>\n"
          },
          "metadata": {
            "tags": []
          },
          "execution_count": 17
        }
      ]
    },
    {
      "cell_type": "code",
      "metadata": {
        "id": "GOzghXqeYPLz",
        "colab_type": "code",
        "colab": {
          "base_uri": "https://localhost:8080/",
          "height": 1000
        },
        "outputId": "e2853c0c-4619-4501-9f12-daf1107be8f9"
      },
      "source": [
        "import graphviz \n",
        "graph = graphviz.Source(dot_data2)\n",
        "graph"
      ],
      "execution_count": 19,
      "outputs": [
        {
          "output_type": "execute_result",
          "data": {
            "text/plain": [
              "<graphviz.files.Source at 0x7f3362aa0fd0>"
            ],
            "image/svg+xml": "<?xml version=\"1.0\" encoding=\"UTF-8\" standalone=\"no\"?>\n<!DOCTYPE svg PUBLIC \"-//W3C//DTD SVG 1.1//EN\"\n \"http://www.w3.org/Graphics/SVG/1.1/DTD/svg11.dtd\">\n<!-- Generated by graphviz version 2.40.1 (20161225.0304)\n -->\n<!-- Title: Tree Pages: 1 -->\n<svg width=\"1317pt\" height=\"789pt\"\n viewBox=\"0.00 0.00 1317.00 789.00\" xmlns=\"http://www.w3.org/2000/svg\" xmlns:xlink=\"http://www.w3.org/1999/xlink\">\n<g id=\"graph0\" class=\"graph\" transform=\"scale(1 1) rotate(0) translate(4 785)\">\n<title>Tree</title>\n<polygon fill=\"#ffffff\" stroke=\"transparent\" points=\"-4,4 -4,-785 1313,-785 1313,4 -4,4\"/>\n<!-- 0 -->\n<g id=\"node1\" class=\"node\">\n<title>0</title>\n<polygon fill=\"none\" stroke=\"#000000\" points=\"1072.5,-781 947.5,-781 947.5,-713 1072.5,-713 1072.5,-781\"/>\n<text text-anchor=\"middle\" x=\"1010\" y=\"-765.8\" font-family=\"Times,serif\" font-size=\"14.00\" fill=\"#000000\">X[0] &lt;= 0.747</text>\n<text text-anchor=\"middle\" x=\"1010\" y=\"-750.8\" font-family=\"Times,serif\" font-size=\"14.00\" fill=\"#000000\">entropy = 0.992</text>\n<text text-anchor=\"middle\" x=\"1010\" y=\"-735.8\" font-family=\"Times,serif\" font-size=\"14.00\" fill=\"#000000\">samples = 1097</text>\n<text text-anchor=\"middle\" x=\"1010\" y=\"-720.8\" font-family=\"Times,serif\" font-size=\"14.00\" fill=\"#000000\">value = [607, 490]</text>\n</g>\n<!-- 1 -->\n<g id=\"node2\" class=\"node\">\n<title>1</title>\n<polygon fill=\"none\" stroke=\"#000000\" points=\"890.5,-677 765.5,-677 765.5,-609 890.5,-609 890.5,-677\"/>\n<text text-anchor=\"middle\" x=\"828\" y=\"-661.8\" font-family=\"Times,serif\" font-size=\"14.00\" fill=\"#000000\">X[1] &lt;= 5.161</text>\n<text text-anchor=\"middle\" x=\"828\" y=\"-646.8\" font-family=\"Times,serif\" font-size=\"14.00\" fill=\"#000000\">entropy = 0.773</text>\n<text text-anchor=\"middle\" x=\"828\" y=\"-631.8\" font-family=\"Times,serif\" font-size=\"14.00\" fill=\"#000000\">samples = 590</text>\n<text text-anchor=\"middle\" x=\"828\" y=\"-616.8\" font-family=\"Times,serif\" font-size=\"14.00\" fill=\"#000000\">value = [134, 456]</text>\n</g>\n<!-- 0&#45;&gt;1 -->\n<g id=\"edge1\" class=\"edge\">\n<title>0&#45;&gt;1</title>\n<path fill=\"none\" stroke=\"#000000\" d=\"M950.4064,-712.9465C933.2798,-703.1599 914.4616,-692.4066 896.8265,-682.3294\"/>\n<polygon fill=\"#000000\" stroke=\"#000000\" points=\"898.1464,-679.0526 887.7275,-677.13 894.6734,-685.1303 898.1464,-679.0526\"/>\n<text text-anchor=\"middle\" x=\"894.3054\" y=\"-697.5491\" font-family=\"Times,serif\" font-size=\"14.00\" fill=\"#000000\">True</text>\n</g>\n<!-- 28 -->\n<g id=\"node29\" class=\"node\">\n<title>28</title>\n<polygon fill=\"none\" stroke=\"#000000\" points=\"1180.5,-677 1063.5,-677 1063.5,-609 1180.5,-609 1180.5,-677\"/>\n<text text-anchor=\"middle\" x=\"1122\" y=\"-661.8\" font-family=\"Times,serif\" font-size=\"14.00\" fill=\"#000000\">X[2] &lt;= &#45;1.642</text>\n<text text-anchor=\"middle\" x=\"1122\" y=\"-646.8\" font-family=\"Times,serif\" font-size=\"14.00\" fill=\"#000000\">entropy = 0.355</text>\n<text text-anchor=\"middle\" x=\"1122\" y=\"-631.8\" font-family=\"Times,serif\" font-size=\"14.00\" fill=\"#000000\">samples = 507</text>\n<text text-anchor=\"middle\" x=\"1122\" y=\"-616.8\" font-family=\"Times,serif\" font-size=\"14.00\" fill=\"#000000\">value = [473, 34]</text>\n</g>\n<!-- 0&#45;&gt;28 -->\n<g id=\"edge28\" class=\"edge\">\n<title>0&#45;&gt;28</title>\n<path fill=\"none\" stroke=\"#000000\" d=\"M1046.673,-712.9465C1056.6323,-703.6986 1067.5211,-693.5876 1077.8468,-683.9994\"/>\n<polygon fill=\"#000000\" stroke=\"#000000\" points=\"1080.2982,-686.4993 1085.2446,-677.13 1075.5351,-681.3698 1080.2982,-686.4993\"/>\n<text text-anchor=\"middle\" x=\"1084.3193\" y=\"-698.4129\" font-family=\"Times,serif\" font-size=\"14.00\" fill=\"#000000\">False</text>\n</g>\n<!-- 2 -->\n<g id=\"node3\" class=\"node\">\n<title>2</title>\n<polygon fill=\"none\" stroke=\"#000000\" points=\"529.5,-573 412.5,-573 412.5,-505 529.5,-505 529.5,-573\"/>\n<text text-anchor=\"middle\" x=\"471\" y=\"-557.8\" font-family=\"Times,serif\" font-size=\"14.00\" fill=\"#000000\">X[0] &lt;= 0.32</text>\n<text text-anchor=\"middle\" x=\"471\" y=\"-542.8\" font-family=\"Times,serif\" font-size=\"14.00\" fill=\"#000000\">entropy = 0.459</text>\n<text text-anchor=\"middle\" x=\"471\" y=\"-527.8\" font-family=\"Times,serif\" font-size=\"14.00\" fill=\"#000000\">samples = 465</text>\n<text text-anchor=\"middle\" x=\"471\" y=\"-512.8\" font-family=\"Times,serif\" font-size=\"14.00\" fill=\"#000000\">value = [45, 420]</text>\n</g>\n<!-- 1&#45;&gt;2 -->\n<g id=\"edge2\" class=\"edge\">\n<title>1&#45;&gt;2</title>\n<path fill=\"none\" stroke=\"#000000\" d=\"M765.4068,-624.7656C702.1625,-606.3415 604.7173,-577.9541 539.4547,-558.942\"/>\n<polygon fill=\"#000000\" stroke=\"#000000\" points=\"540.2472,-555.5274 529.6674,-556.0908 538.2893,-562.2481 540.2472,-555.5274\"/>\n</g>\n<!-- 21 -->\n<g id=\"node22\" class=\"node\">\n<title>21</title>\n<polygon fill=\"none\" stroke=\"#000000\" points=\"883,-573 773,-573 773,-505 883,-505 883,-573\"/>\n<text text-anchor=\"middle\" x=\"828\" y=\"-557.8\" font-family=\"Times,serif\" font-size=\"14.00\" fill=\"#000000\">X[0] &lt;= &#45;3.321</text>\n<text text-anchor=\"middle\" x=\"828\" y=\"-542.8\" font-family=\"Times,serif\" font-size=\"14.00\" fill=\"#000000\">entropy = 0.866</text>\n<text text-anchor=\"middle\" x=\"828\" y=\"-527.8\" font-family=\"Times,serif\" font-size=\"14.00\" fill=\"#000000\">samples = 125</text>\n<text text-anchor=\"middle\" x=\"828\" y=\"-512.8\" font-family=\"Times,serif\" font-size=\"14.00\" fill=\"#000000\">value = [89, 36]</text>\n</g>\n<!-- 1&#45;&gt;21 -->\n<g id=\"edge21\" class=\"edge\">\n<title>1&#45;&gt;21</title>\n<path fill=\"none\" stroke=\"#000000\" d=\"M828,-608.9465C828,-600.776 828,-591.9318 828,-583.3697\"/>\n<polygon fill=\"#000000\" stroke=\"#000000\" points=\"831.5001,-583.13 828,-573.13 824.5001,-583.13 831.5001,-583.13\"/>\n</g>\n<!-- 3 -->\n<g id=\"node4\" class=\"node\">\n<title>3</title>\n<polygon fill=\"none\" stroke=\"#000000\" points=\"337.5,-469 220.5,-469 220.5,-401 337.5,-401 337.5,-469\"/>\n<text text-anchor=\"middle\" x=\"279\" y=\"-453.8\" font-family=\"Times,serif\" font-size=\"14.00\" fill=\"#000000\">X[2] &lt;= 3.064</text>\n<text text-anchor=\"middle\" x=\"279\" y=\"-438.8\" font-family=\"Times,serif\" font-size=\"14.00\" fill=\"#000000\">entropy = 0.28</text>\n<text text-anchor=\"middle\" x=\"279\" y=\"-423.8\" font-family=\"Times,serif\" font-size=\"14.00\" fill=\"#000000\">samples = 412</text>\n<text text-anchor=\"middle\" x=\"279\" y=\"-408.8\" font-family=\"Times,serif\" font-size=\"14.00\" fill=\"#000000\">value = [20, 392]</text>\n</g>\n<!-- 2&#45;&gt;3 -->\n<g id=\"edge3\" class=\"edge\">\n<title>2&#45;&gt;3</title>\n<path fill=\"none\" stroke=\"#000000\" d=\"M412.3504,-507.2315C391.6039,-495.9938 368.1001,-483.2625 346.6662,-471.6525\"/>\n<polygon fill=\"#000000\" stroke=\"#000000\" points=\"348.0809,-468.4384 337.621,-466.753 344.7469,-474.5935 348.0809,-468.4384\"/>\n</g>\n<!-- 16 -->\n<g id=\"node17\" class=\"node\">\n<title>16</title>\n<polygon fill=\"none\" stroke=\"#000000\" points=\"526,-469 416,-469 416,-401 526,-401 526,-469\"/>\n<text text-anchor=\"middle\" x=\"471\" y=\"-453.8\" font-family=\"Times,serif\" font-size=\"14.00\" fill=\"#000000\">X[2] &lt;= 0.47</text>\n<text text-anchor=\"middle\" x=\"471\" y=\"-438.8\" font-family=\"Times,serif\" font-size=\"14.00\" fill=\"#000000\">entropy = 0.998</text>\n<text text-anchor=\"middle\" x=\"471\" y=\"-423.8\" font-family=\"Times,serif\" font-size=\"14.00\" fill=\"#000000\">samples = 53</text>\n<text text-anchor=\"middle\" x=\"471\" y=\"-408.8\" font-family=\"Times,serif\" font-size=\"14.00\" fill=\"#000000\">value = [25, 28]</text>\n</g>\n<!-- 2&#45;&gt;16 -->\n<g id=\"edge16\" class=\"edge\">\n<title>2&#45;&gt;16</title>\n<path fill=\"none\" stroke=\"#000000\" d=\"M471,-504.9465C471,-496.776 471,-487.9318 471,-479.3697\"/>\n<polygon fill=\"#000000\" stroke=\"#000000\" points=\"474.5001,-479.13 471,-469.13 467.5001,-479.13 474.5001,-479.13\"/>\n</g>\n<!-- 4 -->\n<g id=\"node5\" class=\"node\">\n<title>4</title>\n<polygon fill=\"none\" stroke=\"#000000\" points=\"202,-357.5 92,-357.5 92,-304.5 202,-304.5 202,-357.5\"/>\n<text text-anchor=\"middle\" x=\"147\" y=\"-342.3\" font-family=\"Times,serif\" font-size=\"14.00\" fill=\"#000000\">entropy = 0.0</text>\n<text text-anchor=\"middle\" x=\"147\" y=\"-327.3\" font-family=\"Times,serif\" font-size=\"14.00\" fill=\"#000000\">samples = 250</text>\n<text text-anchor=\"middle\" x=\"147\" y=\"-312.3\" font-family=\"Times,serif\" font-size=\"14.00\" fill=\"#000000\">value = [0, 250]</text>\n</g>\n<!-- 3&#45;&gt;4 -->\n<g id=\"edge4\" class=\"edge\">\n<title>3&#45;&gt;4</title>\n<path fill=\"none\" stroke=\"#000000\" d=\"M235.7783,-400.9465C220.6794,-389.0504 203.7676,-375.726 188.7878,-363.9237\"/>\n<polygon fill=\"#000000\" stroke=\"#000000\" points=\"190.7091,-360.9817 180.6881,-357.5422 186.377,-366.4802 190.7091,-360.9817\"/>\n</g>\n<!-- 5 -->\n<g id=\"node6\" class=\"node\">\n<title>5</title>\n<polygon fill=\"none\" stroke=\"#000000\" points=\"337.5,-365 220.5,-365 220.5,-297 337.5,-297 337.5,-365\"/>\n<text text-anchor=\"middle\" x=\"279\" y=\"-349.8\" font-family=\"Times,serif\" font-size=\"14.00\" fill=\"#000000\">X[1] &lt;= &#45;1.82</text>\n<text text-anchor=\"middle\" x=\"279\" y=\"-334.8\" font-family=\"Times,serif\" font-size=\"14.00\" fill=\"#000000\">entropy = 0.539</text>\n<text text-anchor=\"middle\" x=\"279\" y=\"-319.8\" font-family=\"Times,serif\" font-size=\"14.00\" fill=\"#000000\">samples = 162</text>\n<text text-anchor=\"middle\" x=\"279\" y=\"-304.8\" font-family=\"Times,serif\" font-size=\"14.00\" fill=\"#000000\">value = [20, 142]</text>\n</g>\n<!-- 3&#45;&gt;5 -->\n<g id=\"edge5\" class=\"edge\">\n<title>3&#45;&gt;5</title>\n<path fill=\"none\" stroke=\"#000000\" d=\"M279,-400.9465C279,-392.776 279,-383.9318 279,-375.3697\"/>\n<polygon fill=\"#000000\" stroke=\"#000000\" points=\"282.5001,-375.13 279,-365.13 275.5001,-375.13 282.5001,-375.13\"/>\n</g>\n<!-- 6 -->\n<g id=\"node7\" class=\"node\">\n<title>6</title>\n<polygon fill=\"none\" stroke=\"#000000\" points=\"238,-261 128,-261 128,-193 238,-193 238,-261\"/>\n<text text-anchor=\"middle\" x=\"183\" y=\"-245.8\" font-family=\"Times,serif\" font-size=\"14.00\" fill=\"#000000\">X[0] &lt;= &#45;0.651</text>\n<text text-anchor=\"middle\" x=\"183\" y=\"-230.8\" font-family=\"Times,serif\" font-size=\"14.00\" fill=\"#000000\">entropy = 0.107</text>\n<text text-anchor=\"middle\" x=\"183\" y=\"-215.8\" font-family=\"Times,serif\" font-size=\"14.00\" fill=\"#000000\">samples = 142</text>\n<text text-anchor=\"middle\" x=\"183\" y=\"-200.8\" font-family=\"Times,serif\" font-size=\"14.00\" fill=\"#000000\">value = [2, 140]</text>\n</g>\n<!-- 5&#45;&gt;6 -->\n<g id=\"edge6\" class=\"edge\">\n<title>5&#45;&gt;6</title>\n<path fill=\"none\" stroke=\"#000000\" d=\"M247.566,-296.9465C239.1953,-287.8782 230.0584,-277.9799 221.3617,-268.5585\"/>\n<polygon fill=\"#000000\" stroke=\"#000000\" points=\"223.8593,-266.1041 214.5046,-261.13 218.7156,-270.852 223.8593,-266.1041\"/>\n</g>\n<!-- 11 -->\n<g id=\"node12\" class=\"node\">\n<title>11</title>\n<polygon fill=\"none\" stroke=\"#000000\" points=\"366,-261 256,-261 256,-193 366,-193 366,-261\"/>\n<text text-anchor=\"middle\" x=\"311\" y=\"-245.8\" font-family=\"Times,serif\" font-size=\"14.00\" fill=\"#000000\">X[0] &lt;= &#45;2.156</text>\n<text text-anchor=\"middle\" x=\"311\" y=\"-230.8\" font-family=\"Times,serif\" font-size=\"14.00\" fill=\"#000000\">entropy = 0.469</text>\n<text text-anchor=\"middle\" x=\"311\" y=\"-215.8\" font-family=\"Times,serif\" font-size=\"14.00\" fill=\"#000000\">samples = 20</text>\n<text text-anchor=\"middle\" x=\"311\" y=\"-200.8\" font-family=\"Times,serif\" font-size=\"14.00\" fill=\"#000000\">value = [18, 2]</text>\n</g>\n<!-- 5&#45;&gt;11 -->\n<g id=\"edge11\" class=\"edge\">\n<title>5&#45;&gt;11</title>\n<path fill=\"none\" stroke=\"#000000\" d=\"M289.478,-296.9465C292.0472,-288.5965 294.833,-279.5427 297.5214,-270.8056\"/>\n<polygon fill=\"#000000\" stroke=\"#000000\" points=\"300.9028,-271.7171 300.4985,-261.13 294.2123,-269.6585 300.9028,-271.7171\"/>\n</g>\n<!-- 7 -->\n<g id=\"node8\" class=\"node\">\n<title>7</title>\n<polygon fill=\"none\" stroke=\"#000000\" points=\"110,-149.5 0,-149.5 0,-96.5 110,-96.5 110,-149.5\"/>\n<text text-anchor=\"middle\" x=\"55\" y=\"-134.3\" font-family=\"Times,serif\" font-size=\"14.00\" fill=\"#000000\">entropy = 0.0</text>\n<text text-anchor=\"middle\" x=\"55\" y=\"-119.3\" font-family=\"Times,serif\" font-size=\"14.00\" fill=\"#000000\">samples = 137</text>\n<text text-anchor=\"middle\" x=\"55\" y=\"-104.3\" font-family=\"Times,serif\" font-size=\"14.00\" fill=\"#000000\">value = [0, 137]</text>\n</g>\n<!-- 6&#45;&gt;7 -->\n<g id=\"edge7\" class=\"edge\">\n<title>6&#45;&gt;7</title>\n<path fill=\"none\" stroke=\"#000000\" d=\"M141.088,-192.9465C126.4467,-181.0504 110.0474,-167.726 95.5215,-155.9237\"/>\n<polygon fill=\"#000000\" stroke=\"#000000\" points=\"97.6355,-153.1317 87.6673,-149.5422 93.2214,-158.5645 97.6355,-153.1317\"/>\n</g>\n<!-- 8 -->\n<g id=\"node9\" class=\"node\">\n<title>8</title>\n<polygon fill=\"none\" stroke=\"#000000\" points=\"238,-157 128,-157 128,-89 238,-89 238,-157\"/>\n<text text-anchor=\"middle\" x=\"183\" y=\"-141.8\" font-family=\"Times,serif\" font-size=\"14.00\" fill=\"#000000\">X[2] &lt;= 7.531</text>\n<text text-anchor=\"middle\" x=\"183\" y=\"-126.8\" font-family=\"Times,serif\" font-size=\"14.00\" fill=\"#000000\">entropy = 0.971</text>\n<text text-anchor=\"middle\" x=\"183\" y=\"-111.8\" font-family=\"Times,serif\" font-size=\"14.00\" fill=\"#000000\">samples = 5</text>\n<text text-anchor=\"middle\" x=\"183\" y=\"-96.8\" font-family=\"Times,serif\" font-size=\"14.00\" fill=\"#000000\">value = [2, 3]</text>\n</g>\n<!-- 6&#45;&gt;8 -->\n<g id=\"edge8\" class=\"edge\">\n<title>6&#45;&gt;8</title>\n<path fill=\"none\" stroke=\"#000000\" d=\"M183,-192.9465C183,-184.776 183,-175.9318 183,-167.3697\"/>\n<polygon fill=\"#000000\" stroke=\"#000000\" points=\"186.5001,-167.13 183,-157.13 179.5001,-167.13 186.5001,-167.13\"/>\n</g>\n<!-- 9 -->\n<g id=\"node10\" class=\"node\">\n<title>9</title>\n<polygon fill=\"none\" stroke=\"#000000\" points=\"121.5,-53 26.5,-53 26.5,0 121.5,0 121.5,-53\"/>\n<text text-anchor=\"middle\" x=\"74\" y=\"-37.8\" font-family=\"Times,serif\" font-size=\"14.00\" fill=\"#000000\">entropy = 0.0</text>\n<text text-anchor=\"middle\" x=\"74\" y=\"-22.8\" font-family=\"Times,serif\" font-size=\"14.00\" fill=\"#000000\">samples = 3</text>\n<text text-anchor=\"middle\" x=\"74\" y=\"-7.8\" font-family=\"Times,serif\" font-size=\"14.00\" fill=\"#000000\">value = [0, 3]</text>\n</g>\n<!-- 8&#45;&gt;9 -->\n<g id=\"edge9\" class=\"edge\">\n<title>8&#45;&gt;9</title>\n<path fill=\"none\" stroke=\"#000000\" d=\"M144.5707,-88.9777C133.9173,-79.546 122.3641,-69.3178 111.7499,-59.9208\"/>\n<polygon fill=\"#000000\" stroke=\"#000000\" points=\"114.0207,-57.2566 104.2133,-53.2485 109.3806,-62.4978 114.0207,-57.2566\"/>\n</g>\n<!-- 10 -->\n<g id=\"node11\" class=\"node\">\n<title>10</title>\n<polygon fill=\"none\" stroke=\"#000000\" points=\"234.5,-53 139.5,-53 139.5,0 234.5,0 234.5,-53\"/>\n<text text-anchor=\"middle\" x=\"187\" y=\"-37.8\" font-family=\"Times,serif\" font-size=\"14.00\" fill=\"#000000\">entropy = 0.0</text>\n<text text-anchor=\"middle\" x=\"187\" y=\"-22.8\" font-family=\"Times,serif\" font-size=\"14.00\" fill=\"#000000\">samples = 2</text>\n<text text-anchor=\"middle\" x=\"187\" y=\"-7.8\" font-family=\"Times,serif\" font-size=\"14.00\" fill=\"#000000\">value = [2, 0]</text>\n</g>\n<!-- 8&#45;&gt;10 -->\n<g id=\"edge10\" class=\"edge\">\n<title>8&#45;&gt;10</title>\n<path fill=\"none\" stroke=\"#000000\" d=\"M184.4103,-88.9777C184.7519,-80.7364 185.1187,-71.887 185.4657,-63.5153\"/>\n<polygon fill=\"#000000\" stroke=\"#000000\" points=\"188.974,-63.3849 185.8913,-53.2485 181.98,-63.0949 188.974,-63.3849\"/>\n</g>\n<!-- 12 -->\n<g id=\"node13\" class=\"node\">\n<title>12</title>\n<polygon fill=\"none\" stroke=\"#000000\" points=\"366,-157 256,-157 256,-89 366,-89 366,-157\"/>\n<text text-anchor=\"middle\" x=\"311\" y=\"-141.8\" font-family=\"Times,serif\" font-size=\"14.00\" fill=\"#000000\">X[2] &lt;= 5.335</text>\n<text text-anchor=\"middle\" x=\"311\" y=\"-126.8\" font-family=\"Times,serif\" font-size=\"14.00\" fill=\"#000000\">entropy = 0.918</text>\n<text text-anchor=\"middle\" x=\"311\" y=\"-111.8\" font-family=\"Times,serif\" font-size=\"14.00\" fill=\"#000000\">samples = 3</text>\n<text text-anchor=\"middle\" x=\"311\" y=\"-96.8\" font-family=\"Times,serif\" font-size=\"14.00\" fill=\"#000000\">value = [1, 2]</text>\n</g>\n<!-- 11&#45;&gt;12 -->\n<g id=\"edge12\" class=\"edge\">\n<title>11&#45;&gt;12</title>\n<path fill=\"none\" stroke=\"#000000\" d=\"M311,-192.9465C311,-184.776 311,-175.9318 311,-167.3697\"/>\n<polygon fill=\"#000000\" stroke=\"#000000\" points=\"314.5001,-167.13 311,-157.13 307.5001,-167.13 314.5001,-167.13\"/>\n</g>\n<!-- 15 -->\n<g id=\"node16\" class=\"node\">\n<title>15</title>\n<polygon fill=\"none\" stroke=\"#000000\" points=\"486,-149.5 384,-149.5 384,-96.5 486,-96.5 486,-149.5\"/>\n<text text-anchor=\"middle\" x=\"435\" y=\"-134.3\" font-family=\"Times,serif\" font-size=\"14.00\" fill=\"#000000\">entropy = 0.0</text>\n<text text-anchor=\"middle\" x=\"435\" y=\"-119.3\" font-family=\"Times,serif\" font-size=\"14.00\" fill=\"#000000\">samples = 17</text>\n<text text-anchor=\"middle\" x=\"435\" y=\"-104.3\" font-family=\"Times,serif\" font-size=\"14.00\" fill=\"#000000\">value = [17, 0]</text>\n</g>\n<!-- 11&#45;&gt;15 -->\n<g id=\"edge15\" class=\"edge\">\n<title>11&#45;&gt;15</title>\n<path fill=\"none\" stroke=\"#000000\" d=\"M351.6022,-192.9465C365.6547,-181.1606 381.3788,-167.9726 395.3535,-156.2519\"/>\n<polygon fill=\"#000000\" stroke=\"#000000\" points=\"397.9408,-158.65 403.3536,-149.5422 393.4425,-153.2866 397.9408,-158.65\"/>\n</g>\n<!-- 13 -->\n<g id=\"node14\" class=\"node\">\n<title>13</title>\n<polygon fill=\"none\" stroke=\"#000000\" points=\"354.5,-53 259.5,-53 259.5,0 354.5,0 354.5,-53\"/>\n<text text-anchor=\"middle\" x=\"307\" y=\"-37.8\" font-family=\"Times,serif\" font-size=\"14.00\" fill=\"#000000\">entropy = 0.0</text>\n<text text-anchor=\"middle\" x=\"307\" y=\"-22.8\" font-family=\"Times,serif\" font-size=\"14.00\" fill=\"#000000\">samples = 2</text>\n<text text-anchor=\"middle\" x=\"307\" y=\"-7.8\" font-family=\"Times,serif\" font-size=\"14.00\" fill=\"#000000\">value = [0, 2]</text>\n</g>\n<!-- 12&#45;&gt;13 -->\n<g id=\"edge13\" class=\"edge\">\n<title>12&#45;&gt;13</title>\n<path fill=\"none\" stroke=\"#000000\" d=\"M309.5897,-88.9777C309.2481,-80.7364 308.8813,-71.887 308.5343,-63.5153\"/>\n<polygon fill=\"#000000\" stroke=\"#000000\" points=\"312.02,-63.0949 308.1087,-53.2485 305.026,-63.3849 312.02,-63.0949\"/>\n</g>\n<!-- 14 -->\n<g id=\"node15\" class=\"node\">\n<title>14</title>\n<polygon fill=\"none\" stroke=\"#000000\" points=\"467.5,-53 372.5,-53 372.5,0 467.5,0 467.5,-53\"/>\n<text text-anchor=\"middle\" x=\"420\" y=\"-37.8\" font-family=\"Times,serif\" font-size=\"14.00\" fill=\"#000000\">entropy = 0.0</text>\n<text text-anchor=\"middle\" x=\"420\" y=\"-22.8\" font-family=\"Times,serif\" font-size=\"14.00\" fill=\"#000000\">samples = 1</text>\n<text text-anchor=\"middle\" x=\"420\" y=\"-7.8\" font-family=\"Times,serif\" font-size=\"14.00\" fill=\"#000000\">value = [1, 0]</text>\n</g>\n<!-- 12&#45;&gt;14 -->\n<g id=\"edge14\" class=\"edge\">\n<title>12&#45;&gt;14</title>\n<path fill=\"none\" stroke=\"#000000\" d=\"M349.4293,-88.9777C360.0827,-79.546 371.6359,-69.3178 382.2501,-59.9208\"/>\n<polygon fill=\"#000000\" stroke=\"#000000\" points=\"384.6194,-62.4978 389.7867,-53.2485 379.9793,-57.2566 384.6194,-62.4978\"/>\n</g>\n<!-- 17 -->\n<g id=\"node18\" class=\"node\">\n<title>17</title>\n<polygon fill=\"none\" stroke=\"#000000\" points=\"458,-357.5 356,-357.5 356,-304.5 458,-304.5 458,-357.5\"/>\n<text text-anchor=\"middle\" x=\"407\" y=\"-342.3\" font-family=\"Times,serif\" font-size=\"14.00\" fill=\"#000000\">entropy = 0.0</text>\n<text text-anchor=\"middle\" x=\"407\" y=\"-327.3\" font-family=\"Times,serif\" font-size=\"14.00\" fill=\"#000000\">samples = 26</text>\n<text text-anchor=\"middle\" x=\"407\" y=\"-312.3\" font-family=\"Times,serif\" font-size=\"14.00\" fill=\"#000000\">value = [0, 26]</text>\n</g>\n<!-- 16&#45;&gt;17 -->\n<g id=\"edge17\" class=\"edge\">\n<title>16&#45;&gt;17</title>\n<path fill=\"none\" stroke=\"#000000\" d=\"M450.044,-400.9465C443.1978,-389.8215 435.5829,-377.4473 428.6843,-366.237\"/>\n<polygon fill=\"#000000\" stroke=\"#000000\" points=\"431.5555,-364.2244 423.3336,-357.5422 425.5939,-367.8931 431.5555,-364.2244\"/>\n</g>\n<!-- 18 -->\n<g id=\"node19\" class=\"node\">\n<title>18</title>\n<polygon fill=\"none\" stroke=\"#000000\" points=\"586,-365 476,-365 476,-297 586,-297 586,-365\"/>\n<text text-anchor=\"middle\" x=\"531\" y=\"-349.8\" font-family=\"Times,serif\" font-size=\"14.00\" fill=\"#000000\">X[3] &lt;= 0.73</text>\n<text text-anchor=\"middle\" x=\"531\" y=\"-334.8\" font-family=\"Times,serif\" font-size=\"14.00\" fill=\"#000000\">entropy = 0.381</text>\n<text text-anchor=\"middle\" x=\"531\" y=\"-319.8\" font-family=\"Times,serif\" font-size=\"14.00\" fill=\"#000000\">samples = 27</text>\n<text text-anchor=\"middle\" x=\"531\" y=\"-304.8\" font-family=\"Times,serif\" font-size=\"14.00\" fill=\"#000000\">value = [25, 2]</text>\n</g>\n<!-- 16&#45;&gt;18 -->\n<g id=\"edge18\" class=\"edge\">\n<title>16&#45;&gt;18</title>\n<path fill=\"none\" stroke=\"#000000\" d=\"M490.6462,-400.9465C495.619,-392.3271 501.0243,-382.9579 506.2148,-373.9611\"/>\n<polygon fill=\"#000000\" stroke=\"#000000\" points=\"509.344,-375.5409 511.3096,-365.13 503.2807,-372.0428 509.344,-375.5409\"/>\n</g>\n<!-- 19 -->\n<g id=\"node20\" class=\"node\">\n<title>19</title>\n<polygon fill=\"none\" stroke=\"#000000\" points=\"550,-253.5 448,-253.5 448,-200.5 550,-200.5 550,-253.5\"/>\n<text text-anchor=\"middle\" x=\"499\" y=\"-238.3\" font-family=\"Times,serif\" font-size=\"14.00\" fill=\"#000000\">entropy = 0.0</text>\n<text text-anchor=\"middle\" x=\"499\" y=\"-223.3\" font-family=\"Times,serif\" font-size=\"14.00\" fill=\"#000000\">samples = 25</text>\n<text text-anchor=\"middle\" x=\"499\" y=\"-208.3\" font-family=\"Times,serif\" font-size=\"14.00\" fill=\"#000000\">value = [25, 0]</text>\n</g>\n<!-- 18&#45;&gt;19 -->\n<g id=\"edge19\" class=\"edge\">\n<title>18&#45;&gt;19</title>\n<path fill=\"none\" stroke=\"#000000\" d=\"M520.522,-296.9465C517.2006,-286.1519 513.5173,-274.1813 510.1504,-263.2389\"/>\n<polygon fill=\"#000000\" stroke=\"#000000\" points=\"513.453,-262.0706 507.1668,-253.5422 506.7625,-264.1293 513.453,-262.0706\"/>\n</g>\n<!-- 20 -->\n<g id=\"node21\" class=\"node\">\n<title>20</title>\n<polygon fill=\"none\" stroke=\"#000000\" points=\"663.5,-253.5 568.5,-253.5 568.5,-200.5 663.5,-200.5 663.5,-253.5\"/>\n<text text-anchor=\"middle\" x=\"616\" y=\"-238.3\" font-family=\"Times,serif\" font-size=\"14.00\" fill=\"#000000\">entropy = 0.0</text>\n<text text-anchor=\"middle\" x=\"616\" y=\"-223.3\" font-family=\"Times,serif\" font-size=\"14.00\" fill=\"#000000\">samples = 2</text>\n<text text-anchor=\"middle\" x=\"616\" y=\"-208.3\" font-family=\"Times,serif\" font-size=\"14.00\" fill=\"#000000\">value = [0, 2]</text>\n</g>\n<!-- 18&#45;&gt;20 -->\n<g id=\"edge20\" class=\"edge\">\n<title>18&#45;&gt;20</title>\n<path fill=\"none\" stroke=\"#000000\" d=\"M558.8322,-296.9465C568.1048,-285.6012 578.4392,-272.9567 587.7437,-261.5724\"/>\n<polygon fill=\"#000000\" stroke=\"#000000\" points=\"590.6885,-263.5 594.3069,-253.5422 585.2685,-259.0701 590.6885,-263.5\"/>\n</g>\n<!-- 22 -->\n<g id=\"node23\" class=\"node\">\n<title>22</title>\n<polygon fill=\"none\" stroke=\"#000000\" points=\"819,-469 709,-469 709,-401 819,-401 819,-469\"/>\n<text text-anchor=\"middle\" x=\"764\" y=\"-453.8\" font-family=\"Times,serif\" font-size=\"14.00\" fill=\"#000000\">X[2] &lt;= 2.018</text>\n<text text-anchor=\"middle\" x=\"764\" y=\"-438.8\" font-family=\"Times,serif\" font-size=\"14.00\" fill=\"#000000\">entropy = 0.183</text>\n<text text-anchor=\"middle\" x=\"764\" y=\"-423.8\" font-family=\"Times,serif\" font-size=\"14.00\" fill=\"#000000\">samples = 36</text>\n<text text-anchor=\"middle\" x=\"764\" y=\"-408.8\" font-family=\"Times,serif\" font-size=\"14.00\" fill=\"#000000\">value = [1, 35]</text>\n</g>\n<!-- 21&#45;&gt;22 -->\n<g id=\"edge22\" class=\"edge\">\n<title>21&#45;&gt;22</title>\n<path fill=\"none\" stroke=\"#000000\" d=\"M807.044,-504.9465C801.6845,-496.2373 795.8539,-486.7626 790.2647,-477.6801\"/>\n<polygon fill=\"#000000\" stroke=\"#000000\" points=\"793.2249,-475.8122 785.0031,-469.13 787.2633,-479.481 793.2249,-475.8122\"/>\n</g>\n<!-- 25 -->\n<g id=\"node26\" class=\"node\">\n<title>25</title>\n<polygon fill=\"none\" stroke=\"#000000\" points=\"947,-469 837,-469 837,-401 947,-401 947,-469\"/>\n<text text-anchor=\"middle\" x=\"892\" y=\"-453.8\" font-family=\"Times,serif\" font-size=\"14.00\" fill=\"#000000\">X[2] &lt;= &#45;4.501</text>\n<text text-anchor=\"middle\" x=\"892\" y=\"-438.8\" font-family=\"Times,serif\" font-size=\"14.00\" fill=\"#000000\">entropy = 0.089</text>\n<text text-anchor=\"middle\" x=\"892\" y=\"-423.8\" font-family=\"Times,serif\" font-size=\"14.00\" fill=\"#000000\">samples = 89</text>\n<text text-anchor=\"middle\" x=\"892\" y=\"-408.8\" font-family=\"Times,serif\" font-size=\"14.00\" fill=\"#000000\">value = [88, 1]</text>\n</g>\n<!-- 21&#45;&gt;25 -->\n<g id=\"edge25\" class=\"edge\">\n<title>21&#45;&gt;25</title>\n<path fill=\"none\" stroke=\"#000000\" d=\"M848.956,-504.9465C854.3155,-496.2373 860.1461,-486.7626 865.7353,-477.6801\"/>\n<polygon fill=\"#000000\" stroke=\"#000000\" points=\"868.7367,-479.481 870.9969,-469.13 862.7751,-475.8122 868.7367,-479.481\"/>\n</g>\n<!-- 23 -->\n<g id=\"node24\" class=\"node\">\n<title>23</title>\n<polygon fill=\"none\" stroke=\"#000000\" points=\"706,-357.5 604,-357.5 604,-304.5 706,-304.5 706,-357.5\"/>\n<text text-anchor=\"middle\" x=\"655\" y=\"-342.3\" font-family=\"Times,serif\" font-size=\"14.00\" fill=\"#000000\">entropy = 0.0</text>\n<text text-anchor=\"middle\" x=\"655\" y=\"-327.3\" font-family=\"Times,serif\" font-size=\"14.00\" fill=\"#000000\">samples = 35</text>\n<text text-anchor=\"middle\" x=\"655\" y=\"-312.3\" font-family=\"Times,serif\" font-size=\"14.00\" fill=\"#000000\">value = [0, 35]</text>\n</g>\n<!-- 22&#45;&gt;23 -->\n<g id=\"edge23\" class=\"edge\">\n<title>22&#45;&gt;23</title>\n<path fill=\"none\" stroke=\"#000000\" d=\"M728.3093,-400.9465C716.0722,-389.2707 702.393,-376.219 690.1954,-364.5809\"/>\n<polygon fill=\"#000000\" stroke=\"#000000\" points=\"692.4694,-361.9131 682.8182,-357.5422 687.6372,-366.9777 692.4694,-361.9131\"/>\n</g>\n<!-- 24 -->\n<g id=\"node25\" class=\"node\">\n<title>24</title>\n<polygon fill=\"none\" stroke=\"#000000\" points=\"819.5,-357.5 724.5,-357.5 724.5,-304.5 819.5,-304.5 819.5,-357.5\"/>\n<text text-anchor=\"middle\" x=\"772\" y=\"-342.3\" font-family=\"Times,serif\" font-size=\"14.00\" fill=\"#000000\">entropy = 0.0</text>\n<text text-anchor=\"middle\" x=\"772\" y=\"-327.3\" font-family=\"Times,serif\" font-size=\"14.00\" fill=\"#000000\">samples = 1</text>\n<text text-anchor=\"middle\" x=\"772\" y=\"-312.3\" font-family=\"Times,serif\" font-size=\"14.00\" fill=\"#000000\">value = [1, 0]</text>\n</g>\n<!-- 22&#45;&gt;24 -->\n<g id=\"edge24\" class=\"edge\">\n<title>22&#45;&gt;24</title>\n<path fill=\"none\" stroke=\"#000000\" d=\"M766.6195,-400.9465C767.4414,-390.2621 768.3519,-378.4254 769.1866,-367.5742\"/>\n<polygon fill=\"#000000\" stroke=\"#000000\" points=\"772.6809,-367.7812 769.9583,-357.5422 765.7015,-367.2442 772.6809,-367.7812\"/>\n</g>\n<!-- 26 -->\n<g id=\"node27\" class=\"node\">\n<title>26</title>\n<polygon fill=\"none\" stroke=\"#000000\" points=\"932.5,-357.5 837.5,-357.5 837.5,-304.5 932.5,-304.5 932.5,-357.5\"/>\n<text text-anchor=\"middle\" x=\"885\" y=\"-342.3\" font-family=\"Times,serif\" font-size=\"14.00\" fill=\"#000000\">entropy = 0.0</text>\n<text text-anchor=\"middle\" x=\"885\" y=\"-327.3\" font-family=\"Times,serif\" font-size=\"14.00\" fill=\"#000000\">samples = 1</text>\n<text text-anchor=\"middle\" x=\"885\" y=\"-312.3\" font-family=\"Times,serif\" font-size=\"14.00\" fill=\"#000000\">value = [0, 1]</text>\n</g>\n<!-- 25&#45;&gt;26 -->\n<g id=\"edge26\" class=\"edge\">\n<title>25&#45;&gt;26</title>\n<path fill=\"none\" stroke=\"#000000\" d=\"M889.7079,-400.9465C888.9888,-390.2621 888.1921,-378.4254 887.4617,-367.5742\"/>\n<polygon fill=\"#000000\" stroke=\"#000000\" points=\"890.9502,-367.2845 886.7865,-357.5422 883.966,-367.7547 890.9502,-367.2845\"/>\n</g>\n<!-- 27 -->\n<g id=\"node28\" class=\"node\">\n<title>27</title>\n<polygon fill=\"none\" stroke=\"#000000\" points=\"1053,-357.5 951,-357.5 951,-304.5 1053,-304.5 1053,-357.5\"/>\n<text text-anchor=\"middle\" x=\"1002\" y=\"-342.3\" font-family=\"Times,serif\" font-size=\"14.00\" fill=\"#000000\">entropy = 0.0</text>\n<text text-anchor=\"middle\" x=\"1002\" y=\"-327.3\" font-family=\"Times,serif\" font-size=\"14.00\" fill=\"#000000\">samples = 88</text>\n<text text-anchor=\"middle\" x=\"1002\" y=\"-312.3\" font-family=\"Times,serif\" font-size=\"14.00\" fill=\"#000000\">value = [88, 0]</text>\n</g>\n<!-- 25&#45;&gt;27 -->\n<g id=\"edge27\" class=\"edge\">\n<title>25&#45;&gt;27</title>\n<path fill=\"none\" stroke=\"#000000\" d=\"M928.0181,-400.9465C940.3675,-389.2707 954.1722,-376.219 966.4817,-364.5809\"/>\n<polygon fill=\"#000000\" stroke=\"#000000\" points=\"969.0646,-366.9556 973.9266,-357.5422 964.2555,-361.869 969.0646,-366.9556\"/>\n</g>\n<!-- 29 -->\n<g id=\"node30\" class=\"node\">\n<title>29</title>\n<polygon fill=\"none\" stroke=\"#000000\" points=\"1180.5,-573 1063.5,-573 1063.5,-505 1180.5,-505 1180.5,-573\"/>\n<text text-anchor=\"middle\" x=\"1122\" y=\"-557.8\" font-family=\"Times,serif\" font-size=\"14.00\" fill=\"#000000\">X[1] &lt;= 4.941</text>\n<text text-anchor=\"middle\" x=\"1122\" y=\"-542.8\" font-family=\"Times,serif\" font-size=\"14.00\" fill=\"#000000\">entropy = 0.722</text>\n<text text-anchor=\"middle\" x=\"1122\" y=\"-527.8\" font-family=\"Times,serif\" font-size=\"14.00\" fill=\"#000000\">samples = 170</text>\n<text text-anchor=\"middle\" x=\"1122\" y=\"-512.8\" font-family=\"Times,serif\" font-size=\"14.00\" fill=\"#000000\">value = [136, 34]</text>\n</g>\n<!-- 28&#45;&gt;29 -->\n<g id=\"edge29\" class=\"edge\">\n<title>28&#45;&gt;29</title>\n<path fill=\"none\" stroke=\"#000000\" d=\"M1122,-608.9465C1122,-600.776 1122,-591.9318 1122,-583.3697\"/>\n<polygon fill=\"#000000\" stroke=\"#000000\" points=\"1125.5001,-583.13 1122,-573.13 1118.5001,-583.13 1125.5001,-583.13\"/>\n</g>\n<!-- 34 -->\n<g id=\"node35\" class=\"node\">\n<title>34</title>\n<polygon fill=\"none\" stroke=\"#000000\" points=\"1309,-565.5 1199,-565.5 1199,-512.5 1309,-512.5 1309,-565.5\"/>\n<text text-anchor=\"middle\" x=\"1254\" y=\"-550.3\" font-family=\"Times,serif\" font-size=\"14.00\" fill=\"#000000\">entropy = 0.0</text>\n<text text-anchor=\"middle\" x=\"1254\" y=\"-535.3\" font-family=\"Times,serif\" font-size=\"14.00\" fill=\"#000000\">samples = 337</text>\n<text text-anchor=\"middle\" x=\"1254\" y=\"-520.3\" font-family=\"Times,serif\" font-size=\"14.00\" fill=\"#000000\">value = [337, 0]</text>\n</g>\n<!-- 28&#45;&gt;34 -->\n<g id=\"edge34\" class=\"edge\">\n<title>28&#45;&gt;34</title>\n<path fill=\"none\" stroke=\"#000000\" d=\"M1165.2217,-608.9465C1180.3206,-597.0504 1197.2324,-583.726 1212.2122,-571.9237\"/>\n<polygon fill=\"#000000\" stroke=\"#000000\" points=\"1214.623,-574.4802 1220.3119,-565.5422 1210.2909,-568.9817 1214.623,-574.4802\"/>\n</g>\n<!-- 30 -->\n<g id=\"node31\" class=\"node\">\n<title>30</title>\n<polygon fill=\"none\" stroke=\"#000000\" points=\"1173.5,-469 1070.5,-469 1070.5,-401 1173.5,-401 1173.5,-469\"/>\n<text text-anchor=\"middle\" x=\"1122\" y=\"-453.8\" font-family=\"Times,serif\" font-size=\"14.00\" fill=\"#000000\">X[0] &lt;= 3.782</text>\n<text text-anchor=\"middle\" x=\"1122\" y=\"-438.8\" font-family=\"Times,serif\" font-size=\"14.00\" fill=\"#000000\">entropy = 0.31</text>\n<text text-anchor=\"middle\" x=\"1122\" y=\"-423.8\" font-family=\"Times,serif\" font-size=\"14.00\" fill=\"#000000\">samples = 36</text>\n<text text-anchor=\"middle\" x=\"1122\" y=\"-408.8\" font-family=\"Times,serif\" font-size=\"14.00\" fill=\"#000000\">value = [2, 34]</text>\n</g>\n<!-- 29&#45;&gt;30 -->\n<g id=\"edge30\" class=\"edge\">\n<title>29&#45;&gt;30</title>\n<path fill=\"none\" stroke=\"#000000\" d=\"M1122,-504.9465C1122,-496.776 1122,-487.9318 1122,-479.3697\"/>\n<polygon fill=\"#000000\" stroke=\"#000000\" points=\"1125.5001,-479.13 1122,-469.13 1118.5001,-479.13 1125.5001,-479.13\"/>\n</g>\n<!-- 33 -->\n<g id=\"node34\" class=\"node\">\n<title>33</title>\n<polygon fill=\"none\" stroke=\"#000000\" points=\"1302,-461.5 1192,-461.5 1192,-408.5 1302,-408.5 1302,-461.5\"/>\n<text text-anchor=\"middle\" x=\"1247\" y=\"-446.3\" font-family=\"Times,serif\" font-size=\"14.00\" fill=\"#000000\">entropy = 0.0</text>\n<text text-anchor=\"middle\" x=\"1247\" y=\"-431.3\" font-family=\"Times,serif\" font-size=\"14.00\" fill=\"#000000\">samples = 134</text>\n<text text-anchor=\"middle\" x=\"1247\" y=\"-416.3\" font-family=\"Times,serif\" font-size=\"14.00\" fill=\"#000000\">value = [134, 0]</text>\n</g>\n<!-- 29&#45;&gt;33 -->\n<g id=\"edge33\" class=\"edge\">\n<title>29&#45;&gt;33</title>\n<path fill=\"none\" stroke=\"#000000\" d=\"M1162.9297,-504.9465C1177.0955,-493.1606 1192.9463,-479.9726 1207.0338,-468.2519\"/>\n<polygon fill=\"#000000\" stroke=\"#000000\" points=\"1209.6496,-470.6285 1215.0984,-461.5422 1205.1725,-465.2474 1209.6496,-470.6285\"/>\n</g>\n<!-- 31 -->\n<g id=\"node32\" class=\"node\">\n<title>31</title>\n<polygon fill=\"none\" stroke=\"#000000\" points=\"1173,-357.5 1071,-357.5 1071,-304.5 1173,-304.5 1173,-357.5\"/>\n<text text-anchor=\"middle\" x=\"1122\" y=\"-342.3\" font-family=\"Times,serif\" font-size=\"14.00\" fill=\"#000000\">entropy = 0.0</text>\n<text text-anchor=\"middle\" x=\"1122\" y=\"-327.3\" font-family=\"Times,serif\" font-size=\"14.00\" fill=\"#000000\">samples = 34</text>\n<text text-anchor=\"middle\" x=\"1122\" y=\"-312.3\" font-family=\"Times,serif\" font-size=\"14.00\" fill=\"#000000\">value = [0, 34]</text>\n</g>\n<!-- 30&#45;&gt;31 -->\n<g id=\"edge31\" class=\"edge\">\n<title>30&#45;&gt;31</title>\n<path fill=\"none\" stroke=\"#000000\" d=\"M1122,-400.9465C1122,-390.2621 1122,-378.4254 1122,-367.5742\"/>\n<polygon fill=\"#000000\" stroke=\"#000000\" points=\"1125.5001,-367.5421 1122,-357.5422 1118.5001,-367.5422 1125.5001,-367.5421\"/>\n</g>\n<!-- 32 -->\n<g id=\"node33\" class=\"node\">\n<title>32</title>\n<polygon fill=\"none\" stroke=\"#000000\" points=\"1286.5,-357.5 1191.5,-357.5 1191.5,-304.5 1286.5,-304.5 1286.5,-357.5\"/>\n<text text-anchor=\"middle\" x=\"1239\" y=\"-342.3\" font-family=\"Times,serif\" font-size=\"14.00\" fill=\"#000000\">entropy = 0.0</text>\n<text text-anchor=\"middle\" x=\"1239\" y=\"-327.3\" font-family=\"Times,serif\" font-size=\"14.00\" fill=\"#000000\">samples = 2</text>\n<text text-anchor=\"middle\" x=\"1239\" y=\"-312.3\" font-family=\"Times,serif\" font-size=\"14.00\" fill=\"#000000\">value = [2, 0]</text>\n</g>\n<!-- 30&#45;&gt;32 -->\n<g id=\"edge32\" class=\"edge\">\n<title>30&#45;&gt;32</title>\n<path fill=\"none\" stroke=\"#000000\" d=\"M1160.3102,-400.9465C1173.5694,-389.1606 1188.4058,-375.9726 1201.5916,-364.2519\"/>\n<polygon fill=\"#000000\" stroke=\"#000000\" points=\"1203.9912,-366.8018 1209.1401,-357.5422 1199.3407,-361.5699 1203.9912,-366.8018\"/>\n</g>\n</g>\n</svg>\n"
          },
          "metadata": {
            "tags": []
          },
          "execution_count": 19
        }
      ]
    },
    {
      "cell_type": "code",
      "metadata": {
        "id": "nOp40ypnV80w",
        "colab_type": "code",
        "colab": {}
      },
      "source": [
        ""
      ],
      "execution_count": 0,
      "outputs": []
    }
  ]
}