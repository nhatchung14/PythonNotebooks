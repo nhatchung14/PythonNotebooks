{
  "nbformat": 4,
  "nbformat_minor": 0,
  "metadata": {
    "colab": {
      "name": "1-Lab-DecisionTree.ipynb",
      "provenance": [],
      "collapsed_sections": [],
      "include_colab_link": true
    },
    "kernelspec": {
      "display_name": "Python 3",
      "language": "python",
      "name": "python3"
    },
    "language_info": {
      "codemirror_mode": {
        "name": "ipython",
        "version": 3
      },
      "file_extension": ".py",
      "mimetype": "text/x-python",
      "name": "python",
      "nbconvert_exporter": "python",
      "pygments_lexer": "ipython3",
      "version": "3.7.3"
    }
  },
  "cells": [
    {
      "cell_type": "markdown",
      "metadata": {
        "id": "view-in-github",
        "colab_type": "text"
      },
      "source": [
        "<a href=\"https://colab.research.google.com/github/nhatchung14/PythonNotebooks/blob/master/1_Lab_DecisionTree.ipynb\" target=\"_parent\"><img src=\"https://colab.research.google.com/assets/colab-badge.svg\" alt=\"Open In Colab\"/></a>"
      ]
    },
    {
      "cell_type": "code",
      "metadata": {
        "id": "4FUWxjrPV9ve",
        "colab_type": "code",
        "colab": {
          "base_uri": "https://localhost:8080/",
          "height": 68
        },
        "outputId": "2db9f686-b38a-41fc-eda0-751febb7bf7d"
      },
      "source": [
        "from google.colab import drive\n",
        "drive.mount('/gdrive')\n",
        "%cd /gdrive\n",
        "%cd 'My Drive'/'Colab Notebooks'/Lab6/2-Decision-Tree\n"
      ],
      "execution_count": 34,
      "outputs": [
        {
          "output_type": "stream",
          "text": [
            "Drive already mounted at /gdrive; to attempt to forcibly remount, call drive.mount(\"/gdrive\", force_remount=True).\n",
            "/gdrive\n",
            "/gdrive/My Drive/Colab Notebooks/Lab6/2-Decision-Tree\n"
          ],
          "name": "stdout"
        }
      ]
    },
    {
      "cell_type": "markdown",
      "metadata": {
        "colab_type": "text",
        "id": "gvKshvFzQorr"
      },
      "source": [
        "# Decision Tree in Python"
      ]
    },
    {
      "cell_type": "markdown",
      "metadata": {
        "colab_type": "text",
        "id": "YeHd4gDaQ0_c"
      },
      "source": [
        "## Introduction"
      ]
    },
    {
      "cell_type": "markdown",
      "metadata": {
        "colab_type": "text",
        "id": "VxauYFNjYzWw"
      },
      "source": [
        "\n",
        "* Author: thuanle@hcmut.edu.vn\n",
        "\n",
        "* Content:\n",
        "  - Practice the DecisionTree classifier\n",
        "  - Learn more about split the dataset into train and test.\n",
        "  - Evaluation by Accuracy score\n",
        "* Major steps:\n",
        "  - Load data from CSV, split into trainning set and test set\n",
        "  - Buidling kNN model.\n",
        "  - Evaluating results\n",
        "  - Training DecisionTree classifier model\n",
        "  - Evaluating results\n",
        "  - Visualize models"
      ]
    },
    {
      "cell_type": "markdown",
      "metadata": {
        "colab_type": "text",
        "id": "iqHlfOFUVQAD"
      },
      "source": [
        "## Configuration"
      ]
    },
    {
      "cell_type": "code",
      "metadata": {
        "colab_type": "code",
        "id": "hFmx_vCrVEX3",
        "colab": {}
      },
      "source": [
        "dataset_filename = \"bill_authentication.csv\""
      ],
      "execution_count": 0,
      "outputs": []
    },
    {
      "cell_type": "markdown",
      "metadata": {
        "colab_type": "text",
        "id": "H89hX3QbQor2"
      },
      "source": [
        "## Grab the data\n",
        "\n",
        "Since our file is in CSV format, we will use panda's read_csv method to read our CSV data file. Execute the following script to do so:"
      ]
    },
    {
      "cell_type": "code",
      "metadata": {
        "colab_type": "code",
        "id": "t85tLpXzQor5",
        "outputId": "68410846-da8d-44a3-ef35-7feaa6605d8d",
        "colab": {
          "base_uri": "https://localhost:8080/",
          "height": 34
        }
      },
      "source": [
        "import pandas as pd  \n",
        "dataset = pd.read_csv(dataset_filename)\n",
        "dataset.shape"
      ],
      "execution_count": 36,
      "outputs": [
        {
          "output_type": "execute_result",
          "data": {
            "text/plain": [
              "(1372, 5)"
            ]
          },
          "metadata": {
            "tags": []
          },
          "execution_count": 36
        }
      ]
    },
    {
      "cell_type": "code",
      "metadata": {
        "colab_type": "code",
        "id": "A0dBLnZKQosF",
        "outputId": "c9cd6b84-fecb-4552-dda3-4a8542267a32",
        "colab": {
          "base_uri": "https://localhost:8080/",
          "height": 34
        }
      },
      "source": [
        "# Overview about dataset\n",
        "dataset.keys()"
      ],
      "execution_count": 37,
      "outputs": [
        {
          "output_type": "execute_result",
          "data": {
            "text/plain": [
              "Index(['Variance', 'Skewness', 'Curtosis', 'Entropy', 'Class'], dtype='object')"
            ]
          },
          "metadata": {
            "tags": []
          },
          "execution_count": 37
        }
      ]
    },
    {
      "cell_type": "code",
      "metadata": {
        "colab_type": "code",
        "id": "6S5WHtRnQosJ",
        "outputId": "fd754c3c-c998-4238-d904-5751ea5f3f1d",
        "colab": {
          "base_uri": "https://localhost:8080/",
          "height": 204
        }
      },
      "source": [
        "dataset.head()  "
      ],
      "execution_count": 38,
      "outputs": [
        {
          "output_type": "execute_result",
          "data": {
            "text/html": [
              "<div>\n",
              "<style scoped>\n",
              "    .dataframe tbody tr th:only-of-type {\n",
              "        vertical-align: middle;\n",
              "    }\n",
              "\n",
              "    .dataframe tbody tr th {\n",
              "        vertical-align: top;\n",
              "    }\n",
              "\n",
              "    .dataframe thead th {\n",
              "        text-align: right;\n",
              "    }\n",
              "</style>\n",
              "<table border=\"1\" class=\"dataframe\">\n",
              "  <thead>\n",
              "    <tr style=\"text-align: right;\">\n",
              "      <th></th>\n",
              "      <th>Variance</th>\n",
              "      <th>Skewness</th>\n",
              "      <th>Curtosis</th>\n",
              "      <th>Entropy</th>\n",
              "      <th>Class</th>\n",
              "    </tr>\n",
              "  </thead>\n",
              "  <tbody>\n",
              "    <tr>\n",
              "      <th>0</th>\n",
              "      <td>3.62160</td>\n",
              "      <td>8.6661</td>\n",
              "      <td>-2.8073</td>\n",
              "      <td>-0.44699</td>\n",
              "      <td>0</td>\n",
              "    </tr>\n",
              "    <tr>\n",
              "      <th>1</th>\n",
              "      <td>4.54590</td>\n",
              "      <td>8.1674</td>\n",
              "      <td>-2.4586</td>\n",
              "      <td>-1.46210</td>\n",
              "      <td>0</td>\n",
              "    </tr>\n",
              "    <tr>\n",
              "      <th>2</th>\n",
              "      <td>3.86600</td>\n",
              "      <td>-2.6383</td>\n",
              "      <td>1.9242</td>\n",
              "      <td>0.10645</td>\n",
              "      <td>0</td>\n",
              "    </tr>\n",
              "    <tr>\n",
              "      <th>3</th>\n",
              "      <td>3.45660</td>\n",
              "      <td>9.5228</td>\n",
              "      <td>-4.0112</td>\n",
              "      <td>-3.59440</td>\n",
              "      <td>0</td>\n",
              "    </tr>\n",
              "    <tr>\n",
              "      <th>4</th>\n",
              "      <td>0.32924</td>\n",
              "      <td>-4.4552</td>\n",
              "      <td>4.5718</td>\n",
              "      <td>-0.98880</td>\n",
              "      <td>0</td>\n",
              "    </tr>\n",
              "  </tbody>\n",
              "</table>\n",
              "</div>"
            ],
            "text/plain": [
              "   Variance  Skewness  Curtosis  Entropy  Class\n",
              "0   3.62160    8.6661   -2.8073 -0.44699      0\n",
              "1   4.54590    8.1674   -2.4586 -1.46210      0\n",
              "2   3.86600   -2.6383    1.9242  0.10645      0\n",
              "3   3.45660    9.5228   -4.0112 -3.59440      0\n",
              "4   0.32924   -4.4552    4.5718 -0.98880      0"
            ]
          },
          "metadata": {
            "tags": []
          },
          "execution_count": 38
        }
      ]
    },
    {
      "cell_type": "markdown",
      "metadata": {
        "colab_type": "text",
        "id": "NTob9ldXZST2"
      },
      "source": [
        "## Prepare train data and test set"
      ]
    },
    {
      "cell_type": "markdown",
      "metadata": {
        "colab_type": "text",
        "id": "_SHtTv-AQosM"
      },
      "source": [
        "The label is describe in **Class** column. So that we devide the dataset into attributes and labels"
      ]
    },
    {
      "cell_type": "code",
      "metadata": {
        "colab_type": "code",
        "id": "IWlX_Ip1QosN",
        "colab": {}
      },
      "source": [
        "X = dataset.drop('Class', axis=1)  \n",
        "y = dataset['Class']  "
      ],
      "execution_count": 0,
      "outputs": []
    },
    {
      "cell_type": "markdown",
      "metadata": {
        "colab_type": "text",
        "id": "gg1L0AW-2ScC"
      },
      "source": [
        "Here the X variable contains all the columns from the dataset, except the **Class** column, which is the label.\n",
        "\n",
        "The y variable contains the values from the **Class** column. \n",
        "\n",
        "The X variable is our attribute set and y variable contains corresponding labels."
      ]
    },
    {
      "cell_type": "markdown",
      "metadata": {
        "colab_type": "text",
        "id": "7mAg-sUBQosS"
      },
      "source": [
        "### Dividing our data into training and test sets. "
      ]
    },
    {
      "cell_type": "markdown",
      "metadata": {
        "colab_type": "text",
        "id": "0Fp9RNwf2oon"
      },
      "source": [
        "So, we split the test into 2 sets: training set and testing set. We use to split up 20% of the data in to the test set and 80% for training."
      ]
    },
    {
      "cell_type": "code",
      "metadata": {
        "colab_type": "code",
        "id": "8fXzzhfHQosT",
        "outputId": "b769cf42-a0a7-4544-9964-6f30dc392160",
        "colab": {
          "base_uri": "https://localhost:8080/",
          "height": 51
        }
      },
      "source": [
        "from sklearn.model_selection import train_test_split  \n",
        "X_train, X_test, y_train, y_test = train_test_split(X, y, test_size=0.20)\n",
        "print(X_train.shape, y_train.size)\n",
        "print(X_test.shape, y_test.shape)"
      ],
      "execution_count": 40,
      "outputs": [
        {
          "output_type": "stream",
          "text": [
            "(1097, 4) 1097\n",
            "(275, 4) (275,)\n"
          ],
          "name": "stdout"
        }
      ]
    },
    {
      "cell_type": "markdown",
      "metadata": {
        "colab_type": "text",
        "id": "RvkIhGKzQosZ"
      },
      "source": [
        "## Training with Decision Tree"
      ]
    },
    {
      "cell_type": "code",
      "metadata": {
        "id": "ZnN0V-ycbX2M",
        "colab_type": "code",
        "colab": {}
      },
      "source": [
        "from sklearn.metrics import classification_report"
      ],
      "execution_count": 0,
      "outputs": []
    },
    {
      "cell_type": "markdown",
      "metadata": {
        "colab_type": "text",
        "id": "Whzch7nq5Fdc"
      },
      "source": [
        "Now, let's build a **Decision Tree** model"
      ]
    },
    {
      "cell_type": "markdown",
      "metadata": {
        "id": "rq-e1YxpV80H",
        "colab_type": "text"
      },
      "source": [
        "### a) criterion='gini'"
      ]
    },
    {
      "cell_type": "code",
      "metadata": {
        "colab_type": "code",
        "id": "A5VjKMNFQosZ",
        "outputId": "13ff1a4a-1054-4b7f-bb0c-30bc4296afa7",
        "colab": {
          "base_uri": "https://localhost:8080/",
          "height": 119
        }
      },
      "source": [
        "from sklearn.tree import DecisionTreeClassifier  \n",
        "dt = DecisionTreeClassifier(criterion='gini')  \n",
        "dt.fit(X_train, y_train)  "
      ],
      "execution_count": 42,
      "outputs": [
        {
          "output_type": "execute_result",
          "data": {
            "text/plain": [
              "DecisionTreeClassifier(ccp_alpha=0.0, class_weight=None, criterion='gini',\n",
              "                       max_depth=None, max_features=None, max_leaf_nodes=None,\n",
              "                       min_impurity_decrease=0.0, min_impurity_split=None,\n",
              "                       min_samples_leaf=1, min_samples_split=2,\n",
              "                       min_weight_fraction_leaf=0.0, presort='deprecated',\n",
              "                       random_state=None, splitter='best')"
            ]
          },
          "metadata": {
            "tags": []
          },
          "execution_count": 42
        }
      ]
    },
    {
      "cell_type": "code",
      "metadata": {
        "colab_type": "code",
        "id": "577pssBYQose",
        "outputId": "b27a7a46-9f42-4f18-b9f2-7e735aae2ad4",
        "colab": {
          "base_uri": "https://localhost:8080/",
          "height": 238
        }
      },
      "source": [
        "y_pred_dt = dt.predict(X_test)  \n",
        "y_pred_dt"
      ],
      "execution_count": 43,
      "outputs": [
        {
          "output_type": "execute_result",
          "data": {
            "text/plain": [
              "array([1, 0, 0, 1, 1, 1, 1, 0, 1, 0, 1, 1, 1, 1, 0, 1, 1, 0, 0, 1, 1, 0,\n",
              "       0, 0, 0, 1, 0, 1, 1, 0, 1, 0, 0, 1, 0, 1, 1, 0, 0, 1, 1, 0, 0, 0,\n",
              "       1, 0, 0, 0, 0, 1, 0, 1, 0, 1, 0, 1, 0, 0, 1, 0, 1, 1, 1, 1, 0, 0,\n",
              "       0, 0, 0, 0, 0, 0, 0, 1, 1, 0, 1, 0, 1, 1, 1, 0, 0, 0, 0, 0, 1, 1,\n",
              "       1, 1, 0, 1, 1, 0, 1, 0, 0, 1, 0, 0, 1, 1, 0, 1, 0, 1, 0, 1, 0, 1,\n",
              "       0, 0, 1, 0, 0, 1, 1, 0, 1, 0, 0, 1, 1, 1, 0, 0, 1, 1, 0, 0, 0, 0,\n",
              "       0, 0, 0, 0, 0, 1, 0, 0, 1, 1, 0, 0, 0, 1, 1, 0, 0, 0, 0, 0, 1, 1,\n",
              "       0, 1, 1, 0, 1, 0, 1, 0, 1, 1, 0, 1, 0, 0, 0, 1, 1, 1, 0, 1, 0, 0,\n",
              "       0, 0, 0, 0, 1, 0, 1, 0, 1, 1, 1, 1, 1, 0, 0, 0, 0, 1, 1, 0, 0, 0,\n",
              "       1, 0, 0, 1, 0, 1, 1, 1, 0, 1, 1, 0, 1, 1, 0, 1, 1, 1, 0, 0, 1, 0,\n",
              "       1, 0, 1, 1, 0, 0, 0, 0, 1, 0, 0, 1, 1, 1, 0, 0, 0, 1, 0, 0, 0, 1,\n",
              "       0, 0, 0, 0, 0, 1, 1, 0, 0, 0, 1, 0, 1, 0, 0, 0, 0, 1, 0, 0, 0, 0,\n",
              "       1, 0, 1, 0, 1, 1, 0, 0, 1, 0, 1])"
            ]
          },
          "metadata": {
            "tags": []
          },
          "execution_count": 43
        }
      ]
    },
    {
      "cell_type": "markdown",
      "metadata": {
        "colab_type": "text",
        "id": "UusvjyEMQosl"
      },
      "source": [
        "##### Evaluating the Algorithm\n",
        "\n"
      ]
    },
    {
      "cell_type": "code",
      "metadata": {
        "colab_type": "code",
        "id": "ZrVWAiUDQosm",
        "outputId": "abb3aca2-ff10-49c4-d688-b72ce9247392",
        "colab": {
          "base_uri": "https://localhost:8080/",
          "height": 34
        }
      },
      "source": [
        "dt_score = dt.score(X_test, y_test)\n",
        "print(f\"Decision Tree classifier accuracy score is {dt_score}\")"
      ],
      "execution_count": 44,
      "outputs": [
        {
          "output_type": "stream",
          "text": [
            "Decision Tree classifier accuracy score is 0.9781818181818182\n"
          ],
          "name": "stdout"
        }
      ]
    },
    {
      "cell_type": "code",
      "metadata": {
        "id": "OfYmGvu3bkms",
        "colab_type": "code",
        "colab": {
          "base_uri": "https://localhost:8080/",
          "height": 170
        },
        "outputId": "c29522b8-9744-432e-ae92-40d815aa9245"
      },
      "source": [
        "print(classification_report(y_test, y_pred_dt))"
      ],
      "execution_count": 45,
      "outputs": [
        {
          "output_type": "stream",
          "text": [
            "              precision    recall  f1-score   support\n",
            "\n",
            "           0       0.98      0.98      0.98       153\n",
            "           1       0.98      0.98      0.98       122\n",
            "\n",
            "    accuracy                           0.98       275\n",
            "   macro avg       0.98      0.98      0.98       275\n",
            "weighted avg       0.98      0.98      0.98       275\n",
            "\n"
          ],
          "name": "stdout"
        }
      ]
    },
    {
      "cell_type": "markdown",
      "metadata": {
        "id": "L7lH8nW8V80W",
        "colab_type": "text"
      },
      "source": [
        "### b) criterion='entropy'"
      ]
    },
    {
      "cell_type": "code",
      "metadata": {
        "id": "oFIcIZEaV80X",
        "colab_type": "code",
        "colab": {
          "base_uri": "https://localhost:8080/",
          "height": 119
        },
        "outputId": "ebf7f20b-9bf7-4d85-fa98-9aa3398ae61e"
      },
      "source": [
        "from sklearn.tree import DecisionTreeClassifier  \n",
        "dt2 = DecisionTreeClassifier(criterion='entropy')  \n",
        "dt2.fit(X_train, y_train)  "
      ],
      "execution_count": 46,
      "outputs": [
        {
          "output_type": "execute_result",
          "data": {
            "text/plain": [
              "DecisionTreeClassifier(ccp_alpha=0.0, class_weight=None, criterion='entropy',\n",
              "                       max_depth=None, max_features=None, max_leaf_nodes=None,\n",
              "                       min_impurity_decrease=0.0, min_impurity_split=None,\n",
              "                       min_samples_leaf=1, min_samples_split=2,\n",
              "                       min_weight_fraction_leaf=0.0, presort='deprecated',\n",
              "                       random_state=None, splitter='best')"
            ]
          },
          "metadata": {
            "tags": []
          },
          "execution_count": 46
        }
      ]
    },
    {
      "cell_type": "code",
      "metadata": {
        "scrolled": false,
        "id": "kTlR5I0YV80b",
        "colab_type": "code",
        "colab": {
          "base_uri": "https://localhost:8080/",
          "height": 238
        },
        "outputId": "39ea50a1-43fb-447f-8e94-c0521478f86b"
      },
      "source": [
        "y_pred_dt = dt2.predict(X_test)  \n",
        "y_pred_dt"
      ],
      "execution_count": 47,
      "outputs": [
        {
          "output_type": "execute_result",
          "data": {
            "text/plain": [
              "array([1, 0, 0, 1, 1, 1, 1, 0, 1, 0, 1, 1, 1, 1, 0, 1, 1, 0, 0, 1, 1, 0,\n",
              "       0, 0, 0, 1, 0, 1, 1, 0, 1, 0, 0, 1, 1, 1, 1, 0, 0, 1, 1, 0, 0, 0,\n",
              "       1, 0, 0, 0, 0, 1, 0, 1, 0, 1, 0, 1, 0, 0, 1, 0, 1, 1, 1, 1, 0, 0,\n",
              "       0, 0, 0, 0, 0, 0, 0, 1, 1, 0, 1, 0, 1, 1, 1, 0, 0, 0, 0, 0, 1, 1,\n",
              "       1, 1, 0, 1, 1, 0, 1, 0, 0, 1, 0, 0, 1, 1, 0, 1, 0, 1, 0, 1, 0, 1,\n",
              "       0, 0, 1, 0, 0, 1, 1, 0, 1, 0, 0, 1, 1, 1, 0, 0, 1, 1, 0, 0, 0, 0,\n",
              "       0, 0, 0, 0, 0, 1, 0, 0, 1, 1, 0, 0, 0, 1, 1, 0, 0, 0, 0, 0, 1, 1,\n",
              "       0, 1, 1, 0, 1, 0, 1, 0, 1, 1, 0, 1, 0, 0, 0, 1, 1, 1, 0, 0, 0, 0,\n",
              "       0, 0, 0, 0, 1, 0, 1, 0, 1, 1, 1, 1, 1, 0, 0, 0, 0, 1, 1, 0, 0, 0,\n",
              "       1, 0, 0, 1, 0, 1, 1, 1, 0, 1, 1, 0, 1, 1, 0, 1, 1, 1, 0, 0, 1, 0,\n",
              "       1, 0, 1, 1, 0, 0, 0, 0, 1, 0, 0, 1, 1, 1, 0, 0, 0, 1, 0, 0, 0, 1,\n",
              "       0, 1, 0, 0, 0, 1, 1, 0, 0, 0, 1, 0, 1, 0, 0, 0, 0, 1, 0, 0, 0, 0,\n",
              "       1, 0, 1, 0, 1, 1, 0, 0, 1, 0, 1])"
            ]
          },
          "metadata": {
            "tags": []
          },
          "execution_count": 47
        }
      ]
    },
    {
      "cell_type": "markdown",
      "metadata": {
        "colab_type": "text",
        "id": "seQGu71LV80f"
      },
      "source": [
        "##### Evaluating the Algorithm\n",
        "\n"
      ]
    },
    {
      "cell_type": "code",
      "metadata": {
        "colab_type": "code",
        "outputId": "e8aeb3a8-2e08-4667-cdcb-6b68c125945f",
        "id": "q7hlcB4GV80g",
        "colab": {
          "base_uri": "https://localhost:8080/",
          "height": 34
        }
      },
      "source": [
        "dt_score = dt.score(X_test, y_test)\n",
        "print(f\"Decision Tree classifier accuracy score is {dt_score}\")"
      ],
      "execution_count": 48,
      "outputs": [
        {
          "output_type": "stream",
          "text": [
            "Decision Tree classifier accuracy score is 0.9781818181818182\n"
          ],
          "name": "stdout"
        }
      ]
    },
    {
      "cell_type": "code",
      "metadata": {
        "id": "JBBl3gWnb28d",
        "colab_type": "code",
        "colab": {
          "base_uri": "https://localhost:8080/",
          "height": 170
        },
        "outputId": "c3b64a40-a8ba-450b-87c0-3f6ca9760587"
      },
      "source": [
        "print(classification_report(y_test, y_pred_dt))"
      ],
      "execution_count": 49,
      "outputs": [
        {
          "output_type": "stream",
          "text": [
            "              precision    recall  f1-score   support\n",
            "\n",
            "           0       0.99      0.98      0.98       153\n",
            "           1       0.98      0.98      0.98       122\n",
            "\n",
            "    accuracy                           0.98       275\n",
            "   macro avg       0.98      0.98      0.98       275\n",
            "weighted avg       0.98      0.98      0.98       275\n",
            "\n"
          ],
          "name": "stdout"
        }
      ]
    },
    {
      "cell_type": "markdown",
      "metadata": {
        "colab_type": "text",
        "id": "pSKS600B8a7r"
      },
      "source": [
        "## Extra section"
      ]
    },
    {
      "cell_type": "markdown",
      "metadata": {
        "colab_type": "text",
        "id": "VOR4z1m7Qoss"
      },
      "source": [
        "### Visualize decision tree"
      ]
    },
    {
      "cell_type": "markdown",
      "metadata": {
        "colab_type": "text",
        "id": "flCqCeIl8xm9"
      },
      "source": [
        "We can visualize the Decision Tree model using the [Graphviz](https://www.graphviz.org/) tool.\n",
        "\n",
        "Graphviz is an easy tool for drawing graph. For example: the code\n",
        "\n",
        "```\n",
        "digraph G {Hello->World}\n",
        "```\n",
        "\n",
        "will generate the following graph\n",
        "\n",
        "![digraph](https://graphviz.gitlab.io/_pages/Gallery/directed/hello.png)\n",
        "\n",
        "* More example https://www.graphviz.org/gallery/\n",
        "* You can play around at http://www.webgraphviz.com/ or https://dreampuf.github.io/GraphvizOnline/"
      ]
    },
    {
      "cell_type": "markdown",
      "metadata": {
        "colab_type": "text",
        "id": "mIG3R9Lk_5NS"
      },
      "source": [
        "So let's generate the graph."
      ]
    },
    {
      "cell_type": "code",
      "metadata": {
        "colab_type": "code",
        "id": "YIZ49PfhQosu",
        "outputId": "8f9a7199-6140-47f0-dc84-1cc142cc5168",
        "colab": {
          "base_uri": "https://localhost:8080/",
          "height": 1000
        }
      },
      "source": [
        "from sklearn.tree import export_graphviz\n",
        "dot_data = export_graphviz(dt, out_file=None)\n",
        "print(dot_data)"
      ],
      "execution_count": 50,
      "outputs": [
        {
          "output_type": "stream",
          "text": [
            "digraph Tree {\n",
            "node [shape=box] ;\n",
            "0 [label=\"X[0] <= 0.32\\ngini = 0.494\\nsamples = 1097\\nvalue = [609, 488]\"] ;\n",
            "1 [label=\"X[1] <= 7.565\\ngini = 0.312\\nsamples = 523\\nvalue = [101, 422]\"] ;\n",
            "0 -> 1 [labeldistance=2.5, labelangle=45, headlabel=\"True\"] ;\n",
            "2 [label=\"X[0] <= -0.403\\ngini = 0.138\\nsamples = 441\\nvalue = [33, 408]\"] ;\n",
            "1 -> 2 ;\n",
            "3 [label=\"X[2] <= 6.219\\ngini = 0.072\\nsamples = 377\\nvalue = [14, 363]\"] ;\n",
            "2 -> 3 ;\n",
            "4 [label=\"gini = 0.0\\nsamples = 259\\nvalue = [0, 259]\"] ;\n",
            "3 -> 4 ;\n",
            "5 [label=\"X[1] <= -4.721\\ngini = 0.209\\nsamples = 118\\nvalue = [14, 104]\"] ;\n",
            "3 -> 5 ;\n",
            "6 [label=\"gini = 0.0\\nsamples = 103\\nvalue = [0, 103]\"] ;\n",
            "5 -> 6 ;\n",
            "7 [label=\"X[2] <= 6.615\\ngini = 0.124\\nsamples = 15\\nvalue = [14, 1]\"] ;\n",
            "5 -> 7 ;\n",
            "8 [label=\"X[2] <= 6.337\\ngini = 0.5\\nsamples = 2\\nvalue = [1, 1]\"] ;\n",
            "7 -> 8 ;\n",
            "9 [label=\"gini = 0.0\\nsamples = 1\\nvalue = [1, 0]\"] ;\n",
            "8 -> 9 ;\n",
            "10 [label=\"gini = 0.0\\nsamples = 1\\nvalue = [0, 1]\"] ;\n",
            "8 -> 10 ;\n",
            "11 [label=\"gini = 0.0\\nsamples = 13\\nvalue = [13, 0]\"] ;\n",
            "7 -> 11 ;\n",
            "12 [label=\"X[2] <= 4.841\\ngini = 0.417\\nsamples = 64\\nvalue = [19, 45]\"] ;\n",
            "2 -> 12 ;\n",
            "13 [label=\"X[1] <= 5.454\\ngini = 0.278\\nsamples = 54\\nvalue = [9, 45]\"] ;\n",
            "12 -> 13 ;\n",
            "14 [label=\"X[2] <= 2.625\\ngini = 0.043\\nsamples = 46\\nvalue = [1, 45]\"] ;\n",
            "13 -> 14 ;\n",
            "15 [label=\"gini = 0.0\\nsamples = 44\\nvalue = [0, 44]\"] ;\n",
            "14 -> 15 ;\n",
            "16 [label=\"X[0] <= -0.365\\ngini = 0.5\\nsamples = 2\\nvalue = [1, 1]\"] ;\n",
            "14 -> 16 ;\n",
            "17 [label=\"gini = 0.0\\nsamples = 1\\nvalue = [0, 1]\"] ;\n",
            "16 -> 17 ;\n",
            "18 [label=\"gini = 0.0\\nsamples = 1\\nvalue = [1, 0]\"] ;\n",
            "16 -> 18 ;\n",
            "19 [label=\"gini = 0.0\\nsamples = 8\\nvalue = [8, 0]\"] ;\n",
            "13 -> 19 ;\n",
            "20 [label=\"gini = 0.0\\nsamples = 10\\nvalue = [10, 0]\"] ;\n",
            "12 -> 20 ;\n",
            "21 [label=\"X[0] <= -3.954\\ngini = 0.283\\nsamples = 82\\nvalue = [68, 14]\"] ;\n",
            "1 -> 21 ;\n",
            "22 [label=\"gini = 0.0\\nsamples = 14\\nvalue = [0, 14]\"] ;\n",
            "21 -> 22 ;\n",
            "23 [label=\"gini = 0.0\\nsamples = 68\\nvalue = [68, 0]\"] ;\n",
            "21 -> 23 ;\n",
            "24 [label=\"X[2] <= -4.386\\ngini = 0.204\\nsamples = 574\\nvalue = [508, 66]\"] ;\n",
            "0 -> 24 [labeldistance=2.5, labelangle=-45, headlabel=\"False\"] ;\n",
            "25 [label=\"X[0] <= 3.304\\ngini = 0.389\\nsamples = 34\\nvalue = [9, 25]\"] ;\n",
            "24 -> 25 ;\n",
            "26 [label=\"gini = 0.0\\nsamples = 25\\nvalue = [0, 25]\"] ;\n",
            "25 -> 26 ;\n",
            "27 [label=\"gini = 0.0\\nsamples = 9\\nvalue = [9, 0]\"] ;\n",
            "25 -> 27 ;\n",
            "28 [label=\"X[0] <= 1.592\\ngini = 0.14\\nsamples = 540\\nvalue = [499, 41]\"] ;\n",
            "24 -> 28 ;\n",
            "29 [label=\"X[2] <= -2.286\\ngini = 0.383\\nsamples = 155\\nvalue = [115, 40]\"] ;\n",
            "28 -> 29 ;\n",
            "30 [label=\"X[1] <= 5.667\\ngini = 0.211\\nsamples = 25\\nvalue = [3, 22]\"] ;\n",
            "29 -> 30 ;\n",
            "31 [label=\"gini = 0.0\\nsamples = 22\\nvalue = [0, 22]\"] ;\n",
            "30 -> 31 ;\n",
            "32 [label=\"gini = 0.0\\nsamples = 3\\nvalue = [3, 0]\"] ;\n",
            "30 -> 32 ;\n",
            "33 [label=\"X[3] <= 0.082\\ngini = 0.239\\nsamples = 130\\nvalue = [112, 18]\"] ;\n",
            "29 -> 33 ;\n",
            "34 [label=\"X[0] <= 0.451\\ngini = 0.02\\nsamples = 97\\nvalue = [96, 1]\"] ;\n",
            "33 -> 34 ;\n",
            "35 [label=\"X[0] <= 0.401\\ngini = 0.124\\nsamples = 15\\nvalue = [14, 1]\"] ;\n",
            "34 -> 35 ;\n",
            "36 [label=\"gini = 0.0\\nsamples = 14\\nvalue = [14, 0]\"] ;\n",
            "35 -> 36 ;\n",
            "37 [label=\"gini = 0.0\\nsamples = 1\\nvalue = [0, 1]\"] ;\n",
            "35 -> 37 ;\n",
            "38 [label=\"gini = 0.0\\nsamples = 82\\nvalue = [82, 0]\"] ;\n",
            "34 -> 38 ;\n",
            "39 [label=\"X[2] <= 1.952\\ngini = 0.5\\nsamples = 33\\nvalue = [16, 17]\"] ;\n",
            "33 -> 39 ;\n",
            "40 [label=\"X[1] <= 3.559\\ngini = 0.188\\nsamples = 19\\nvalue = [2, 17]\"] ;\n",
            "39 -> 40 ;\n",
            "41 [label=\"gini = 0.0\\nsamples = 17\\nvalue = [0, 17]\"] ;\n",
            "40 -> 41 ;\n",
            "42 [label=\"gini = 0.0\\nsamples = 2\\nvalue = [2, 0]\"] ;\n",
            "40 -> 42 ;\n",
            "43 [label=\"gini = 0.0\\nsamples = 14\\nvalue = [14, 0]\"] ;\n",
            "39 -> 43 ;\n",
            "44 [label=\"X[0] <= 2.018\\ngini = 0.005\\nsamples = 385\\nvalue = [384, 1]\"] ;\n",
            "28 -> 44 ;\n",
            "45 [label=\"X[0] <= 2.017\\ngini = 0.043\\nsamples = 45\\nvalue = [44, 1]\"] ;\n",
            "44 -> 45 ;\n",
            "46 [label=\"gini = 0.0\\nsamples = 44\\nvalue = [44, 0]\"] ;\n",
            "45 -> 46 ;\n",
            "47 [label=\"gini = 0.0\\nsamples = 1\\nvalue = [0, 1]\"] ;\n",
            "45 -> 47 ;\n",
            "48 [label=\"gini = 0.0\\nsamples = 340\\nvalue = [340, 0]\"] ;\n",
            "44 -> 48 ;\n",
            "}\n"
          ],
          "name": "stdout"
        }
      ]
    },
    {
      "cell_type": "code",
      "metadata": {
        "id": "sttmXb6YYJss",
        "colab_type": "code",
        "colab": {
          "base_uri": "https://localhost:8080/",
          "height": 1000
        },
        "outputId": "06d11d40-ea65-41a5-fed0-7dc57c7c7f18"
      },
      "source": [
        "from sklearn.tree import export_graphviz\n",
        "dot_data2 = export_graphviz(dt2, out_file=None)\n",
        "print(dot_data2)"
      ],
      "execution_count": 51,
      "outputs": [
        {
          "output_type": "stream",
          "text": [
            "digraph Tree {\n",
            "node [shape=box] ;\n",
            "0 [label=\"X[0] <= 0.32\\nentropy = 0.991\\nsamples = 1097\\nvalue = [609, 488]\"] ;\n",
            "1 [label=\"X[1] <= 7.565\\nentropy = 0.708\\nsamples = 523\\nvalue = [101, 422]\"] ;\n",
            "0 -> 1 [labeldistance=2.5, labelangle=45, headlabel=\"True\"] ;\n",
            "2 [label=\"X[0] <= -1.782\\nentropy = 0.384\\nsamples = 441\\nvalue = [33, 408]\"] ;\n",
            "1 -> 2 ;\n",
            "3 [label=\"X[1] <= 1.772\\nentropy = 0.04\\nsamples = 232\\nvalue = [1, 231]\"] ;\n",
            "2 -> 3 ;\n",
            "4 [label=\"entropy = 0.0\\nsamples = 157\\nvalue = [0, 157]\"] ;\n",
            "3 -> 4 ;\n",
            "5 [label=\"X[2] <= 3.93\\nentropy = 0.102\\nsamples = 75\\nvalue = [1, 74]\"] ;\n",
            "3 -> 5 ;\n",
            "6 [label=\"entropy = 0.0\\nsamples = 74\\nvalue = [0, 74]\"] ;\n",
            "5 -> 6 ;\n",
            "7 [label=\"entropy = 0.0\\nsamples = 1\\nvalue = [1, 0]\"] ;\n",
            "5 -> 7 ;\n",
            "8 [label=\"X[2] <= 6.848\\nentropy = 0.618\\nsamples = 209\\nvalue = [32, 177]\"] ;\n",
            "2 -> 8 ;\n",
            "9 [label=\"X[1] <= 5.454\\nentropy = 0.336\\nsamples = 177\\nvalue = [11, 166]\"] ;\n",
            "8 -> 9 ;\n",
            "10 [label=\"X[2] <= 3.019\\nentropy = 0.129\\nsamples = 169\\nvalue = [3, 166]\"] ;\n",
            "9 -> 10 ;\n",
            "11 [label=\"entropy = 0.0\\nsamples = 129\\nvalue = [0, 129]\"] ;\n",
            "10 -> 11 ;\n",
            "12 [label=\"X[1] <= -1.02\\nentropy = 0.384\\nsamples = 40\\nvalue = [3, 37]\"] ;\n",
            "10 -> 12 ;\n",
            "13 [label=\"entropy = 0.0\\nsamples = 37\\nvalue = [0, 37]\"] ;\n",
            "12 -> 13 ;\n",
            "14 [label=\"entropy = 0.0\\nsamples = 3\\nvalue = [3, 0]\"] ;\n",
            "12 -> 14 ;\n",
            "15 [label=\"entropy = 0.0\\nsamples = 8\\nvalue = [8, 0]\"] ;\n",
            "9 -> 15 ;\n",
            "16 [label=\"X[1] <= -5.534\\nentropy = 0.928\\nsamples = 32\\nvalue = [21, 11]\"] ;\n",
            "8 -> 16 ;\n",
            "17 [label=\"X[0] <= -0.803\\nentropy = 0.414\\nsamples = 12\\nvalue = [1, 11]\"] ;\n",
            "16 -> 17 ;\n",
            "18 [label=\"entropy = 0.0\\nsamples = 11\\nvalue = [0, 11]\"] ;\n",
            "17 -> 18 ;\n",
            "19 [label=\"entropy = 0.0\\nsamples = 1\\nvalue = [1, 0]\"] ;\n",
            "17 -> 19 ;\n",
            "20 [label=\"entropy = 0.0\\nsamples = 20\\nvalue = [20, 0]\"] ;\n",
            "16 -> 20 ;\n",
            "21 [label=\"X[0] <= -3.954\\nentropy = 0.659\\nsamples = 82\\nvalue = [68, 14]\"] ;\n",
            "1 -> 21 ;\n",
            "22 [label=\"entropy = 0.0\\nsamples = 14\\nvalue = [0, 14]\"] ;\n",
            "21 -> 22 ;\n",
            "23 [label=\"entropy = 0.0\\nsamples = 68\\nvalue = [68, 0]\"] ;\n",
            "21 -> 23 ;\n",
            "24 [label=\"X[0] <= 1.642\\nentropy = 0.515\\nsamples = 574\\nvalue = [508, 66]\"] ;\n",
            "0 -> 24 [labeldistance=2.5, labelangle=-45, headlabel=\"False\"] ;\n",
            "25 [label=\"X[2] <= -2.286\\nentropy = 0.924\\nsamples = 180\\nvalue = [119, 61]\"] ;\n",
            "24 -> 25 ;\n",
            "26 [label=\"X[1] <= 6.42\\nentropy = 0.348\\nsamples = 46\\nvalue = [3, 43]\"] ;\n",
            "25 -> 26 ;\n",
            "27 [label=\"entropy = 0.0\\nsamples = 43\\nvalue = [0, 43]\"] ;\n",
            "26 -> 27 ;\n",
            "28 [label=\"entropy = 0.0\\nsamples = 3\\nvalue = [3, 0]\"] ;\n",
            "26 -> 28 ;\n",
            "29 [label=\"X[3] <= 0.092\\nentropy = 0.569\\nsamples = 134\\nvalue = [116, 18]\"] ;\n",
            "25 -> 29 ;\n",
            "30 [label=\"X[0] <= 0.451\\nentropy = 0.08\\nsamples = 101\\nvalue = [100, 1]\"] ;\n",
            "29 -> 30 ;\n",
            "31 [label=\"X[0] <= 0.401\\nentropy = 0.353\\nsamples = 15\\nvalue = [14, 1]\"] ;\n",
            "30 -> 31 ;\n",
            "32 [label=\"entropy = 0.0\\nsamples = 14\\nvalue = [14, 0]\"] ;\n",
            "31 -> 32 ;\n",
            "33 [label=\"entropy = 0.0\\nsamples = 1\\nvalue = [0, 1]\"] ;\n",
            "31 -> 33 ;\n",
            "34 [label=\"entropy = 0.0\\nsamples = 86\\nvalue = [86, 0]\"] ;\n",
            "30 -> 34 ;\n",
            "35 [label=\"X[2] <= 1.952\\nentropy = 0.999\\nsamples = 33\\nvalue = [16, 17]\"] ;\n",
            "29 -> 35 ;\n",
            "36 [label=\"X[1] <= 3.559\\nentropy = 0.485\\nsamples = 19\\nvalue = [2, 17]\"] ;\n",
            "35 -> 36 ;\n",
            "37 [label=\"entropy = 0.0\\nsamples = 17\\nvalue = [0, 17]\"] ;\n",
            "36 -> 37 ;\n",
            "38 [label=\"entropy = 0.0\\nsamples = 2\\nvalue = [2, 0]\"] ;\n",
            "36 -> 38 ;\n",
            "39 [label=\"entropy = 0.0\\nsamples = 14\\nvalue = [14, 0]\"] ;\n",
            "35 -> 39 ;\n",
            "40 [label=\"X[2] <= -4.802\\nentropy = 0.098\\nsamples = 394\\nvalue = [389, 5]\"] ;\n",
            "24 -> 40 ;\n",
            "41 [label=\"X[0] <= 3.304\\nentropy = 0.918\\nsamples = 6\\nvalue = [2, 4]\"] ;\n",
            "40 -> 41 ;\n",
            "42 [label=\"entropy = 0.0\\nsamples = 4\\nvalue = [0, 4]\"] ;\n",
            "41 -> 42 ;\n",
            "43 [label=\"entropy = 0.0\\nsamples = 2\\nvalue = [2, 0]\"] ;\n",
            "41 -> 43 ;\n",
            "44 [label=\"X[0] <= 2.018\\nentropy = 0.026\\nsamples = 388\\nvalue = [387, 1]\"] ;\n",
            "40 -> 44 ;\n",
            "45 [label=\"X[2] <= -2.648\\nentropy = 0.165\\nsamples = 41\\nvalue = [40, 1]\"] ;\n",
            "44 -> 45 ;\n",
            "46 [label=\"entropy = 0.0\\nsamples = 1\\nvalue = [0, 1]\"] ;\n",
            "45 -> 46 ;\n",
            "47 [label=\"entropy = 0.0\\nsamples = 40\\nvalue = [40, 0]\"] ;\n",
            "45 -> 47 ;\n",
            "48 [label=\"entropy = 0.0\\nsamples = 347\\nvalue = [347, 0]\"] ;\n",
            "44 -> 48 ;\n",
            "}\n"
          ],
          "name": "stdout"
        }
      ]
    },
    {
      "cell_type": "markdown",
      "metadata": {
        "colab_type": "text",
        "id": "0X6_ggMHFJ0Z"
      },
      "source": [
        "Copy the code above, paste it to online graphviz service like http://viz-js.com/ and see the result."
      ]
    },
    {
      "cell_type": "markdown",
      "metadata": {
        "colab_type": "text",
        "id": "NnUDorsr8wjv"
      },
      "source": [
        "### Jypiter does it all"
      ]
    },
    {
      "cell_type": "markdown",
      "metadata": {
        "colab_type": "text",
        "id": "tZsrkGvwBBta"
      },
      "source": [
        "If we want to display the graph automatically inside Jupiter, we'll need\n",
        "* Install Graphviz binary\n",
        "* Call the Graphviz inside Jupiter and grab the result.\n",
        "\n",
        "**Note**: Google Colab does not let us install Graphviz binary, so that we cant make with work with Google Colab.\n"
      ]
    },
    {
      "cell_type": "code",
      "metadata": {
        "colab_type": "code",
        "id": "ASScryziBlf8",
        "outputId": "9ff9432a-dabe-45f1-e8f8-3fdab897ebc4",
        "colab": {
          "base_uri": "https://localhost:8080/",
          "height": 34
        }
      },
      "source": [
        "\"\"\"\n",
        "Install lib that call Graphviz binary\n",
        "\"\"\"\n",
        "\n",
        "!pip3 install graphviz"
      ],
      "execution_count": 52,
      "outputs": [
        {
          "output_type": "stream",
          "text": [
            "Requirement already satisfied: graphviz in /usr/local/lib/python3.6/dist-packages (0.10.1)\n"
          ],
          "name": "stdout"
        }
      ]
    },
    {
      "cell_type": "code",
      "metadata": {
        "colab_type": "code",
        "id": "1eRgxNHtQosy",
        "colab": {
          "base_uri": "https://localhost:8080/",
          "height": 1000
        },
        "outputId": "bb46faa3-dfd4-48e9-ba64-13b33f958fd2"
      },
      "source": [
        "import graphviz \n",
        "graph = graphviz.Source(dot_data)\n",
        "graph"
      ],
      "execution_count": 53,
      "outputs": [
        {
          "output_type": "execute_result",
          "data": {
            "text/plain": [
              "<graphviz.files.Source at 0x7f33622afd68>"
            ],
            "image/svg+xml": "<?xml version=\"1.0\" encoding=\"UTF-8\" standalone=\"no\"?>\n<!DOCTYPE svg PUBLIC \"-//W3C//DTD SVG 1.1//EN\"\n \"http://www.w3.org/Graphics/SVG/1.1/DTD/svg11.dtd\">\n<!-- Generated by graphviz version 2.40.1 (20161225.0304)\n -->\n<!-- Title: Tree Pages: 1 -->\n<svg width=\"1328pt\" height=\"789pt\"\n viewBox=\"0.00 0.00 1327.50 789.00\" xmlns=\"http://www.w3.org/2000/svg\" xmlns:xlink=\"http://www.w3.org/1999/xlink\">\n<g id=\"graph0\" class=\"graph\" transform=\"scale(1 1) rotate(0) translate(4 785)\">\n<title>Tree</title>\n<polygon fill=\"#ffffff\" stroke=\"transparent\" points=\"-4,4 -4,-785 1323.5,-785 1323.5,4 -4,4\"/>\n<!-- 0 -->\n<g id=\"node1\" class=\"node\">\n<title>0</title>\n<polygon fill=\"none\" stroke=\"#000000\" points=\"708,-781 583,-781 583,-713 708,-713 708,-781\"/>\n<text text-anchor=\"middle\" x=\"645.5\" y=\"-765.8\" font-family=\"Times,serif\" font-size=\"14.00\" fill=\"#000000\">X[0] &lt;= 0.32</text>\n<text text-anchor=\"middle\" x=\"645.5\" y=\"-750.8\" font-family=\"Times,serif\" font-size=\"14.00\" fill=\"#000000\">gini = 0.494</text>\n<text text-anchor=\"middle\" x=\"645.5\" y=\"-735.8\" font-family=\"Times,serif\" font-size=\"14.00\" fill=\"#000000\">samples = 1097</text>\n<text text-anchor=\"middle\" x=\"645.5\" y=\"-720.8\" font-family=\"Times,serif\" font-size=\"14.00\" fill=\"#000000\">value = [609, 488]</text>\n</g>\n<!-- 1 -->\n<g id=\"node2\" class=\"node\">\n<title>1</title>\n<polygon fill=\"none\" stroke=\"#000000\" points=\"592,-677 467,-677 467,-609 592,-609 592,-677\"/>\n<text text-anchor=\"middle\" x=\"529.5\" y=\"-661.8\" font-family=\"Times,serif\" font-size=\"14.00\" fill=\"#000000\">X[1] &lt;= 7.565</text>\n<text text-anchor=\"middle\" x=\"529.5\" y=\"-646.8\" font-family=\"Times,serif\" font-size=\"14.00\" fill=\"#000000\">gini = 0.312</text>\n<text text-anchor=\"middle\" x=\"529.5\" y=\"-631.8\" font-family=\"Times,serif\" font-size=\"14.00\" fill=\"#000000\">samples = 523</text>\n<text text-anchor=\"middle\" x=\"529.5\" y=\"-616.8\" font-family=\"Times,serif\" font-size=\"14.00\" fill=\"#000000\">value = [101, 422]</text>\n</g>\n<!-- 0&#45;&gt;1 -->\n<g id=\"edge1\" class=\"edge\">\n<title>0&#45;&gt;1</title>\n<path fill=\"none\" stroke=\"#000000\" d=\"M607.5173,-712.9465C597.2023,-703.6986 585.9246,-693.5876 575.2301,-683.9994\"/>\n<polygon fill=\"#000000\" stroke=\"#000000\" points=\"577.3502,-681.1995 567.5681,-677.13 572.6774,-686.4115 577.3502,-681.1995\"/>\n<text text-anchor=\"middle\" x=\"568.9297\" y=\"-698.3929\" font-family=\"Times,serif\" font-size=\"14.00\" fill=\"#000000\">True</text>\n</g>\n<!-- 24 -->\n<g id=\"node25\" class=\"node\">\n<title>24</title>\n<polygon fill=\"none\" stroke=\"#000000\" points=\"830,-677 713,-677 713,-609 830,-609 830,-677\"/>\n<text text-anchor=\"middle\" x=\"771.5\" y=\"-661.8\" font-family=\"Times,serif\" font-size=\"14.00\" fill=\"#000000\">X[2] &lt;= &#45;4.386</text>\n<text text-anchor=\"middle\" x=\"771.5\" y=\"-646.8\" font-family=\"Times,serif\" font-size=\"14.00\" fill=\"#000000\">gini = 0.204</text>\n<text text-anchor=\"middle\" x=\"771.5\" y=\"-631.8\" font-family=\"Times,serif\" font-size=\"14.00\" fill=\"#000000\">samples = 574</text>\n<text text-anchor=\"middle\" x=\"771.5\" y=\"-616.8\" font-family=\"Times,serif\" font-size=\"14.00\" fill=\"#000000\">value = [508, 66]</text>\n</g>\n<!-- 0&#45;&gt;24 -->\n<g id=\"edge24\" class=\"edge\">\n<title>0&#45;&gt;24</title>\n<path fill=\"none\" stroke=\"#000000\" d=\"M686.7571,-712.9465C698.0701,-703.6088 710.4492,-693.3911 722.1658,-683.7203\"/>\n<polygon fill=\"#000000\" stroke=\"#000000\" points=\"724.6659,-686.195 730.1502,-677.13 720.21,-680.7964 724.6659,-686.195\"/>\n<text text-anchor=\"middle\" x=\"727.7698\" y=\"-698.3164\" font-family=\"Times,serif\" font-size=\"14.00\" fill=\"#000000\">False</text>\n</g>\n<!-- 2 -->\n<g id=\"node3\" class=\"node\">\n<title>2</title>\n<polygon fill=\"none\" stroke=\"#000000\" points=\"410,-573 293,-573 293,-505 410,-505 410,-573\"/>\n<text text-anchor=\"middle\" x=\"351.5\" y=\"-557.8\" font-family=\"Times,serif\" font-size=\"14.00\" fill=\"#000000\">X[0] &lt;= &#45;0.403</text>\n<text text-anchor=\"middle\" x=\"351.5\" y=\"-542.8\" font-family=\"Times,serif\" font-size=\"14.00\" fill=\"#000000\">gini = 0.138</text>\n<text text-anchor=\"middle\" x=\"351.5\" y=\"-527.8\" font-family=\"Times,serif\" font-size=\"14.00\" fill=\"#000000\">samples = 441</text>\n<text text-anchor=\"middle\" x=\"351.5\" y=\"-512.8\" font-family=\"Times,serif\" font-size=\"14.00\" fill=\"#000000\">value = [33, 408]</text>\n</g>\n<!-- 1&#45;&gt;2 -->\n<g id=\"edge2\" class=\"edge\">\n<title>1&#45;&gt;2</title>\n<path fill=\"none\" stroke=\"#000000\" d=\"M471.2161,-608.9465C454.466,-599.1599 436.0614,-588.4066 418.8138,-578.3294\"/>\n<polygon fill=\"#000000\" stroke=\"#000000\" points=\"420.3148,-575.1528 409.9148,-573.13 416.7834,-581.1968 420.3148,-575.1528\"/>\n</g>\n<!-- 21 -->\n<g id=\"node22\" class=\"node\">\n<title>21</title>\n<polygon fill=\"none\" stroke=\"#000000\" points=\"584.5,-573 474.5,-573 474.5,-505 584.5,-505 584.5,-573\"/>\n<text text-anchor=\"middle\" x=\"529.5\" y=\"-557.8\" font-family=\"Times,serif\" font-size=\"14.00\" fill=\"#000000\">X[0] &lt;= &#45;3.954</text>\n<text text-anchor=\"middle\" x=\"529.5\" y=\"-542.8\" font-family=\"Times,serif\" font-size=\"14.00\" fill=\"#000000\">gini = 0.283</text>\n<text text-anchor=\"middle\" x=\"529.5\" y=\"-527.8\" font-family=\"Times,serif\" font-size=\"14.00\" fill=\"#000000\">samples = 82</text>\n<text text-anchor=\"middle\" x=\"529.5\" y=\"-512.8\" font-family=\"Times,serif\" font-size=\"14.00\" fill=\"#000000\">value = [68, 14]</text>\n</g>\n<!-- 1&#45;&gt;21 -->\n<g id=\"edge21\" class=\"edge\">\n<title>1&#45;&gt;21</title>\n<path fill=\"none\" stroke=\"#000000\" d=\"M529.5,-608.9465C529.5,-600.776 529.5,-591.9318 529.5,-583.3697\"/>\n<polygon fill=\"#000000\" stroke=\"#000000\" points=\"533.0001,-583.13 529.5,-573.13 526.0001,-583.13 533.0001,-583.13\"/>\n</g>\n<!-- 3 -->\n<g id=\"node4\" class=\"node\">\n<title>3</title>\n<polygon fill=\"none\" stroke=\"#000000\" points=\"278,-469 161,-469 161,-401 278,-401 278,-469\"/>\n<text text-anchor=\"middle\" x=\"219.5\" y=\"-453.8\" font-family=\"Times,serif\" font-size=\"14.00\" fill=\"#000000\">X[2] &lt;= 6.219</text>\n<text text-anchor=\"middle\" x=\"219.5\" y=\"-438.8\" font-family=\"Times,serif\" font-size=\"14.00\" fill=\"#000000\">gini = 0.072</text>\n<text text-anchor=\"middle\" x=\"219.5\" y=\"-423.8\" font-family=\"Times,serif\" font-size=\"14.00\" fill=\"#000000\">samples = 377</text>\n<text text-anchor=\"middle\" x=\"219.5\" y=\"-408.8\" font-family=\"Times,serif\" font-size=\"14.00\" fill=\"#000000\">value = [14, 363]</text>\n</g>\n<!-- 2&#45;&gt;3 -->\n<g id=\"edge3\" class=\"edge\">\n<title>2&#45;&gt;3</title>\n<path fill=\"none\" stroke=\"#000000\" d=\"M308.2783,-504.9465C296.3126,-495.519 283.2085,-485.1946 270.8296,-475.4415\"/>\n<polygon fill=\"#000000\" stroke=\"#000000\" points=\"272.8398,-472.5695 262.8188,-469.13 268.5077,-478.068 272.8398,-472.5695\"/>\n</g>\n<!-- 12 -->\n<g id=\"node13\" class=\"node\">\n<title>12</title>\n<polygon fill=\"none\" stroke=\"#000000\" points=\"406.5,-469 296.5,-469 296.5,-401 406.5,-401 406.5,-469\"/>\n<text text-anchor=\"middle\" x=\"351.5\" y=\"-453.8\" font-family=\"Times,serif\" font-size=\"14.00\" fill=\"#000000\">X[2] &lt;= 4.841</text>\n<text text-anchor=\"middle\" x=\"351.5\" y=\"-438.8\" font-family=\"Times,serif\" font-size=\"14.00\" fill=\"#000000\">gini = 0.417</text>\n<text text-anchor=\"middle\" x=\"351.5\" y=\"-423.8\" font-family=\"Times,serif\" font-size=\"14.00\" fill=\"#000000\">samples = 64</text>\n<text text-anchor=\"middle\" x=\"351.5\" y=\"-408.8\" font-family=\"Times,serif\" font-size=\"14.00\" fill=\"#000000\">value = [19, 45]</text>\n</g>\n<!-- 2&#45;&gt;12 -->\n<g id=\"edge12\" class=\"edge\">\n<title>2&#45;&gt;12</title>\n<path fill=\"none\" stroke=\"#000000\" d=\"M351.5,-504.9465C351.5,-496.776 351.5,-487.9318 351.5,-479.3697\"/>\n<polygon fill=\"#000000\" stroke=\"#000000\" points=\"355.0001,-479.13 351.5,-469.13 348.0001,-479.13 355.0001,-479.13\"/>\n</g>\n<!-- 4 -->\n<g id=\"node5\" class=\"node\">\n<title>4</title>\n<polygon fill=\"none\" stroke=\"#000000\" points=\"144.5,-357.5 34.5,-357.5 34.5,-304.5 144.5,-304.5 144.5,-357.5\"/>\n<text text-anchor=\"middle\" x=\"89.5\" y=\"-342.3\" font-family=\"Times,serif\" font-size=\"14.00\" fill=\"#000000\">gini = 0.0</text>\n<text text-anchor=\"middle\" x=\"89.5\" y=\"-327.3\" font-family=\"Times,serif\" font-size=\"14.00\" fill=\"#000000\">samples = 259</text>\n<text text-anchor=\"middle\" x=\"89.5\" y=\"-312.3\" font-family=\"Times,serif\" font-size=\"14.00\" fill=\"#000000\">value = [0, 259]</text>\n</g>\n<!-- 3&#45;&gt;4 -->\n<g id=\"edge4\" class=\"edge\">\n<title>3&#45;&gt;4</title>\n<path fill=\"none\" stroke=\"#000000\" d=\"M176.9331,-400.9465C162.063,-389.0504 145.4075,-375.726 130.6546,-363.9237\"/>\n<polygon fill=\"#000000\" stroke=\"#000000\" points=\"132.6729,-361.0561 122.6777,-357.5422 128.3,-366.5222 132.6729,-361.0561\"/>\n</g>\n<!-- 5 -->\n<g id=\"node6\" class=\"node\">\n<title>5</title>\n<polygon fill=\"none\" stroke=\"#000000\" points=\"280,-365 163,-365 163,-297 280,-297 280,-365\"/>\n<text text-anchor=\"middle\" x=\"221.5\" y=\"-349.8\" font-family=\"Times,serif\" font-size=\"14.00\" fill=\"#000000\">X[1] &lt;= &#45;4.721</text>\n<text text-anchor=\"middle\" x=\"221.5\" y=\"-334.8\" font-family=\"Times,serif\" font-size=\"14.00\" fill=\"#000000\">gini = 0.209</text>\n<text text-anchor=\"middle\" x=\"221.5\" y=\"-319.8\" font-family=\"Times,serif\" font-size=\"14.00\" fill=\"#000000\">samples = 118</text>\n<text text-anchor=\"middle\" x=\"221.5\" y=\"-304.8\" font-family=\"Times,serif\" font-size=\"14.00\" fill=\"#000000\">value = [14, 104]</text>\n</g>\n<!-- 3&#45;&gt;5 -->\n<g id=\"edge5\" class=\"edge\">\n<title>3&#45;&gt;5</title>\n<path fill=\"none\" stroke=\"#000000\" d=\"M220.1549,-400.9465C220.312,-392.776 220.4821,-383.9318 220.6467,-375.3697\"/>\n<polygon fill=\"#000000\" stroke=\"#000000\" points=\"224.1506,-375.1955 220.8437,-365.13 217.1519,-375.0608 224.1506,-375.1955\"/>\n</g>\n<!-- 6 -->\n<g id=\"node7\" class=\"node\">\n<title>6</title>\n<polygon fill=\"none\" stroke=\"#000000\" points=\"153.5,-253.5 43.5,-253.5 43.5,-200.5 153.5,-200.5 153.5,-253.5\"/>\n<text text-anchor=\"middle\" x=\"98.5\" y=\"-238.3\" font-family=\"Times,serif\" font-size=\"14.00\" fill=\"#000000\">gini = 0.0</text>\n<text text-anchor=\"middle\" x=\"98.5\" y=\"-223.3\" font-family=\"Times,serif\" font-size=\"14.00\" fill=\"#000000\">samples = 103</text>\n<text text-anchor=\"middle\" x=\"98.5\" y=\"-208.3\" font-family=\"Times,serif\" font-size=\"14.00\" fill=\"#000000\">value = [0, 103]</text>\n</g>\n<!-- 5&#45;&gt;6 -->\n<g id=\"edge6\" class=\"edge\">\n<title>5&#45;&gt;6</title>\n<path fill=\"none\" stroke=\"#000000\" d=\"M181.2252,-296.9465C167.2861,-285.1606 151.6888,-271.9726 137.8268,-260.2519\"/>\n<polygon fill=\"#000000\" stroke=\"#000000\" points=\"139.7873,-257.3262 129.8912,-253.5422 135.2676,-262.6715 139.7873,-257.3262\"/>\n</g>\n<!-- 7 -->\n<g id=\"node8\" class=\"node\">\n<title>7</title>\n<polygon fill=\"none\" stroke=\"#000000\" points=\"273.5,-261 171.5,-261 171.5,-193 273.5,-193 273.5,-261\"/>\n<text text-anchor=\"middle\" x=\"222.5\" y=\"-245.8\" font-family=\"Times,serif\" font-size=\"14.00\" fill=\"#000000\">X[2] &lt;= 6.615</text>\n<text text-anchor=\"middle\" x=\"222.5\" y=\"-230.8\" font-family=\"Times,serif\" font-size=\"14.00\" fill=\"#000000\">gini = 0.124</text>\n<text text-anchor=\"middle\" x=\"222.5\" y=\"-215.8\" font-family=\"Times,serif\" font-size=\"14.00\" fill=\"#000000\">samples = 15</text>\n<text text-anchor=\"middle\" x=\"222.5\" y=\"-200.8\" font-family=\"Times,serif\" font-size=\"14.00\" fill=\"#000000\">value = [14, 1]</text>\n</g>\n<!-- 5&#45;&gt;7 -->\n<g id=\"edge7\" class=\"edge\">\n<title>5&#45;&gt;7</title>\n<path fill=\"none\" stroke=\"#000000\" d=\"M221.8274,-296.9465C221.906,-288.776 221.991,-279.9318 222.0734,-271.3697\"/>\n<polygon fill=\"#000000\" stroke=\"#000000\" points=\"225.5754,-271.1632 222.1718,-261.13 218.5757,-271.0958 225.5754,-271.1632\"/>\n</g>\n<!-- 8 -->\n<g id=\"node9\" class=\"node\">\n<title>8</title>\n<polygon fill=\"none\" stroke=\"#000000\" points=\"154,-157 53,-157 53,-89 154,-89 154,-157\"/>\n<text text-anchor=\"middle\" x=\"103.5\" y=\"-141.8\" font-family=\"Times,serif\" font-size=\"14.00\" fill=\"#000000\">X[2] &lt;= 6.337</text>\n<text text-anchor=\"middle\" x=\"103.5\" y=\"-126.8\" font-family=\"Times,serif\" font-size=\"14.00\" fill=\"#000000\">gini = 0.5</text>\n<text text-anchor=\"middle\" x=\"103.5\" y=\"-111.8\" font-family=\"Times,serif\" font-size=\"14.00\" fill=\"#000000\">samples = 2</text>\n<text text-anchor=\"middle\" x=\"103.5\" y=\"-96.8\" font-family=\"Times,serif\" font-size=\"14.00\" fill=\"#000000\">value = [1, 1]</text>\n</g>\n<!-- 7&#45;&gt;8 -->\n<g id=\"edge8\" class=\"edge\">\n<title>7&#45;&gt;8</title>\n<path fill=\"none\" stroke=\"#000000\" d=\"M183.5349,-192.9465C172.8505,-183.6088 161.1591,-173.3911 150.0934,-163.7203\"/>\n<polygon fill=\"#000000\" stroke=\"#000000\" points=\"152.3855,-161.0752 142.5526,-157.13 147.7791,-166.346 152.3855,-161.0752\"/>\n</g>\n<!-- 11 -->\n<g id=\"node12\" class=\"node\">\n<title>11</title>\n<polygon fill=\"none\" stroke=\"#000000\" points=\"274.5,-149.5 172.5,-149.5 172.5,-96.5 274.5,-96.5 274.5,-149.5\"/>\n<text text-anchor=\"middle\" x=\"223.5\" y=\"-134.3\" font-family=\"Times,serif\" font-size=\"14.00\" fill=\"#000000\">gini = 0.0</text>\n<text text-anchor=\"middle\" x=\"223.5\" y=\"-119.3\" font-family=\"Times,serif\" font-size=\"14.00\" fill=\"#000000\">samples = 13</text>\n<text text-anchor=\"middle\" x=\"223.5\" y=\"-104.3\" font-family=\"Times,serif\" font-size=\"14.00\" fill=\"#000000\">value = [13, 0]</text>\n</g>\n<!-- 7&#45;&gt;11 -->\n<g id=\"edge11\" class=\"edge\">\n<title>7&#45;&gt;11</title>\n<path fill=\"none\" stroke=\"#000000\" d=\"M222.8274,-192.9465C222.9302,-182.2621 223.044,-170.4254 223.1483,-159.5742\"/>\n<polygon fill=\"#000000\" stroke=\"#000000\" points=\"226.6484,-159.5754 223.2448,-149.5422 219.6487,-159.508 226.6484,-159.5754\"/>\n</g>\n<!-- 9 -->\n<g id=\"node10\" class=\"node\">\n<title>9</title>\n<polygon fill=\"none\" stroke=\"#000000\" points=\"95,-53 0,-53 0,0 95,0 95,-53\"/>\n<text text-anchor=\"middle\" x=\"47.5\" y=\"-37.8\" font-family=\"Times,serif\" font-size=\"14.00\" fill=\"#000000\">gini = 0.0</text>\n<text text-anchor=\"middle\" x=\"47.5\" y=\"-22.8\" font-family=\"Times,serif\" font-size=\"14.00\" fill=\"#000000\">samples = 1</text>\n<text text-anchor=\"middle\" x=\"47.5\" y=\"-7.8\" font-family=\"Times,serif\" font-size=\"14.00\" fill=\"#000000\">value = [1, 0]</text>\n</g>\n<!-- 8&#45;&gt;9 -->\n<g id=\"edge9\" class=\"edge\">\n<title>8&#45;&gt;9</title>\n<path fill=\"none\" stroke=\"#000000\" d=\"M83.7565,-88.9777C78.7083,-80.2786 73.2669,-70.9018 68.1734,-62.1247\"/>\n<polygon fill=\"#000000\" stroke=\"#000000\" points=\"71.0689,-60.1409 63.0224,-53.2485 65.0145,-63.6544 71.0689,-60.1409\"/>\n</g>\n<!-- 10 -->\n<g id=\"node11\" class=\"node\">\n<title>10</title>\n<polygon fill=\"none\" stroke=\"#000000\" points=\"208,-53 113,-53 113,0 208,0 208,-53\"/>\n<text text-anchor=\"middle\" x=\"160.5\" y=\"-37.8\" font-family=\"Times,serif\" font-size=\"14.00\" fill=\"#000000\">gini = 0.0</text>\n<text text-anchor=\"middle\" x=\"160.5\" y=\"-22.8\" font-family=\"Times,serif\" font-size=\"14.00\" fill=\"#000000\">samples = 1</text>\n<text text-anchor=\"middle\" x=\"160.5\" y=\"-7.8\" font-family=\"Times,serif\" font-size=\"14.00\" fill=\"#000000\">value = [0, 1]</text>\n</g>\n<!-- 8&#45;&gt;10 -->\n<g id=\"edge10\" class=\"edge\">\n<title>8&#45;&gt;10</title>\n<path fill=\"none\" stroke=\"#000000\" d=\"M123.5961,-88.9777C128.7344,-80.2786 134.273,-70.9018 139.4575,-62.1247\"/>\n<polygon fill=\"#000000\" stroke=\"#000000\" points=\"142.6281,-63.6387 144.7004,-53.2485 136.601,-60.0786 142.6281,-63.6387\"/>\n</g>\n<!-- 13 -->\n<g id=\"node14\" class=\"node\">\n<title>13</title>\n<polygon fill=\"none\" stroke=\"#000000\" points=\"401.5,-365 299.5,-365 299.5,-297 401.5,-297 401.5,-365\"/>\n<text text-anchor=\"middle\" x=\"350.5\" y=\"-349.8\" font-family=\"Times,serif\" font-size=\"14.00\" fill=\"#000000\">X[1] &lt;= 5.454</text>\n<text text-anchor=\"middle\" x=\"350.5\" y=\"-334.8\" font-family=\"Times,serif\" font-size=\"14.00\" fill=\"#000000\">gini = 0.278</text>\n<text text-anchor=\"middle\" x=\"350.5\" y=\"-319.8\" font-family=\"Times,serif\" font-size=\"14.00\" fill=\"#000000\">samples = 54</text>\n<text text-anchor=\"middle\" x=\"350.5\" y=\"-304.8\" font-family=\"Times,serif\" font-size=\"14.00\" fill=\"#000000\">value = [9, 45]</text>\n</g>\n<!-- 12&#45;&gt;13 -->\n<g id=\"edge13\" class=\"edge\">\n<title>12&#45;&gt;13</title>\n<path fill=\"none\" stroke=\"#000000\" d=\"M351.1726,-400.9465C351.094,-392.776 351.009,-383.9318 350.9266,-375.3697\"/>\n<polygon fill=\"#000000\" stroke=\"#000000\" points=\"354.4243,-375.0958 350.8282,-365.13 347.4246,-375.1632 354.4243,-375.0958\"/>\n</g>\n<!-- 20 -->\n<g id=\"node21\" class=\"node\">\n<title>20</title>\n<polygon fill=\"none\" stroke=\"#000000\" points=\"521.5,-357.5 419.5,-357.5 419.5,-304.5 521.5,-304.5 521.5,-357.5\"/>\n<text text-anchor=\"middle\" x=\"470.5\" y=\"-342.3\" font-family=\"Times,serif\" font-size=\"14.00\" fill=\"#000000\">gini = 0.0</text>\n<text text-anchor=\"middle\" x=\"470.5\" y=\"-327.3\" font-family=\"Times,serif\" font-size=\"14.00\" fill=\"#000000\">samples = 10</text>\n<text text-anchor=\"middle\" x=\"470.5\" y=\"-312.3\" font-family=\"Times,serif\" font-size=\"14.00\" fill=\"#000000\">value = [10, 0]</text>\n</g>\n<!-- 12&#45;&gt;20 -->\n<g id=\"edge20\" class=\"edge\">\n<title>12&#45;&gt;20</title>\n<path fill=\"none\" stroke=\"#000000\" d=\"M390.4651,-400.9465C403.9509,-389.1606 419.0409,-375.9726 432.4521,-364.2519\"/>\n<polygon fill=\"#000000\" stroke=\"#000000\" points=\"434.9031,-366.7582 440.1296,-357.5422 430.2967,-361.4874 434.9031,-366.7582\"/>\n</g>\n<!-- 14 -->\n<g id=\"node15\" class=\"node\">\n<title>14</title>\n<polygon fill=\"none\" stroke=\"#000000\" points=\"400.5,-261 298.5,-261 298.5,-193 400.5,-193 400.5,-261\"/>\n<text text-anchor=\"middle\" x=\"349.5\" y=\"-245.8\" font-family=\"Times,serif\" font-size=\"14.00\" fill=\"#000000\">X[2] &lt;= 2.625</text>\n<text text-anchor=\"middle\" x=\"349.5\" y=\"-230.8\" font-family=\"Times,serif\" font-size=\"14.00\" fill=\"#000000\">gini = 0.043</text>\n<text text-anchor=\"middle\" x=\"349.5\" y=\"-215.8\" font-family=\"Times,serif\" font-size=\"14.00\" fill=\"#000000\">samples = 46</text>\n<text text-anchor=\"middle\" x=\"349.5\" y=\"-200.8\" font-family=\"Times,serif\" font-size=\"14.00\" fill=\"#000000\">value = [1, 45]</text>\n</g>\n<!-- 13&#45;&gt;14 -->\n<g id=\"edge14\" class=\"edge\">\n<title>13&#45;&gt;14</title>\n<path fill=\"none\" stroke=\"#000000\" d=\"M350.1726,-296.9465C350.094,-288.776 350.009,-279.9318 349.9266,-271.3697\"/>\n<polygon fill=\"#000000\" stroke=\"#000000\" points=\"353.4243,-271.0958 349.8282,-261.13 346.4246,-271.1632 353.4243,-271.0958\"/>\n</g>\n<!-- 19 -->\n<g id=\"node20\" class=\"node\">\n<title>19</title>\n<polygon fill=\"none\" stroke=\"#000000\" points=\"514,-253.5 419,-253.5 419,-200.5 514,-200.5 514,-253.5\"/>\n<text text-anchor=\"middle\" x=\"466.5\" y=\"-238.3\" font-family=\"Times,serif\" font-size=\"14.00\" fill=\"#000000\">gini = 0.0</text>\n<text text-anchor=\"middle\" x=\"466.5\" y=\"-223.3\" font-family=\"Times,serif\" font-size=\"14.00\" fill=\"#000000\">samples = 8</text>\n<text text-anchor=\"middle\" x=\"466.5\" y=\"-208.3\" font-family=\"Times,serif\" font-size=\"14.00\" fill=\"#000000\">value = [8, 0]</text>\n</g>\n<!-- 13&#45;&gt;19 -->\n<g id=\"edge19\" class=\"edge\">\n<title>13&#45;&gt;19</title>\n<path fill=\"none\" stroke=\"#000000\" d=\"M388.4827,-296.9465C401.6286,-285.1606 416.3382,-271.9726 429.4113,-260.2519\"/>\n<polygon fill=\"#000000\" stroke=\"#000000\" points=\"431.786,-262.8236 436.8953,-253.5422 427.1131,-257.6116 431.786,-262.8236\"/>\n</g>\n<!-- 15 -->\n<g id=\"node16\" class=\"node\">\n<title>15</title>\n<polygon fill=\"none\" stroke=\"#000000\" points=\"400.5,-149.5 298.5,-149.5 298.5,-96.5 400.5,-96.5 400.5,-149.5\"/>\n<text text-anchor=\"middle\" x=\"349.5\" y=\"-134.3\" font-family=\"Times,serif\" font-size=\"14.00\" fill=\"#000000\">gini = 0.0</text>\n<text text-anchor=\"middle\" x=\"349.5\" y=\"-119.3\" font-family=\"Times,serif\" font-size=\"14.00\" fill=\"#000000\">samples = 44</text>\n<text text-anchor=\"middle\" x=\"349.5\" y=\"-104.3\" font-family=\"Times,serif\" font-size=\"14.00\" fill=\"#000000\">value = [0, 44]</text>\n</g>\n<!-- 14&#45;&gt;15 -->\n<g id=\"edge15\" class=\"edge\">\n<title>14&#45;&gt;15</title>\n<path fill=\"none\" stroke=\"#000000\" d=\"M349.5,-192.9465C349.5,-182.2621 349.5,-170.4254 349.5,-159.5742\"/>\n<polygon fill=\"#000000\" stroke=\"#000000\" points=\"353.0001,-159.5421 349.5,-149.5422 346.0001,-159.5422 353.0001,-159.5421\"/>\n</g>\n<!-- 16 -->\n<g id=\"node17\" class=\"node\">\n<title>16</title>\n<polygon fill=\"none\" stroke=\"#000000\" points=\"524.5,-157 418.5,-157 418.5,-89 524.5,-89 524.5,-157\"/>\n<text text-anchor=\"middle\" x=\"471.5\" y=\"-141.8\" font-family=\"Times,serif\" font-size=\"14.00\" fill=\"#000000\">X[0] &lt;= &#45;0.365</text>\n<text text-anchor=\"middle\" x=\"471.5\" y=\"-126.8\" font-family=\"Times,serif\" font-size=\"14.00\" fill=\"#000000\">gini = 0.5</text>\n<text text-anchor=\"middle\" x=\"471.5\" y=\"-111.8\" font-family=\"Times,serif\" font-size=\"14.00\" fill=\"#000000\">samples = 2</text>\n<text text-anchor=\"middle\" x=\"471.5\" y=\"-96.8\" font-family=\"Times,serif\" font-size=\"14.00\" fill=\"#000000\">value = [1, 1]</text>\n</g>\n<!-- 14&#45;&gt;16 -->\n<g id=\"edge16\" class=\"edge\">\n<title>14&#45;&gt;16</title>\n<path fill=\"none\" stroke=\"#000000\" d=\"M389.4474,-192.9465C400.4012,-183.6088 412.3873,-173.3911 423.732,-163.7203\"/>\n<polygon fill=\"#000000\" stroke=\"#000000\" points=\"426.1233,-166.2809 431.4629,-157.13 421.5821,-160.9538 426.1233,-166.2809\"/>\n</g>\n<!-- 17 -->\n<g id=\"node18\" class=\"node\">\n<title>17</title>\n<polygon fill=\"none\" stroke=\"#000000\" points=\"462,-53 367,-53 367,0 462,0 462,-53\"/>\n<text text-anchor=\"middle\" x=\"414.5\" y=\"-37.8\" font-family=\"Times,serif\" font-size=\"14.00\" fill=\"#000000\">gini = 0.0</text>\n<text text-anchor=\"middle\" x=\"414.5\" y=\"-22.8\" font-family=\"Times,serif\" font-size=\"14.00\" fill=\"#000000\">samples = 1</text>\n<text text-anchor=\"middle\" x=\"414.5\" y=\"-7.8\" font-family=\"Times,serif\" font-size=\"14.00\" fill=\"#000000\">value = [0, 1]</text>\n</g>\n<!-- 16&#45;&gt;17 -->\n<g id=\"edge17\" class=\"edge\">\n<title>16&#45;&gt;17</title>\n<path fill=\"none\" stroke=\"#000000\" d=\"M451.4039,-88.9777C446.2656,-80.2786 440.727,-70.9018 435.5425,-62.1247\"/>\n<polygon fill=\"#000000\" stroke=\"#000000\" points=\"438.399,-60.0786 430.2996,-53.2485 432.3719,-63.6387 438.399,-60.0786\"/>\n</g>\n<!-- 18 -->\n<g id=\"node19\" class=\"node\">\n<title>18</title>\n<polygon fill=\"none\" stroke=\"#000000\" points=\"575,-53 480,-53 480,0 575,0 575,-53\"/>\n<text text-anchor=\"middle\" x=\"527.5\" y=\"-37.8\" font-family=\"Times,serif\" font-size=\"14.00\" fill=\"#000000\">gini = 0.0</text>\n<text text-anchor=\"middle\" x=\"527.5\" y=\"-22.8\" font-family=\"Times,serif\" font-size=\"14.00\" fill=\"#000000\">samples = 1</text>\n<text text-anchor=\"middle\" x=\"527.5\" y=\"-7.8\" font-family=\"Times,serif\" font-size=\"14.00\" fill=\"#000000\">value = [1, 0]</text>\n</g>\n<!-- 16&#45;&gt;18 -->\n<g id=\"edge18\" class=\"edge\">\n<title>16&#45;&gt;18</title>\n<path fill=\"none\" stroke=\"#000000\" d=\"M491.2435,-88.9777C496.2917,-80.2786 501.7331,-70.9018 506.8266,-62.1247\"/>\n<polygon fill=\"#000000\" stroke=\"#000000\" points=\"509.9855,-63.6544 511.9776,-53.2485 503.9311,-60.1409 509.9855,-63.6544\"/>\n</g>\n<!-- 22 -->\n<g id=\"node23\" class=\"node\">\n<title>22</title>\n<polygon fill=\"none\" stroke=\"#000000\" points=\"526.5,-461.5 424.5,-461.5 424.5,-408.5 526.5,-408.5 526.5,-461.5\"/>\n<text text-anchor=\"middle\" x=\"475.5\" y=\"-446.3\" font-family=\"Times,serif\" font-size=\"14.00\" fill=\"#000000\">gini = 0.0</text>\n<text text-anchor=\"middle\" x=\"475.5\" y=\"-431.3\" font-family=\"Times,serif\" font-size=\"14.00\" fill=\"#000000\">samples = 14</text>\n<text text-anchor=\"middle\" x=\"475.5\" y=\"-416.3\" font-family=\"Times,serif\" font-size=\"14.00\" fill=\"#000000\">value = [0, 14]</text>\n</g>\n<!-- 21&#45;&gt;22 -->\n<g id=\"edge22\" class=\"edge\">\n<title>21&#45;&gt;22</title>\n<path fill=\"none\" stroke=\"#000000\" d=\"M511.8184,-504.9465C506.0991,-493.9316 499.744,-481.6922 493.9692,-470.5703\"/>\n<polygon fill=\"#000000\" stroke=\"#000000\" points=\"496.996,-468.8043 489.2815,-461.5422 490.7835,-472.03 496.996,-468.8043\"/>\n</g>\n<!-- 23 -->\n<g id=\"node24\" class=\"node\">\n<title>23</title>\n<polygon fill=\"none\" stroke=\"#000000\" points=\"646.5,-461.5 544.5,-461.5 544.5,-408.5 646.5,-408.5 646.5,-461.5\"/>\n<text text-anchor=\"middle\" x=\"595.5\" y=\"-446.3\" font-family=\"Times,serif\" font-size=\"14.00\" fill=\"#000000\">gini = 0.0</text>\n<text text-anchor=\"middle\" x=\"595.5\" y=\"-431.3\" font-family=\"Times,serif\" font-size=\"14.00\" fill=\"#000000\">samples = 68</text>\n<text text-anchor=\"middle\" x=\"595.5\" y=\"-416.3\" font-family=\"Times,serif\" font-size=\"14.00\" fill=\"#000000\">value = [68, 0]</text>\n</g>\n<!-- 21&#45;&gt;23 -->\n<g id=\"edge23\" class=\"edge\">\n<title>21&#45;&gt;23</title>\n<path fill=\"none\" stroke=\"#000000\" d=\"M551.1109,-504.9465C558.171,-493.8215 566.0239,-481.4473 573.1381,-470.237\"/>\n<polygon fill=\"#000000\" stroke=\"#000000\" points=\"576.2528,-471.8609 578.6559,-461.5422 570.3425,-468.1101 576.2528,-471.8609\"/>\n</g>\n<!-- 25 -->\n<g id=\"node26\" class=\"node\">\n<title>25</title>\n<polygon fill=\"none\" stroke=\"#000000\" points=\"822.5,-573 720.5,-573 720.5,-505 822.5,-505 822.5,-573\"/>\n<text text-anchor=\"middle\" x=\"771.5\" y=\"-557.8\" font-family=\"Times,serif\" font-size=\"14.00\" fill=\"#000000\">X[0] &lt;= 3.304</text>\n<text text-anchor=\"middle\" x=\"771.5\" y=\"-542.8\" font-family=\"Times,serif\" font-size=\"14.00\" fill=\"#000000\">gini = 0.389</text>\n<text text-anchor=\"middle\" x=\"771.5\" y=\"-527.8\" font-family=\"Times,serif\" font-size=\"14.00\" fill=\"#000000\">samples = 34</text>\n<text text-anchor=\"middle\" x=\"771.5\" y=\"-512.8\" font-family=\"Times,serif\" font-size=\"14.00\" fill=\"#000000\">value = [9, 25]</text>\n</g>\n<!-- 24&#45;&gt;25 -->\n<g id=\"edge25\" class=\"edge\">\n<title>24&#45;&gt;25</title>\n<path fill=\"none\" stroke=\"#000000\" d=\"M771.5,-608.9465C771.5,-600.776 771.5,-591.9318 771.5,-583.3697\"/>\n<polygon fill=\"#000000\" stroke=\"#000000\" points=\"775.0001,-583.13 771.5,-573.13 768.0001,-583.13 775.0001,-583.13\"/>\n</g>\n<!-- 28 -->\n<g id=\"node29\" class=\"node\">\n<title>28</title>\n<polygon fill=\"none\" stroke=\"#000000\" points=\"1015,-573 898,-573 898,-505 1015,-505 1015,-573\"/>\n<text text-anchor=\"middle\" x=\"956.5\" y=\"-557.8\" font-family=\"Times,serif\" font-size=\"14.00\" fill=\"#000000\">X[0] &lt;= 1.592</text>\n<text text-anchor=\"middle\" x=\"956.5\" y=\"-542.8\" font-family=\"Times,serif\" font-size=\"14.00\" fill=\"#000000\">gini = 0.14</text>\n<text text-anchor=\"middle\" x=\"956.5\" y=\"-527.8\" font-family=\"Times,serif\" font-size=\"14.00\" fill=\"#000000\">samples = 540</text>\n<text text-anchor=\"middle\" x=\"956.5\" y=\"-512.8\" font-family=\"Times,serif\" font-size=\"14.00\" fill=\"#000000\">value = [499, 41]</text>\n</g>\n<!-- 24&#45;&gt;28 -->\n<g id=\"edge28\" class=\"edge\">\n<title>24&#45;&gt;28</title>\n<path fill=\"none\" stroke=\"#000000\" d=\"M830.0352,-610.0938C848.7621,-599.5662 869.6458,-587.8261 888.9603,-576.9683\"/>\n<polygon fill=\"#000000\" stroke=\"#000000\" points=\"890.7088,-580.0005 897.7107,-572.0491 887.2785,-573.8986 890.7088,-580.0005\"/>\n</g>\n<!-- 26 -->\n<g id=\"node27\" class=\"node\">\n<title>26</title>\n<polygon fill=\"none\" stroke=\"#000000\" points=\"766.5,-461.5 664.5,-461.5 664.5,-408.5 766.5,-408.5 766.5,-461.5\"/>\n<text text-anchor=\"middle\" x=\"715.5\" y=\"-446.3\" font-family=\"Times,serif\" font-size=\"14.00\" fill=\"#000000\">gini = 0.0</text>\n<text text-anchor=\"middle\" x=\"715.5\" y=\"-431.3\" font-family=\"Times,serif\" font-size=\"14.00\" fill=\"#000000\">samples = 25</text>\n<text text-anchor=\"middle\" x=\"715.5\" y=\"-416.3\" font-family=\"Times,serif\" font-size=\"14.00\" fill=\"#000000\">value = [0, 25]</text>\n</g>\n<!-- 25&#45;&gt;26 -->\n<g id=\"edge26\" class=\"edge\">\n<title>25&#45;&gt;26</title>\n<path fill=\"none\" stroke=\"#000000\" d=\"M753.1635,-504.9465C747.2324,-493.9316 740.6419,-481.6922 734.6532,-470.5703\"/>\n<polygon fill=\"#000000\" stroke=\"#000000\" points=\"737.6146,-468.6875 729.7919,-461.5422 731.4513,-472.0063 737.6146,-468.6875\"/>\n</g>\n<!-- 27 -->\n<g id=\"node28\" class=\"node\">\n<title>27</title>\n<polygon fill=\"none\" stroke=\"#000000\" points=\"880,-461.5 785,-461.5 785,-408.5 880,-408.5 880,-461.5\"/>\n<text text-anchor=\"middle\" x=\"832.5\" y=\"-446.3\" font-family=\"Times,serif\" font-size=\"14.00\" fill=\"#000000\">gini = 0.0</text>\n<text text-anchor=\"middle\" x=\"832.5\" y=\"-431.3\" font-family=\"Times,serif\" font-size=\"14.00\" fill=\"#000000\">samples = 9</text>\n<text text-anchor=\"middle\" x=\"832.5\" y=\"-416.3\" font-family=\"Times,serif\" font-size=\"14.00\" fill=\"#000000\">value = [9, 0]</text>\n</g>\n<!-- 25&#45;&gt;27 -->\n<g id=\"edge27\" class=\"edge\">\n<title>25&#45;&gt;27</title>\n<path fill=\"none\" stroke=\"#000000\" d=\"M791.4737,-504.9465C797.999,-493.8215 805.2569,-481.4473 811.8322,-470.237\"/>\n<polygon fill=\"#000000\" stroke=\"#000000\" points=\"814.8916,-471.9387 816.932,-461.5422 808.8536,-468.3971 814.8916,-471.9387\"/>\n</g>\n<!-- 29 -->\n<g id=\"node30\" class=\"node\">\n<title>29</title>\n<polygon fill=\"none\" stroke=\"#000000\" points=\"1014.5,-469 898.5,-469 898.5,-401 1014.5,-401 1014.5,-469\"/>\n<text text-anchor=\"middle\" x=\"956.5\" y=\"-453.8\" font-family=\"Times,serif\" font-size=\"14.00\" fill=\"#000000\">X[2] &lt;= &#45;2.286</text>\n<text text-anchor=\"middle\" x=\"956.5\" y=\"-438.8\" font-family=\"Times,serif\" font-size=\"14.00\" fill=\"#000000\">gini = 0.383</text>\n<text text-anchor=\"middle\" x=\"956.5\" y=\"-423.8\" font-family=\"Times,serif\" font-size=\"14.00\" fill=\"#000000\">samples = 155</text>\n<text text-anchor=\"middle\" x=\"956.5\" y=\"-408.8\" font-family=\"Times,serif\" font-size=\"14.00\" fill=\"#000000\">value = [115, 40]</text>\n</g>\n<!-- 28&#45;&gt;29 -->\n<g id=\"edge29\" class=\"edge\">\n<title>28&#45;&gt;29</title>\n<path fill=\"none\" stroke=\"#000000\" d=\"M956.5,-504.9465C956.5,-496.776 956.5,-487.9318 956.5,-479.3697\"/>\n<polygon fill=\"#000000\" stroke=\"#000000\" points=\"960.0001,-479.13 956.5,-469.13 953.0001,-479.13 960.0001,-479.13\"/>\n</g>\n<!-- 44 -->\n<g id=\"node45\" class=\"node\">\n<title>44</title>\n<polygon fill=\"none\" stroke=\"#000000\" points=\"1195.5,-469 1085.5,-469 1085.5,-401 1195.5,-401 1195.5,-469\"/>\n<text text-anchor=\"middle\" x=\"1140.5\" y=\"-453.8\" font-family=\"Times,serif\" font-size=\"14.00\" fill=\"#000000\">X[0] &lt;= 2.018</text>\n<text text-anchor=\"middle\" x=\"1140.5\" y=\"-438.8\" font-family=\"Times,serif\" font-size=\"14.00\" fill=\"#000000\">gini = 0.005</text>\n<text text-anchor=\"middle\" x=\"1140.5\" y=\"-423.8\" font-family=\"Times,serif\" font-size=\"14.00\" fill=\"#000000\">samples = 385</text>\n<text text-anchor=\"middle\" x=\"1140.5\" y=\"-408.8\" font-family=\"Times,serif\" font-size=\"14.00\" fill=\"#000000\">value = [384, 1]</text>\n</g>\n<!-- 28&#45;&gt;44 -->\n<g id=\"edge44\" class=\"edge\">\n<title>28&#45;&gt;44</title>\n<path fill=\"none\" stroke=\"#000000\" d=\"M1015.2246,-505.8078C1034.8305,-494.7263 1056.7664,-482.3277 1076.7368,-471.0401\"/>\n<polygon fill=\"#000000\" stroke=\"#000000\" points=\"1078.476,-474.0775 1085.4595,-466.1099 1075.0316,-467.9835 1078.476,-474.0775\"/>\n</g>\n<!-- 30 -->\n<g id=\"node31\" class=\"node\">\n<title>30</title>\n<polygon fill=\"none\" stroke=\"#000000\" points=\"826.5,-365 724.5,-365 724.5,-297 826.5,-297 826.5,-365\"/>\n<text text-anchor=\"middle\" x=\"775.5\" y=\"-349.8\" font-family=\"Times,serif\" font-size=\"14.00\" fill=\"#000000\">X[1] &lt;= 5.667</text>\n<text text-anchor=\"middle\" x=\"775.5\" y=\"-334.8\" font-family=\"Times,serif\" font-size=\"14.00\" fill=\"#000000\">gini = 0.211</text>\n<text text-anchor=\"middle\" x=\"775.5\" y=\"-319.8\" font-family=\"Times,serif\" font-size=\"14.00\" fill=\"#000000\">samples = 25</text>\n<text text-anchor=\"middle\" x=\"775.5\" y=\"-304.8\" font-family=\"Times,serif\" font-size=\"14.00\" fill=\"#000000\">value = [3, 22]</text>\n</g>\n<!-- 29&#45;&gt;30 -->\n<g id=\"edge30\" class=\"edge\">\n<title>29&#45;&gt;30</title>\n<path fill=\"none\" stroke=\"#000000\" d=\"M898.2342,-401.5213C878.1592,-389.9865 855.6501,-377.0531 835.4436,-365.4428\"/>\n<polygon fill=\"#000000\" stroke=\"#000000\" points=\"837.054,-362.3315 826.6397,-360.3841 833.5666,-368.4009 837.054,-362.3315\"/>\n</g>\n<!-- 33 -->\n<g id=\"node34\" class=\"node\">\n<title>33</title>\n<polygon fill=\"none\" stroke=\"#000000\" points=\"1014.5,-365 898.5,-365 898.5,-297 1014.5,-297 1014.5,-365\"/>\n<text text-anchor=\"middle\" x=\"956.5\" y=\"-349.8\" font-family=\"Times,serif\" font-size=\"14.00\" fill=\"#000000\">X[3] &lt;= 0.082</text>\n<text text-anchor=\"middle\" x=\"956.5\" y=\"-334.8\" font-family=\"Times,serif\" font-size=\"14.00\" fill=\"#000000\">gini = 0.239</text>\n<text text-anchor=\"middle\" x=\"956.5\" y=\"-319.8\" font-family=\"Times,serif\" font-size=\"14.00\" fill=\"#000000\">samples = 130</text>\n<text text-anchor=\"middle\" x=\"956.5\" y=\"-304.8\" font-family=\"Times,serif\" font-size=\"14.00\" fill=\"#000000\">value = [112, 18]</text>\n</g>\n<!-- 29&#45;&gt;33 -->\n<g id=\"edge33\" class=\"edge\">\n<title>29&#45;&gt;33</title>\n<path fill=\"none\" stroke=\"#000000\" d=\"M956.5,-400.9465C956.5,-392.776 956.5,-383.9318 956.5,-375.3697\"/>\n<polygon fill=\"#000000\" stroke=\"#000000\" points=\"960.0001,-375.13 956.5,-365.13 953.0001,-375.13 960.0001,-375.13\"/>\n</g>\n<!-- 31 -->\n<g id=\"node32\" class=\"node\">\n<title>31</title>\n<polygon fill=\"none\" stroke=\"#000000\" points=\"709.5,-253.5 607.5,-253.5 607.5,-200.5 709.5,-200.5 709.5,-253.5\"/>\n<text text-anchor=\"middle\" x=\"658.5\" y=\"-238.3\" font-family=\"Times,serif\" font-size=\"14.00\" fill=\"#000000\">gini = 0.0</text>\n<text text-anchor=\"middle\" x=\"658.5\" y=\"-223.3\" font-family=\"Times,serif\" font-size=\"14.00\" fill=\"#000000\">samples = 22</text>\n<text text-anchor=\"middle\" x=\"658.5\" y=\"-208.3\" font-family=\"Times,serif\" font-size=\"14.00\" fill=\"#000000\">value = [0, 22]</text>\n</g>\n<!-- 30&#45;&gt;31 -->\n<g id=\"edge31\" class=\"edge\">\n<title>30&#45;&gt;31</title>\n<path fill=\"none\" stroke=\"#000000\" d=\"M737.1898,-296.9465C723.9306,-285.1606 709.0942,-271.9726 695.9084,-260.2519\"/>\n<polygon fill=\"#000000\" stroke=\"#000000\" points=\"698.1593,-257.5699 688.3599,-253.5422 693.5088,-262.8018 698.1593,-257.5699\"/>\n</g>\n<!-- 32 -->\n<g id=\"node33\" class=\"node\">\n<title>32</title>\n<polygon fill=\"none\" stroke=\"#000000\" points=\"823,-253.5 728,-253.5 728,-200.5 823,-200.5 823,-253.5\"/>\n<text text-anchor=\"middle\" x=\"775.5\" y=\"-238.3\" font-family=\"Times,serif\" font-size=\"14.00\" fill=\"#000000\">gini = 0.0</text>\n<text text-anchor=\"middle\" x=\"775.5\" y=\"-223.3\" font-family=\"Times,serif\" font-size=\"14.00\" fill=\"#000000\">samples = 3</text>\n<text text-anchor=\"middle\" x=\"775.5\" y=\"-208.3\" font-family=\"Times,serif\" font-size=\"14.00\" fill=\"#000000\">value = [3, 0]</text>\n</g>\n<!-- 30&#45;&gt;32 -->\n<g id=\"edge32\" class=\"edge\">\n<title>30&#45;&gt;32</title>\n<path fill=\"none\" stroke=\"#000000\" d=\"M775.5,-296.9465C775.5,-286.2621 775.5,-274.4254 775.5,-263.5742\"/>\n<polygon fill=\"#000000\" stroke=\"#000000\" points=\"779.0001,-263.5421 775.5,-253.5422 772.0001,-263.5422 779.0001,-263.5421\"/>\n</g>\n<!-- 34 -->\n<g id=\"node35\" class=\"node\">\n<title>34</title>\n<polygon fill=\"none\" stroke=\"#000000\" points=\"943.5,-261 841.5,-261 841.5,-193 943.5,-193 943.5,-261\"/>\n<text text-anchor=\"middle\" x=\"892.5\" y=\"-245.8\" font-family=\"Times,serif\" font-size=\"14.00\" fill=\"#000000\">X[0] &lt;= 0.451</text>\n<text text-anchor=\"middle\" x=\"892.5\" y=\"-230.8\" font-family=\"Times,serif\" font-size=\"14.00\" fill=\"#000000\">gini = 0.02</text>\n<text text-anchor=\"middle\" x=\"892.5\" y=\"-215.8\" font-family=\"Times,serif\" font-size=\"14.00\" fill=\"#000000\">samples = 97</text>\n<text text-anchor=\"middle\" x=\"892.5\" y=\"-200.8\" font-family=\"Times,serif\" font-size=\"14.00\" fill=\"#000000\">value = [96, 1]</text>\n</g>\n<!-- 33&#45;&gt;34 -->\n<g id=\"edge34\" class=\"edge\">\n<title>33&#45;&gt;34</title>\n<path fill=\"none\" stroke=\"#000000\" d=\"M935.544,-296.9465C930.1845,-288.2373 924.3539,-278.7626 918.7647,-269.6801\"/>\n<polygon fill=\"#000000\" stroke=\"#000000\" points=\"921.7249,-267.8122 913.5031,-261.13 915.7633,-271.481 921.7249,-267.8122\"/>\n</g>\n<!-- 39 -->\n<g id=\"node40\" class=\"node\">\n<title>39</title>\n<polygon fill=\"none\" stroke=\"#000000\" points=\"1071.5,-261 961.5,-261 961.5,-193 1071.5,-193 1071.5,-261\"/>\n<text text-anchor=\"middle\" x=\"1016.5\" y=\"-245.8\" font-family=\"Times,serif\" font-size=\"14.00\" fill=\"#000000\">X[2] &lt;= 1.952</text>\n<text text-anchor=\"middle\" x=\"1016.5\" y=\"-230.8\" font-family=\"Times,serif\" font-size=\"14.00\" fill=\"#000000\">gini = 0.5</text>\n<text text-anchor=\"middle\" x=\"1016.5\" y=\"-215.8\" font-family=\"Times,serif\" font-size=\"14.00\" fill=\"#000000\">samples = 33</text>\n<text text-anchor=\"middle\" x=\"1016.5\" y=\"-200.8\" font-family=\"Times,serif\" font-size=\"14.00\" fill=\"#000000\">value = [16, 17]</text>\n</g>\n<!-- 33&#45;&gt;39 -->\n<g id=\"edge39\" class=\"edge\">\n<title>33&#45;&gt;39</title>\n<path fill=\"none\" stroke=\"#000000\" d=\"M976.1462,-296.9465C981.119,-288.3271 986.5243,-278.9579 991.7148,-269.9611\"/>\n<polygon fill=\"#000000\" stroke=\"#000000\" points=\"994.844,-271.5409 996.8096,-261.13 988.7807,-268.0428 994.844,-271.5409\"/>\n</g>\n<!-- 35 -->\n<g id=\"node36\" class=\"node\">\n<title>35</title>\n<polygon fill=\"none\" stroke=\"#000000\" points=\"824.5,-157 722.5,-157 722.5,-89 824.5,-89 824.5,-157\"/>\n<text text-anchor=\"middle\" x=\"773.5\" y=\"-141.8\" font-family=\"Times,serif\" font-size=\"14.00\" fill=\"#000000\">X[0] &lt;= 0.401</text>\n<text text-anchor=\"middle\" x=\"773.5\" y=\"-126.8\" font-family=\"Times,serif\" font-size=\"14.00\" fill=\"#000000\">gini = 0.124</text>\n<text text-anchor=\"middle\" x=\"773.5\" y=\"-111.8\" font-family=\"Times,serif\" font-size=\"14.00\" fill=\"#000000\">samples = 15</text>\n<text text-anchor=\"middle\" x=\"773.5\" y=\"-96.8\" font-family=\"Times,serif\" font-size=\"14.00\" fill=\"#000000\">value = [14, 1]</text>\n</g>\n<!-- 34&#45;&gt;35 -->\n<g id=\"edge35\" class=\"edge\">\n<title>34&#45;&gt;35</title>\n<path fill=\"none\" stroke=\"#000000\" d=\"M853.5349,-192.9465C842.8505,-183.6088 831.1591,-173.3911 820.0934,-163.7203\"/>\n<polygon fill=\"#000000\" stroke=\"#000000\" points=\"822.3855,-161.0752 812.5526,-157.13 817.7791,-166.346 822.3855,-161.0752\"/>\n</g>\n<!-- 38 -->\n<g id=\"node39\" class=\"node\">\n<title>38</title>\n<polygon fill=\"none\" stroke=\"#000000\" points=\"944.5,-149.5 842.5,-149.5 842.5,-96.5 944.5,-96.5 944.5,-149.5\"/>\n<text text-anchor=\"middle\" x=\"893.5\" y=\"-134.3\" font-family=\"Times,serif\" font-size=\"14.00\" fill=\"#000000\">gini = 0.0</text>\n<text text-anchor=\"middle\" x=\"893.5\" y=\"-119.3\" font-family=\"Times,serif\" font-size=\"14.00\" fill=\"#000000\">samples = 82</text>\n<text text-anchor=\"middle\" x=\"893.5\" y=\"-104.3\" font-family=\"Times,serif\" font-size=\"14.00\" fill=\"#000000\">value = [82, 0]</text>\n</g>\n<!-- 34&#45;&gt;38 -->\n<g id=\"edge38\" class=\"edge\">\n<title>34&#45;&gt;38</title>\n<path fill=\"none\" stroke=\"#000000\" d=\"M892.8274,-192.9465C892.9302,-182.2621 893.044,-170.4254 893.1483,-159.5742\"/>\n<polygon fill=\"#000000\" stroke=\"#000000\" points=\"896.6484,-159.5754 893.2448,-149.5422 889.6487,-159.508 896.6484,-159.5754\"/>\n</g>\n<!-- 36 -->\n<g id=\"node37\" class=\"node\">\n<title>36</title>\n<polygon fill=\"none\" stroke=\"#000000\" points=\"768.5,-53 666.5,-53 666.5,0 768.5,0 768.5,-53\"/>\n<text text-anchor=\"middle\" x=\"717.5\" y=\"-37.8\" font-family=\"Times,serif\" font-size=\"14.00\" fill=\"#000000\">gini = 0.0</text>\n<text text-anchor=\"middle\" x=\"717.5\" y=\"-22.8\" font-family=\"Times,serif\" font-size=\"14.00\" fill=\"#000000\">samples = 14</text>\n<text text-anchor=\"middle\" x=\"717.5\" y=\"-7.8\" font-family=\"Times,serif\" font-size=\"14.00\" fill=\"#000000\">value = [14, 0]</text>\n</g>\n<!-- 35&#45;&gt;36 -->\n<g id=\"edge36\" class=\"edge\">\n<title>35&#45;&gt;36</title>\n<path fill=\"none\" stroke=\"#000000\" d=\"M753.7565,-88.9777C748.7083,-80.2786 743.2669,-70.9018 738.1734,-62.1247\"/>\n<polygon fill=\"#000000\" stroke=\"#000000\" points=\"741.0689,-60.1409 733.0224,-53.2485 735.0145,-63.6544 741.0689,-60.1409\"/>\n</g>\n<!-- 37 -->\n<g id=\"node38\" class=\"node\">\n<title>37</title>\n<polygon fill=\"none\" stroke=\"#000000\" points=\"882,-53 787,-53 787,0 882,0 882,-53\"/>\n<text text-anchor=\"middle\" x=\"834.5\" y=\"-37.8\" font-family=\"Times,serif\" font-size=\"14.00\" fill=\"#000000\">gini = 0.0</text>\n<text text-anchor=\"middle\" x=\"834.5\" y=\"-22.8\" font-family=\"Times,serif\" font-size=\"14.00\" fill=\"#000000\">samples = 1</text>\n<text text-anchor=\"middle\" x=\"834.5\" y=\"-7.8\" font-family=\"Times,serif\" font-size=\"14.00\" fill=\"#000000\">value = [0, 1]</text>\n</g>\n<!-- 35&#45;&gt;37 -->\n<g id=\"edge37\" class=\"edge\">\n<title>35&#45;&gt;37</title>\n<path fill=\"none\" stroke=\"#000000\" d=\"M795.0063,-88.9777C800.5631,-80.187 806.5573,-70.7044 812.1559,-61.8477\"/>\n<polygon fill=\"#000000\" stroke=\"#000000\" points=\"815.2069,-63.5714 817.5916,-53.2485 809.2899,-59.8312 815.2069,-63.5714\"/>\n</g>\n<!-- 40 -->\n<g id=\"node41\" class=\"node\">\n<title>40</title>\n<polygon fill=\"none\" stroke=\"#000000\" points=\"1066.5,-157 964.5,-157 964.5,-89 1066.5,-89 1066.5,-157\"/>\n<text text-anchor=\"middle\" x=\"1015.5\" y=\"-141.8\" font-family=\"Times,serif\" font-size=\"14.00\" fill=\"#000000\">X[1] &lt;= 3.559</text>\n<text text-anchor=\"middle\" x=\"1015.5\" y=\"-126.8\" font-family=\"Times,serif\" font-size=\"14.00\" fill=\"#000000\">gini = 0.188</text>\n<text text-anchor=\"middle\" x=\"1015.5\" y=\"-111.8\" font-family=\"Times,serif\" font-size=\"14.00\" fill=\"#000000\">samples = 19</text>\n<text text-anchor=\"middle\" x=\"1015.5\" y=\"-96.8\" font-family=\"Times,serif\" font-size=\"14.00\" fill=\"#000000\">value = [2, 17]</text>\n</g>\n<!-- 39&#45;&gt;40 -->\n<g id=\"edge40\" class=\"edge\">\n<title>39&#45;&gt;40</title>\n<path fill=\"none\" stroke=\"#000000\" d=\"M1016.1726,-192.9465C1016.094,-184.776 1016.009,-175.9318 1015.9266,-167.3697\"/>\n<polygon fill=\"#000000\" stroke=\"#000000\" points=\"1019.4243,-167.0958 1015.8282,-157.13 1012.4246,-167.1632 1019.4243,-167.0958\"/>\n</g>\n<!-- 43 -->\n<g id=\"node44\" class=\"node\">\n<title>43</title>\n<polygon fill=\"none\" stroke=\"#000000\" points=\"1186.5,-149.5 1084.5,-149.5 1084.5,-96.5 1186.5,-96.5 1186.5,-149.5\"/>\n<text text-anchor=\"middle\" x=\"1135.5\" y=\"-134.3\" font-family=\"Times,serif\" font-size=\"14.00\" fill=\"#000000\">gini = 0.0</text>\n<text text-anchor=\"middle\" x=\"1135.5\" y=\"-119.3\" font-family=\"Times,serif\" font-size=\"14.00\" fill=\"#000000\">samples = 14</text>\n<text text-anchor=\"middle\" x=\"1135.5\" y=\"-104.3\" font-family=\"Times,serif\" font-size=\"14.00\" fill=\"#000000\">value = [14, 0]</text>\n</g>\n<!-- 39&#45;&gt;43 -->\n<g id=\"edge43\" class=\"edge\">\n<title>39&#45;&gt;43</title>\n<path fill=\"none\" stroke=\"#000000\" d=\"M1055.4651,-192.9465C1068.9509,-181.1606 1084.0409,-167.9726 1097.4521,-156.2519\"/>\n<polygon fill=\"#000000\" stroke=\"#000000\" points=\"1099.9031,-158.7582 1105.1296,-149.5422 1095.2967,-153.4874 1099.9031,-158.7582\"/>\n</g>\n<!-- 41 -->\n<g id=\"node42\" class=\"node\">\n<title>41</title>\n<polygon fill=\"none\" stroke=\"#000000\" points=\"1005.5,-53 903.5,-53 903.5,0 1005.5,0 1005.5,-53\"/>\n<text text-anchor=\"middle\" x=\"954.5\" y=\"-37.8\" font-family=\"Times,serif\" font-size=\"14.00\" fill=\"#000000\">gini = 0.0</text>\n<text text-anchor=\"middle\" x=\"954.5\" y=\"-22.8\" font-family=\"Times,serif\" font-size=\"14.00\" fill=\"#000000\">samples = 17</text>\n<text text-anchor=\"middle\" x=\"954.5\" y=\"-7.8\" font-family=\"Times,serif\" font-size=\"14.00\" fill=\"#000000\">value = [0, 17]</text>\n</g>\n<!-- 40&#45;&gt;41 -->\n<g id=\"edge41\" class=\"edge\">\n<title>40&#45;&gt;41</title>\n<path fill=\"none\" stroke=\"#000000\" d=\"M993.9937,-88.9777C988.4369,-80.187 982.4427,-70.7044 976.8441,-61.8477\"/>\n<polygon fill=\"#000000\" stroke=\"#000000\" points=\"979.7101,-59.8312 971.4084,-53.2485 973.7931,-63.5714 979.7101,-59.8312\"/>\n</g>\n<!-- 42 -->\n<g id=\"node43\" class=\"node\">\n<title>42</title>\n<polygon fill=\"none\" stroke=\"#000000\" points=\"1119,-53 1024,-53 1024,0 1119,0 1119,-53\"/>\n<text text-anchor=\"middle\" x=\"1071.5\" y=\"-37.8\" font-family=\"Times,serif\" font-size=\"14.00\" fill=\"#000000\">gini = 0.0</text>\n<text text-anchor=\"middle\" x=\"1071.5\" y=\"-22.8\" font-family=\"Times,serif\" font-size=\"14.00\" fill=\"#000000\">samples = 2</text>\n<text text-anchor=\"middle\" x=\"1071.5\" y=\"-7.8\" font-family=\"Times,serif\" font-size=\"14.00\" fill=\"#000000\">value = [2, 0]</text>\n</g>\n<!-- 40&#45;&gt;42 -->\n<g id=\"edge42\" class=\"edge\">\n<title>40&#45;&gt;42</title>\n<path fill=\"none\" stroke=\"#000000\" d=\"M1035.2435,-88.9777C1040.2917,-80.2786 1045.7331,-70.9018 1050.8266,-62.1247\"/>\n<polygon fill=\"#000000\" stroke=\"#000000\" points=\"1053.9855,-63.6544 1055.9776,-53.2485 1047.9311,-60.1409 1053.9855,-63.6544\"/>\n</g>\n<!-- 45 -->\n<g id=\"node46\" class=\"node\">\n<title>45</title>\n<polygon fill=\"none\" stroke=\"#000000\" points=\"1191.5,-365 1089.5,-365 1089.5,-297 1191.5,-297 1191.5,-365\"/>\n<text text-anchor=\"middle\" x=\"1140.5\" y=\"-349.8\" font-family=\"Times,serif\" font-size=\"14.00\" fill=\"#000000\">X[0] &lt;= 2.017</text>\n<text text-anchor=\"middle\" x=\"1140.5\" y=\"-334.8\" font-family=\"Times,serif\" font-size=\"14.00\" fill=\"#000000\">gini = 0.043</text>\n<text text-anchor=\"middle\" x=\"1140.5\" y=\"-319.8\" font-family=\"Times,serif\" font-size=\"14.00\" fill=\"#000000\">samples = 45</text>\n<text text-anchor=\"middle\" x=\"1140.5\" y=\"-304.8\" font-family=\"Times,serif\" font-size=\"14.00\" fill=\"#000000\">value = [44, 1]</text>\n</g>\n<!-- 44&#45;&gt;45 -->\n<g id=\"edge45\" class=\"edge\">\n<title>44&#45;&gt;45</title>\n<path fill=\"none\" stroke=\"#000000\" d=\"M1140.5,-400.9465C1140.5,-392.776 1140.5,-383.9318 1140.5,-375.3697\"/>\n<polygon fill=\"#000000\" stroke=\"#000000\" points=\"1144.0001,-375.13 1140.5,-365.13 1137.0001,-375.13 1144.0001,-375.13\"/>\n</g>\n<!-- 48 -->\n<g id=\"node49\" class=\"node\">\n<title>48</title>\n<polygon fill=\"none\" stroke=\"#000000\" points=\"1319.5,-357.5 1209.5,-357.5 1209.5,-304.5 1319.5,-304.5 1319.5,-357.5\"/>\n<text text-anchor=\"middle\" x=\"1264.5\" y=\"-342.3\" font-family=\"Times,serif\" font-size=\"14.00\" fill=\"#000000\">gini = 0.0</text>\n<text text-anchor=\"middle\" x=\"1264.5\" y=\"-327.3\" font-family=\"Times,serif\" font-size=\"14.00\" fill=\"#000000\">samples = 340</text>\n<text text-anchor=\"middle\" x=\"1264.5\" y=\"-312.3\" font-family=\"Times,serif\" font-size=\"14.00\" fill=\"#000000\">value = [340, 0]</text>\n</g>\n<!-- 44&#45;&gt;48 -->\n<g id=\"edge48\" class=\"edge\">\n<title>44&#45;&gt;48</title>\n<path fill=\"none\" stroke=\"#000000\" d=\"M1181.1022,-400.9465C1195.1547,-389.1606 1210.8788,-375.9726 1224.8535,-364.2519\"/>\n<polygon fill=\"#000000\" stroke=\"#000000\" points=\"1227.4408,-366.65 1232.8536,-357.5422 1222.9425,-361.2866 1227.4408,-366.65\"/>\n</g>\n<!-- 46 -->\n<g id=\"node47\" class=\"node\">\n<title>46</title>\n<polygon fill=\"none\" stroke=\"#000000\" points=\"1191.5,-253.5 1089.5,-253.5 1089.5,-200.5 1191.5,-200.5 1191.5,-253.5\"/>\n<text text-anchor=\"middle\" x=\"1140.5\" y=\"-238.3\" font-family=\"Times,serif\" font-size=\"14.00\" fill=\"#000000\">gini = 0.0</text>\n<text text-anchor=\"middle\" x=\"1140.5\" y=\"-223.3\" font-family=\"Times,serif\" font-size=\"14.00\" fill=\"#000000\">samples = 44</text>\n<text text-anchor=\"middle\" x=\"1140.5\" y=\"-208.3\" font-family=\"Times,serif\" font-size=\"14.00\" fill=\"#000000\">value = [44, 0]</text>\n</g>\n<!-- 45&#45;&gt;46 -->\n<g id=\"edge46\" class=\"edge\">\n<title>45&#45;&gt;46</title>\n<path fill=\"none\" stroke=\"#000000\" d=\"M1140.5,-296.9465C1140.5,-286.2621 1140.5,-274.4254 1140.5,-263.5742\"/>\n<polygon fill=\"#000000\" stroke=\"#000000\" points=\"1144.0001,-263.5421 1140.5,-253.5422 1137.0001,-263.5422 1144.0001,-263.5421\"/>\n</g>\n<!-- 47 -->\n<g id=\"node48\" class=\"node\">\n<title>47</title>\n<polygon fill=\"none\" stroke=\"#000000\" points=\"1305,-253.5 1210,-253.5 1210,-200.5 1305,-200.5 1305,-253.5\"/>\n<text text-anchor=\"middle\" x=\"1257.5\" y=\"-238.3\" font-family=\"Times,serif\" font-size=\"14.00\" fill=\"#000000\">gini = 0.0</text>\n<text text-anchor=\"middle\" x=\"1257.5\" y=\"-223.3\" font-family=\"Times,serif\" font-size=\"14.00\" fill=\"#000000\">samples = 1</text>\n<text text-anchor=\"middle\" x=\"1257.5\" y=\"-208.3\" font-family=\"Times,serif\" font-size=\"14.00\" fill=\"#000000\">value = [0, 1]</text>\n</g>\n<!-- 45&#45;&gt;47 -->\n<g id=\"edge47\" class=\"edge\">\n<title>45&#45;&gt;47</title>\n<path fill=\"none\" stroke=\"#000000\" d=\"M1178.8102,-296.9465C1192.0694,-285.1606 1206.9058,-271.9726 1220.0916,-260.2519\"/>\n<polygon fill=\"#000000\" stroke=\"#000000\" points=\"1222.4912,-262.8018 1227.6401,-253.5422 1217.8407,-257.5699 1222.4912,-262.8018\"/>\n</g>\n</g>\n</svg>\n"
          },
          "metadata": {
            "tags": []
          },
          "execution_count": 53
        }
      ]
    },
    {
      "cell_type": "code",
      "metadata": {
        "id": "GOzghXqeYPLz",
        "colab_type": "code",
        "colab": {
          "base_uri": "https://localhost:8080/",
          "height": 1000
        },
        "outputId": "8247391e-fa87-4c0e-d69f-df5e144f7f2f"
      },
      "source": [
        "import graphviz \n",
        "graph = graphviz.Source(dot_data2)\n",
        "graph"
      ],
      "execution_count": 54,
      "outputs": [
        {
          "output_type": "execute_result",
          "data": {
            "text/plain": [
              "<graphviz.files.Source at 0x7f33622af6a0>"
            ],
            "image/svg+xml": "<?xml version=\"1.0\" encoding=\"UTF-8\" standalone=\"no\"?>\n<!DOCTYPE svg PUBLIC \"-//W3C//DTD SVG 1.1//EN\"\n \"http://www.w3.org/Graphics/SVG/1.1/DTD/svg11.dtd\">\n<!-- Generated by graphviz version 2.40.1 (20161225.0304)\n -->\n<!-- Title: Tree Pages: 1 -->\n<svg width=\"1588pt\" height=\"789pt\"\n viewBox=\"0.00 0.00 1588.00 789.00\" xmlns=\"http://www.w3.org/2000/svg\" xmlns:xlink=\"http://www.w3.org/1999/xlink\">\n<g id=\"graph0\" class=\"graph\" transform=\"scale(1 1) rotate(0) translate(4 785)\">\n<title>Tree</title>\n<polygon fill=\"#ffffff\" stroke=\"transparent\" points=\"-4,4 -4,-785 1584,-785 1584,4 -4,4\"/>\n<!-- 0 -->\n<g id=\"node1\" class=\"node\">\n<title>0</title>\n<polygon fill=\"none\" stroke=\"#000000\" points=\"781.5,-781 656.5,-781 656.5,-713 781.5,-713 781.5,-781\"/>\n<text text-anchor=\"middle\" x=\"719\" y=\"-765.8\" font-family=\"Times,serif\" font-size=\"14.00\" fill=\"#000000\">X[0] &lt;= 0.32</text>\n<text text-anchor=\"middle\" x=\"719\" y=\"-750.8\" font-family=\"Times,serif\" font-size=\"14.00\" fill=\"#000000\">entropy = 0.991</text>\n<text text-anchor=\"middle\" x=\"719\" y=\"-735.8\" font-family=\"Times,serif\" font-size=\"14.00\" fill=\"#000000\">samples = 1097</text>\n<text text-anchor=\"middle\" x=\"719\" y=\"-720.8\" font-family=\"Times,serif\" font-size=\"14.00\" fill=\"#000000\">value = [609, 488]</text>\n</g>\n<!-- 1 -->\n<g id=\"node2\" class=\"node\">\n<title>1</title>\n<polygon fill=\"none\" stroke=\"#000000\" points=\"661.5,-677 536.5,-677 536.5,-609 661.5,-609 661.5,-677\"/>\n<text text-anchor=\"middle\" x=\"599\" y=\"-661.8\" font-family=\"Times,serif\" font-size=\"14.00\" fill=\"#000000\">X[1] &lt;= 7.565</text>\n<text text-anchor=\"middle\" x=\"599\" y=\"-646.8\" font-family=\"Times,serif\" font-size=\"14.00\" fill=\"#000000\">entropy = 0.708</text>\n<text text-anchor=\"middle\" x=\"599\" y=\"-631.8\" font-family=\"Times,serif\" font-size=\"14.00\" fill=\"#000000\">samples = 523</text>\n<text text-anchor=\"middle\" x=\"599\" y=\"-616.8\" font-family=\"Times,serif\" font-size=\"14.00\" fill=\"#000000\">value = [101, 422]</text>\n</g>\n<!-- 0&#45;&gt;1 -->\n<g id=\"edge1\" class=\"edge\">\n<title>0&#45;&gt;1</title>\n<path fill=\"none\" stroke=\"#000000\" d=\"M679.7075,-712.9465C668.9333,-703.6088 657.1436,-693.3911 645.985,-683.7203\"/>\n<polygon fill=\"#000000\" stroke=\"#000000\" points=\"648.2299,-681.0344 638.3808,-677.13 643.6454,-686.3243 648.2299,-681.0344\"/>\n<text text-anchor=\"middle\" x=\"640.1619\" y=\"-698.3665\" font-family=\"Times,serif\" font-size=\"14.00\" fill=\"#000000\">True</text>\n</g>\n<!-- 24 -->\n<g id=\"node25\" class=\"node\">\n<title>24</title>\n<polygon fill=\"none\" stroke=\"#000000\" points=\"913.5,-677 796.5,-677 796.5,-609 913.5,-609 913.5,-677\"/>\n<text text-anchor=\"middle\" x=\"855\" y=\"-661.8\" font-family=\"Times,serif\" font-size=\"14.00\" fill=\"#000000\">X[0] &lt;= 1.642</text>\n<text text-anchor=\"middle\" x=\"855\" y=\"-646.8\" font-family=\"Times,serif\" font-size=\"14.00\" fill=\"#000000\">entropy = 0.515</text>\n<text text-anchor=\"middle\" x=\"855\" y=\"-631.8\" font-family=\"Times,serif\" font-size=\"14.00\" fill=\"#000000\">samples = 574</text>\n<text text-anchor=\"middle\" x=\"855\" y=\"-616.8\" font-family=\"Times,serif\" font-size=\"14.00\" fill=\"#000000\">value = [508, 66]</text>\n</g>\n<!-- 0&#45;&gt;24 -->\n<g id=\"edge24\" class=\"edge\">\n<title>0&#45;&gt;24</title>\n<path fill=\"none\" stroke=\"#000000\" d=\"M763.5315,-712.9465C775.8597,-703.519 789.3609,-693.1946 802.115,-683.4415\"/>\n<polygon fill=\"#000000\" stroke=\"#000000\" points=\"804.551,-685.9848 810.3685,-677.13 800.2988,-680.4243 804.551,-685.9848\"/>\n<text text-anchor=\"middle\" x=\"807.0644\" y=\"-698.2107\" font-family=\"Times,serif\" font-size=\"14.00\" fill=\"#000000\">False</text>\n</g>\n<!-- 2 -->\n<g id=\"node3\" class=\"node\">\n<title>2</title>\n<polygon fill=\"none\" stroke=\"#000000\" points=\"475.5,-573 358.5,-573 358.5,-505 475.5,-505 475.5,-573\"/>\n<text text-anchor=\"middle\" x=\"417\" y=\"-557.8\" font-family=\"Times,serif\" font-size=\"14.00\" fill=\"#000000\">X[0] &lt;= &#45;1.782</text>\n<text text-anchor=\"middle\" x=\"417\" y=\"-542.8\" font-family=\"Times,serif\" font-size=\"14.00\" fill=\"#000000\">entropy = 0.384</text>\n<text text-anchor=\"middle\" x=\"417\" y=\"-527.8\" font-family=\"Times,serif\" font-size=\"14.00\" fill=\"#000000\">samples = 441</text>\n<text text-anchor=\"middle\" x=\"417\" y=\"-512.8\" font-family=\"Times,serif\" font-size=\"14.00\" fill=\"#000000\">value = [33, 408]</text>\n</g>\n<!-- 1&#45;&gt;2 -->\n<g id=\"edge2\" class=\"edge\">\n<title>1&#45;&gt;2</title>\n<path fill=\"none\" stroke=\"#000000\" d=\"M539.4064,-608.9465C521.8554,-598.9174 502.5279,-587.8731 484.5177,-577.5815\"/>\n<polygon fill=\"#000000\" stroke=\"#000000\" points=\"486.2146,-574.5201 475.7957,-572.5975 482.7416,-580.5978 486.2146,-574.5201\"/>\n</g>\n<!-- 21 -->\n<g id=\"node22\" class=\"node\">\n<title>21</title>\n<polygon fill=\"none\" stroke=\"#000000\" points=\"654,-573 544,-573 544,-505 654,-505 654,-573\"/>\n<text text-anchor=\"middle\" x=\"599\" y=\"-557.8\" font-family=\"Times,serif\" font-size=\"14.00\" fill=\"#000000\">X[0] &lt;= &#45;3.954</text>\n<text text-anchor=\"middle\" x=\"599\" y=\"-542.8\" font-family=\"Times,serif\" font-size=\"14.00\" fill=\"#000000\">entropy = 0.659</text>\n<text text-anchor=\"middle\" x=\"599\" y=\"-527.8\" font-family=\"Times,serif\" font-size=\"14.00\" fill=\"#000000\">samples = 82</text>\n<text text-anchor=\"middle\" x=\"599\" y=\"-512.8\" font-family=\"Times,serif\" font-size=\"14.00\" fill=\"#000000\">value = [68, 14]</text>\n</g>\n<!-- 1&#45;&gt;21 -->\n<g id=\"edge21\" class=\"edge\">\n<title>1&#45;&gt;21</title>\n<path fill=\"none\" stroke=\"#000000\" d=\"M599,-608.9465C599,-600.776 599,-591.9318 599,-583.3697\"/>\n<polygon fill=\"#000000\" stroke=\"#000000\" points=\"602.5001,-583.13 599,-573.13 595.5001,-583.13 602.5001,-583.13\"/>\n</g>\n<!-- 3 -->\n<g id=\"node4\" class=\"node\">\n<title>3</title>\n<polygon fill=\"none\" stroke=\"#000000\" points=\"238,-469 128,-469 128,-401 238,-401 238,-469\"/>\n<text text-anchor=\"middle\" x=\"183\" y=\"-453.8\" font-family=\"Times,serif\" font-size=\"14.00\" fill=\"#000000\">X[1] &lt;= 1.772</text>\n<text text-anchor=\"middle\" x=\"183\" y=\"-438.8\" font-family=\"Times,serif\" font-size=\"14.00\" fill=\"#000000\">entropy = 0.04</text>\n<text text-anchor=\"middle\" x=\"183\" y=\"-423.8\" font-family=\"Times,serif\" font-size=\"14.00\" fill=\"#000000\">samples = 232</text>\n<text text-anchor=\"middle\" x=\"183\" y=\"-408.8\" font-family=\"Times,serif\" font-size=\"14.00\" fill=\"#000000\">value = [1, 231]</text>\n</g>\n<!-- 2&#45;&gt;3 -->\n<g id=\"edge3\" class=\"edge\">\n<title>2&#45;&gt;3</title>\n<path fill=\"none\" stroke=\"#000000\" d=\"M358.254,-512.8906C324.5947,-497.931 282.2996,-479.1332 247.6927,-463.7523\"/>\n<polygon fill=\"#000000\" stroke=\"#000000\" points=\"248.7088,-460.3738 238.1492,-459.5107 245.8658,-466.7705 248.7088,-460.3738\"/>\n</g>\n<!-- 8 -->\n<g id=\"node9\" class=\"node\">\n<title>8</title>\n<polygon fill=\"none\" stroke=\"#000000\" points=\"475.5,-469 358.5,-469 358.5,-401 475.5,-401 475.5,-469\"/>\n<text text-anchor=\"middle\" x=\"417\" y=\"-453.8\" font-family=\"Times,serif\" font-size=\"14.00\" fill=\"#000000\">X[2] &lt;= 6.848</text>\n<text text-anchor=\"middle\" x=\"417\" y=\"-438.8\" font-family=\"Times,serif\" font-size=\"14.00\" fill=\"#000000\">entropy = 0.618</text>\n<text text-anchor=\"middle\" x=\"417\" y=\"-423.8\" font-family=\"Times,serif\" font-size=\"14.00\" fill=\"#000000\">samples = 209</text>\n<text text-anchor=\"middle\" x=\"417\" y=\"-408.8\" font-family=\"Times,serif\" font-size=\"14.00\" fill=\"#000000\">value = [32, 177]</text>\n</g>\n<!-- 2&#45;&gt;8 -->\n<g id=\"edge8\" class=\"edge\">\n<title>2&#45;&gt;8</title>\n<path fill=\"none\" stroke=\"#000000\" d=\"M417,-504.9465C417,-496.776 417,-487.9318 417,-479.3697\"/>\n<polygon fill=\"#000000\" stroke=\"#000000\" points=\"420.5001,-479.13 417,-469.13 413.5001,-479.13 420.5001,-479.13\"/>\n</g>\n<!-- 4 -->\n<g id=\"node5\" class=\"node\">\n<title>4</title>\n<polygon fill=\"none\" stroke=\"#000000\" points=\"110,-357.5 0,-357.5 0,-304.5 110,-304.5 110,-357.5\"/>\n<text text-anchor=\"middle\" x=\"55\" y=\"-342.3\" font-family=\"Times,serif\" font-size=\"14.00\" fill=\"#000000\">entropy = 0.0</text>\n<text text-anchor=\"middle\" x=\"55\" y=\"-327.3\" font-family=\"Times,serif\" font-size=\"14.00\" fill=\"#000000\">samples = 157</text>\n<text text-anchor=\"middle\" x=\"55\" y=\"-312.3\" font-family=\"Times,serif\" font-size=\"14.00\" fill=\"#000000\">value = [0, 157]</text>\n</g>\n<!-- 3&#45;&gt;4 -->\n<g id=\"edge4\" class=\"edge\">\n<title>3&#45;&gt;4</title>\n<path fill=\"none\" stroke=\"#000000\" d=\"M141.088,-400.9465C126.4467,-389.0504 110.0474,-375.726 95.5215,-363.9237\"/>\n<polygon fill=\"#000000\" stroke=\"#000000\" points=\"97.6355,-361.1317 87.6673,-357.5422 93.2214,-366.5645 97.6355,-361.1317\"/>\n</g>\n<!-- 5 -->\n<g id=\"node6\" class=\"node\">\n<title>5</title>\n<polygon fill=\"none\" stroke=\"#000000\" points=\"238,-365 128,-365 128,-297 238,-297 238,-365\"/>\n<text text-anchor=\"middle\" x=\"183\" y=\"-349.8\" font-family=\"Times,serif\" font-size=\"14.00\" fill=\"#000000\">X[2] &lt;= 3.93</text>\n<text text-anchor=\"middle\" x=\"183\" y=\"-334.8\" font-family=\"Times,serif\" font-size=\"14.00\" fill=\"#000000\">entropy = 0.102</text>\n<text text-anchor=\"middle\" x=\"183\" y=\"-319.8\" font-family=\"Times,serif\" font-size=\"14.00\" fill=\"#000000\">samples = 75</text>\n<text text-anchor=\"middle\" x=\"183\" y=\"-304.8\" font-family=\"Times,serif\" font-size=\"14.00\" fill=\"#000000\">value = [1, 74]</text>\n</g>\n<!-- 3&#45;&gt;5 -->\n<g id=\"edge5\" class=\"edge\">\n<title>3&#45;&gt;5</title>\n<path fill=\"none\" stroke=\"#000000\" d=\"M183,-400.9465C183,-392.776 183,-383.9318 183,-375.3697\"/>\n<polygon fill=\"#000000\" stroke=\"#000000\" points=\"186.5001,-375.13 183,-365.13 179.5001,-375.13 186.5001,-375.13\"/>\n</g>\n<!-- 6 -->\n<g id=\"node7\" class=\"node\">\n<title>6</title>\n<polygon fill=\"none\" stroke=\"#000000\" points=\"117,-253.5 15,-253.5 15,-200.5 117,-200.5 117,-253.5\"/>\n<text text-anchor=\"middle\" x=\"66\" y=\"-238.3\" font-family=\"Times,serif\" font-size=\"14.00\" fill=\"#000000\">entropy = 0.0</text>\n<text text-anchor=\"middle\" x=\"66\" y=\"-223.3\" font-family=\"Times,serif\" font-size=\"14.00\" fill=\"#000000\">samples = 74</text>\n<text text-anchor=\"middle\" x=\"66\" y=\"-208.3\" font-family=\"Times,serif\" font-size=\"14.00\" fill=\"#000000\">value = [0, 74]</text>\n</g>\n<!-- 5&#45;&gt;6 -->\n<g id=\"edge6\" class=\"edge\">\n<title>5&#45;&gt;6</title>\n<path fill=\"none\" stroke=\"#000000\" d=\"M144.6898,-296.9465C131.4306,-285.1606 116.5942,-271.9726 103.4084,-260.2519\"/>\n<polygon fill=\"#000000\" stroke=\"#000000\" points=\"105.6593,-257.5699 95.8599,-253.5422 101.0088,-262.8018 105.6593,-257.5699\"/>\n</g>\n<!-- 7 -->\n<g id=\"node8\" class=\"node\">\n<title>7</title>\n<polygon fill=\"none\" stroke=\"#000000\" points=\"230.5,-253.5 135.5,-253.5 135.5,-200.5 230.5,-200.5 230.5,-253.5\"/>\n<text text-anchor=\"middle\" x=\"183\" y=\"-238.3\" font-family=\"Times,serif\" font-size=\"14.00\" fill=\"#000000\">entropy = 0.0</text>\n<text text-anchor=\"middle\" x=\"183\" y=\"-223.3\" font-family=\"Times,serif\" font-size=\"14.00\" fill=\"#000000\">samples = 1</text>\n<text text-anchor=\"middle\" x=\"183\" y=\"-208.3\" font-family=\"Times,serif\" font-size=\"14.00\" fill=\"#000000\">value = [1, 0]</text>\n</g>\n<!-- 5&#45;&gt;7 -->\n<g id=\"edge7\" class=\"edge\">\n<title>5&#45;&gt;7</title>\n<path fill=\"none\" stroke=\"#000000\" d=\"M183,-296.9465C183,-286.2621 183,-274.4254 183,-263.5742\"/>\n<polygon fill=\"#000000\" stroke=\"#000000\" points=\"186.5001,-263.5421 183,-253.5422 179.5001,-263.5422 186.5001,-263.5421\"/>\n</g>\n<!-- 9 -->\n<g id=\"node10\" class=\"node\">\n<title>9</title>\n<polygon fill=\"none\" stroke=\"#000000\" points=\"474,-365 358,-365 358,-297 474,-297 474,-365\"/>\n<text text-anchor=\"middle\" x=\"416\" y=\"-349.8\" font-family=\"Times,serif\" font-size=\"14.00\" fill=\"#000000\">X[1] &lt;= 5.454</text>\n<text text-anchor=\"middle\" x=\"416\" y=\"-334.8\" font-family=\"Times,serif\" font-size=\"14.00\" fill=\"#000000\">entropy = 0.336</text>\n<text text-anchor=\"middle\" x=\"416\" y=\"-319.8\" font-family=\"Times,serif\" font-size=\"14.00\" fill=\"#000000\">samples = 177</text>\n<text text-anchor=\"middle\" x=\"416\" y=\"-304.8\" font-family=\"Times,serif\" font-size=\"14.00\" fill=\"#000000\">value = [11, 166]</text>\n</g>\n<!-- 8&#45;&gt;9 -->\n<g id=\"edge9\" class=\"edge\">\n<title>8&#45;&gt;9</title>\n<path fill=\"none\" stroke=\"#000000\" d=\"M416.6726,-400.9465C416.594,-392.776 416.509,-383.9318 416.4266,-375.3697\"/>\n<polygon fill=\"#000000\" stroke=\"#000000\" points=\"419.9243,-375.0958 416.3282,-365.13 412.9246,-375.1632 419.9243,-375.0958\"/>\n</g>\n<!-- 16 -->\n<g id=\"node17\" class=\"node\">\n<title>16</title>\n<polygon fill=\"none\" stroke=\"#000000\" points=\"602,-365 492,-365 492,-297 602,-297 602,-365\"/>\n<text text-anchor=\"middle\" x=\"547\" y=\"-349.8\" font-family=\"Times,serif\" font-size=\"14.00\" fill=\"#000000\">X[1] &lt;= &#45;5.534</text>\n<text text-anchor=\"middle\" x=\"547\" y=\"-334.8\" font-family=\"Times,serif\" font-size=\"14.00\" fill=\"#000000\">entropy = 0.928</text>\n<text text-anchor=\"middle\" x=\"547\" y=\"-319.8\" font-family=\"Times,serif\" font-size=\"14.00\" fill=\"#000000\">samples = 32</text>\n<text text-anchor=\"middle\" x=\"547\" y=\"-304.8\" font-family=\"Times,serif\" font-size=\"14.00\" fill=\"#000000\">value = [21, 11]</text>\n</g>\n<!-- 8&#45;&gt;16 -->\n<g id=\"edge16\" class=\"edge\">\n<title>8&#45;&gt;16</title>\n<path fill=\"none\" stroke=\"#000000\" d=\"M459.5669,-400.9465C471.3512,-391.519 484.2568,-381.1946 496.4481,-371.4415\"/>\n<polygon fill=\"#000000\" stroke=\"#000000\" points=\"498.7152,-374.11 504.3375,-365.13 494.3423,-368.6439 498.7152,-374.11\"/>\n</g>\n<!-- 10 -->\n<g id=\"node11\" class=\"node\">\n<title>10</title>\n<polygon fill=\"none\" stroke=\"#000000\" points=\"359,-261 249,-261 249,-193 359,-193 359,-261\"/>\n<text text-anchor=\"middle\" x=\"304\" y=\"-245.8\" font-family=\"Times,serif\" font-size=\"14.00\" fill=\"#000000\">X[2] &lt;= 3.019</text>\n<text text-anchor=\"middle\" x=\"304\" y=\"-230.8\" font-family=\"Times,serif\" font-size=\"14.00\" fill=\"#000000\">entropy = 0.129</text>\n<text text-anchor=\"middle\" x=\"304\" y=\"-215.8\" font-family=\"Times,serif\" font-size=\"14.00\" fill=\"#000000\">samples = 169</text>\n<text text-anchor=\"middle\" x=\"304\" y=\"-200.8\" font-family=\"Times,serif\" font-size=\"14.00\" fill=\"#000000\">value = [3, 166]</text>\n</g>\n<!-- 9&#45;&gt;10 -->\n<g id=\"edge10\" class=\"edge\">\n<title>9&#45;&gt;10</title>\n<path fill=\"none\" stroke=\"#000000\" d=\"M379.327,-296.9465C369.3677,-287.6986 358.4789,-277.5876 348.1532,-267.9994\"/>\n<polygon fill=\"#000000\" stroke=\"#000000\" points=\"350.4649,-265.3698 340.7554,-261.13 345.7018,-270.4993 350.4649,-265.3698\"/>\n</g>\n<!-- 15 -->\n<g id=\"node16\" class=\"node\">\n<title>15</title>\n<polygon fill=\"none\" stroke=\"#000000\" points=\"472.5,-253.5 377.5,-253.5 377.5,-200.5 472.5,-200.5 472.5,-253.5\"/>\n<text text-anchor=\"middle\" x=\"425\" y=\"-238.3\" font-family=\"Times,serif\" font-size=\"14.00\" fill=\"#000000\">entropy = 0.0</text>\n<text text-anchor=\"middle\" x=\"425\" y=\"-223.3\" font-family=\"Times,serif\" font-size=\"14.00\" fill=\"#000000\">samples = 8</text>\n<text text-anchor=\"middle\" x=\"425\" y=\"-208.3\" font-family=\"Times,serif\" font-size=\"14.00\" fill=\"#000000\">value = [8, 0]</text>\n</g>\n<!-- 9&#45;&gt;15 -->\n<g id=\"edge15\" class=\"edge\">\n<title>9&#45;&gt;15</title>\n<path fill=\"none\" stroke=\"#000000\" d=\"M418.9469,-296.9465C419.8716,-286.2621 420.8959,-274.4254 421.8349,-263.5742\"/>\n<polygon fill=\"#000000\" stroke=\"#000000\" points=\"425.3278,-263.8067 422.7031,-253.5422 418.3539,-263.2031 425.3278,-263.8067\"/>\n</g>\n<!-- 11 -->\n<g id=\"node12\" class=\"node\">\n<title>11</title>\n<polygon fill=\"none\" stroke=\"#000000\" points=\"261,-149.5 151,-149.5 151,-96.5 261,-96.5 261,-149.5\"/>\n<text text-anchor=\"middle\" x=\"206\" y=\"-134.3\" font-family=\"Times,serif\" font-size=\"14.00\" fill=\"#000000\">entropy = 0.0</text>\n<text text-anchor=\"middle\" x=\"206\" y=\"-119.3\" font-family=\"Times,serif\" font-size=\"14.00\" fill=\"#000000\">samples = 129</text>\n<text text-anchor=\"middle\" x=\"206\" y=\"-104.3\" font-family=\"Times,serif\" font-size=\"14.00\" fill=\"#000000\">value = [0, 129]</text>\n</g>\n<!-- 10&#45;&gt;11 -->\n<g id=\"edge11\" class=\"edge\">\n<title>10&#45;&gt;11</title>\n<path fill=\"none\" stroke=\"#000000\" d=\"M271.9111,-192.9465C261.0127,-181.3809 248.8422,-168.4652 237.9543,-156.9107\"/>\n<polygon fill=\"#000000\" stroke=\"#000000\" points=\"240.4162,-154.4198 231.0109,-149.5422 235.3217,-159.2204 240.4162,-154.4198\"/>\n</g>\n<!-- 12 -->\n<g id=\"node13\" class=\"node\">\n<title>12</title>\n<polygon fill=\"none\" stroke=\"#000000\" points=\"389,-157 279,-157 279,-89 389,-89 389,-157\"/>\n<text text-anchor=\"middle\" x=\"334\" y=\"-141.8\" font-family=\"Times,serif\" font-size=\"14.00\" fill=\"#000000\">X[1] &lt;= &#45;1.02</text>\n<text text-anchor=\"middle\" x=\"334\" y=\"-126.8\" font-family=\"Times,serif\" font-size=\"14.00\" fill=\"#000000\">entropy = 0.384</text>\n<text text-anchor=\"middle\" x=\"334\" y=\"-111.8\" font-family=\"Times,serif\" font-size=\"14.00\" fill=\"#000000\">samples = 40</text>\n<text text-anchor=\"middle\" x=\"334\" y=\"-96.8\" font-family=\"Times,serif\" font-size=\"14.00\" fill=\"#000000\">value = [3, 37]</text>\n</g>\n<!-- 10&#45;&gt;12 -->\n<g id=\"edge12\" class=\"edge\">\n<title>10&#45;&gt;12</title>\n<path fill=\"none\" stroke=\"#000000\" d=\"M313.8231,-192.9465C316.2318,-184.5965 318.8434,-175.5427 321.3638,-166.8056\"/>\n<polygon fill=\"#000000\" stroke=\"#000000\" points=\"324.746,-167.7083 324.1548,-157.13 318.0202,-165.7681 324.746,-167.7083\"/>\n</g>\n<!-- 13 -->\n<g id=\"node14\" class=\"node\">\n<title>13</title>\n<polygon fill=\"none\" stroke=\"#000000\" points=\"326,-53 224,-53 224,0 326,0 326,-53\"/>\n<text text-anchor=\"middle\" x=\"275\" y=\"-37.8\" font-family=\"Times,serif\" font-size=\"14.00\" fill=\"#000000\">entropy = 0.0</text>\n<text text-anchor=\"middle\" x=\"275\" y=\"-22.8\" font-family=\"Times,serif\" font-size=\"14.00\" fill=\"#000000\">samples = 37</text>\n<text text-anchor=\"middle\" x=\"275\" y=\"-7.8\" font-family=\"Times,serif\" font-size=\"14.00\" fill=\"#000000\">value = [0, 37]</text>\n</g>\n<!-- 12&#45;&gt;13 -->\n<g id=\"edge13\" class=\"edge\">\n<title>12&#45;&gt;13</title>\n<path fill=\"none\" stroke=\"#000000\" d=\"M313.1988,-88.9777C307.8242,-80.187 302.0265,-70.7044 296.6115,-61.8477\"/>\n<polygon fill=\"#000000\" stroke=\"#000000\" points=\"299.5564,-59.9545 291.354,-53.2485 293.5842,-63.6059 299.5564,-59.9545\"/>\n</g>\n<!-- 14 -->\n<g id=\"node15\" class=\"node\">\n<title>14</title>\n<polygon fill=\"none\" stroke=\"#000000\" points=\"439.5,-53 344.5,-53 344.5,0 439.5,0 439.5,-53\"/>\n<text text-anchor=\"middle\" x=\"392\" y=\"-37.8\" font-family=\"Times,serif\" font-size=\"14.00\" fill=\"#000000\">entropy = 0.0</text>\n<text text-anchor=\"middle\" x=\"392\" y=\"-22.8\" font-family=\"Times,serif\" font-size=\"14.00\" fill=\"#000000\">samples = 3</text>\n<text text-anchor=\"middle\" x=\"392\" y=\"-7.8\" font-family=\"Times,serif\" font-size=\"14.00\" fill=\"#000000\">value = [3, 0]</text>\n</g>\n<!-- 12&#45;&gt;14 -->\n<g id=\"edge14\" class=\"edge\">\n<title>12&#45;&gt;14</title>\n<path fill=\"none\" stroke=\"#000000\" d=\"M354.4486,-88.9777C359.7322,-80.187 365.4316,-70.7044 370.7548,-61.8477\"/>\n<polygon fill=\"#000000\" stroke=\"#000000\" points=\"373.7715,-63.6225 375.9232,-53.2485 367.7718,-60.0165 373.7715,-63.6225\"/>\n</g>\n<!-- 17 -->\n<g id=\"node18\" class=\"node\">\n<title>17</title>\n<polygon fill=\"none\" stroke=\"#000000\" points=\"601,-261 491,-261 491,-193 601,-193 601,-261\"/>\n<text text-anchor=\"middle\" x=\"546\" y=\"-245.8\" font-family=\"Times,serif\" font-size=\"14.00\" fill=\"#000000\">X[0] &lt;= &#45;0.803</text>\n<text text-anchor=\"middle\" x=\"546\" y=\"-230.8\" font-family=\"Times,serif\" font-size=\"14.00\" fill=\"#000000\">entropy = 0.414</text>\n<text text-anchor=\"middle\" x=\"546\" y=\"-215.8\" font-family=\"Times,serif\" font-size=\"14.00\" fill=\"#000000\">samples = 12</text>\n<text text-anchor=\"middle\" x=\"546\" y=\"-200.8\" font-family=\"Times,serif\" font-size=\"14.00\" fill=\"#000000\">value = [1, 11]</text>\n</g>\n<!-- 16&#45;&gt;17 -->\n<g id=\"edge17\" class=\"edge\">\n<title>16&#45;&gt;17</title>\n<path fill=\"none\" stroke=\"#000000\" d=\"M546.6726,-296.9465C546.594,-288.776 546.509,-279.9318 546.4266,-271.3697\"/>\n<polygon fill=\"#000000\" stroke=\"#000000\" points=\"549.9243,-271.0958 546.3282,-261.13 542.9246,-271.1632 549.9243,-271.0958\"/>\n</g>\n<!-- 20 -->\n<g id=\"node21\" class=\"node\">\n<title>20</title>\n<polygon fill=\"none\" stroke=\"#000000\" points=\"721,-253.5 619,-253.5 619,-200.5 721,-200.5 721,-253.5\"/>\n<text text-anchor=\"middle\" x=\"670\" y=\"-238.3\" font-family=\"Times,serif\" font-size=\"14.00\" fill=\"#000000\">entropy = 0.0</text>\n<text text-anchor=\"middle\" x=\"670\" y=\"-223.3\" font-family=\"Times,serif\" font-size=\"14.00\" fill=\"#000000\">samples = 20</text>\n<text text-anchor=\"middle\" x=\"670\" y=\"-208.3\" font-family=\"Times,serif\" font-size=\"14.00\" fill=\"#000000\">value = [20, 0]</text>\n</g>\n<!-- 16&#45;&gt;20 -->\n<g id=\"edge20\" class=\"edge\">\n<title>16&#45;&gt;20</title>\n<path fill=\"none\" stroke=\"#000000\" d=\"M587.2748,-296.9465C601.2139,-285.1606 616.8112,-271.9726 630.6732,-260.2519\"/>\n<polygon fill=\"#000000\" stroke=\"#000000\" points=\"633.2324,-262.6715 638.6088,-253.5422 628.7127,-257.3262 633.2324,-262.6715\"/>\n</g>\n<!-- 18 -->\n<g id=\"node19\" class=\"node\">\n<title>18</title>\n<polygon fill=\"none\" stroke=\"#000000\" points=\"567.5,-149.5 466.5,-149.5 466.5,-96.5 567.5,-96.5 567.5,-149.5\"/>\n<text text-anchor=\"middle\" x=\"517\" y=\"-134.3\" font-family=\"Times,serif\" font-size=\"14.00\" fill=\"#000000\">entropy = 0.0</text>\n<text text-anchor=\"middle\" x=\"517\" y=\"-119.3\" font-family=\"Times,serif\" font-size=\"14.00\" fill=\"#000000\">samples = 11</text>\n<text text-anchor=\"middle\" x=\"517\" y=\"-104.3\" font-family=\"Times,serif\" font-size=\"14.00\" fill=\"#000000\">value = [0, 11]</text>\n</g>\n<!-- 17&#45;&gt;18 -->\n<g id=\"edge18\" class=\"edge\">\n<title>17&#45;&gt;18</title>\n<path fill=\"none\" stroke=\"#000000\" d=\"M536.5043,-192.9465C533.4943,-182.1519 530.1563,-170.1813 527.1051,-159.2389\"/>\n<polygon fill=\"#000000\" stroke=\"#000000\" points=\"530.4586,-158.2346 524.4012,-149.5422 523.7159,-160.1148 530.4586,-158.2346\"/>\n</g>\n<!-- 19 -->\n<g id=\"node20\" class=\"node\">\n<title>19</title>\n<polygon fill=\"none\" stroke=\"#000000\" points=\"680.5,-149.5 585.5,-149.5 585.5,-96.5 680.5,-96.5 680.5,-149.5\"/>\n<text text-anchor=\"middle\" x=\"633\" y=\"-134.3\" font-family=\"Times,serif\" font-size=\"14.00\" fill=\"#000000\">entropy = 0.0</text>\n<text text-anchor=\"middle\" x=\"633\" y=\"-119.3\" font-family=\"Times,serif\" font-size=\"14.00\" fill=\"#000000\">samples = 1</text>\n<text text-anchor=\"middle\" x=\"633\" y=\"-104.3\" font-family=\"Times,serif\" font-size=\"14.00\" fill=\"#000000\">value = [1, 0]</text>\n</g>\n<!-- 17&#45;&gt;19 -->\n<g id=\"edge19\" class=\"edge\">\n<title>17&#45;&gt;19</title>\n<path fill=\"none\" stroke=\"#000000\" d=\"M574.4871,-192.9465C584.07,-181.491 594.761,-168.711 604.3559,-157.2412\"/>\n<polygon fill=\"#000000\" stroke=\"#000000\" points=\"607.0646,-159.458 610.7965,-149.5422 601.6955,-154.9666 607.0646,-159.458\"/>\n</g>\n<!-- 22 -->\n<g id=\"node23\" class=\"node\">\n<title>22</title>\n<polygon fill=\"none\" stroke=\"#000000\" points=\"596,-461.5 494,-461.5 494,-408.5 596,-408.5 596,-461.5\"/>\n<text text-anchor=\"middle\" x=\"545\" y=\"-446.3\" font-family=\"Times,serif\" font-size=\"14.00\" fill=\"#000000\">entropy = 0.0</text>\n<text text-anchor=\"middle\" x=\"545\" y=\"-431.3\" font-family=\"Times,serif\" font-size=\"14.00\" fill=\"#000000\">samples = 14</text>\n<text text-anchor=\"middle\" x=\"545\" y=\"-416.3\" font-family=\"Times,serif\" font-size=\"14.00\" fill=\"#000000\">value = [0, 14]</text>\n</g>\n<!-- 21&#45;&gt;22 -->\n<g id=\"edge22\" class=\"edge\">\n<title>21&#45;&gt;22</title>\n<path fill=\"none\" stroke=\"#000000\" d=\"M581.3184,-504.9465C575.5991,-493.9316 569.244,-481.6922 563.4692,-470.5703\"/>\n<polygon fill=\"#000000\" stroke=\"#000000\" points=\"566.496,-468.8043 558.7815,-461.5422 560.2835,-472.03 566.496,-468.8043\"/>\n</g>\n<!-- 23 -->\n<g id=\"node24\" class=\"node\">\n<title>23</title>\n<polygon fill=\"none\" stroke=\"#000000\" points=\"716,-461.5 614,-461.5 614,-408.5 716,-408.5 716,-461.5\"/>\n<text text-anchor=\"middle\" x=\"665\" y=\"-446.3\" font-family=\"Times,serif\" font-size=\"14.00\" fill=\"#000000\">entropy = 0.0</text>\n<text text-anchor=\"middle\" x=\"665\" y=\"-431.3\" font-family=\"Times,serif\" font-size=\"14.00\" fill=\"#000000\">samples = 68</text>\n<text text-anchor=\"middle\" x=\"665\" y=\"-416.3\" font-family=\"Times,serif\" font-size=\"14.00\" fill=\"#000000\">value = [68, 0]</text>\n</g>\n<!-- 21&#45;&gt;23 -->\n<g id=\"edge23\" class=\"edge\">\n<title>21&#45;&gt;23</title>\n<path fill=\"none\" stroke=\"#000000\" d=\"M620.6109,-504.9465C627.671,-493.8215 635.5239,-481.4473 642.6381,-470.237\"/>\n<polygon fill=\"#000000\" stroke=\"#000000\" points=\"645.7528,-471.8609 648.1559,-461.5422 639.8425,-468.1101 645.7528,-471.8609\"/>\n</g>\n<!-- 25 -->\n<g id=\"node26\" class=\"node\">\n<title>25</title>\n<polygon fill=\"none\" stroke=\"#000000\" points=\"913,-573 797,-573 797,-505 913,-505 913,-573\"/>\n<text text-anchor=\"middle\" x=\"855\" y=\"-557.8\" font-family=\"Times,serif\" font-size=\"14.00\" fill=\"#000000\">X[2] &lt;= &#45;2.286</text>\n<text text-anchor=\"middle\" x=\"855\" y=\"-542.8\" font-family=\"Times,serif\" font-size=\"14.00\" fill=\"#000000\">entropy = 0.924</text>\n<text text-anchor=\"middle\" x=\"855\" y=\"-527.8\" font-family=\"Times,serif\" font-size=\"14.00\" fill=\"#000000\">samples = 180</text>\n<text text-anchor=\"middle\" x=\"855\" y=\"-512.8\" font-family=\"Times,serif\" font-size=\"14.00\" fill=\"#000000\">value = [119, 61]</text>\n</g>\n<!-- 24&#45;&gt;25 -->\n<g id=\"edge25\" class=\"edge\">\n<title>24&#45;&gt;25</title>\n<path fill=\"none\" stroke=\"#000000\" d=\"M855,-608.9465C855,-600.776 855,-591.9318 855,-583.3697\"/>\n<polygon fill=\"#000000\" stroke=\"#000000\" points=\"858.5001,-583.13 855,-573.13 851.5001,-583.13 858.5001,-583.13\"/>\n</g>\n<!-- 40 -->\n<g id=\"node41\" class=\"node\">\n<title>40</title>\n<polygon fill=\"none\" stroke=\"#000000\" points=\"1271,-573 1161,-573 1161,-505 1271,-505 1271,-573\"/>\n<text text-anchor=\"middle\" x=\"1216\" y=\"-557.8\" font-family=\"Times,serif\" font-size=\"14.00\" fill=\"#000000\">X[2] &lt;= &#45;4.802</text>\n<text text-anchor=\"middle\" x=\"1216\" y=\"-542.8\" font-family=\"Times,serif\" font-size=\"14.00\" fill=\"#000000\">entropy = 0.098</text>\n<text text-anchor=\"middle\" x=\"1216\" y=\"-527.8\" font-family=\"Times,serif\" font-size=\"14.00\" fill=\"#000000\">samples = 394</text>\n<text text-anchor=\"middle\" x=\"1216\" y=\"-512.8\" font-family=\"Times,serif\" font-size=\"14.00\" fill=\"#000000\">value = [389, 5]</text>\n</g>\n<!-- 24&#45;&gt;40 -->\n<g id=\"edge40\" class=\"edge\">\n<title>24&#45;&gt;40</title>\n<path fill=\"none\" stroke=\"#000000\" d=\"M913.8043,-626.0591C978.9304,-607.2971 1083.6203,-577.1371 1151.0991,-557.6972\"/>\n<polygon fill=\"#000000\" stroke=\"#000000\" points=\"1152.1356,-561.041 1160.7758,-554.9095 1150.1977,-554.3146 1152.1356,-561.041\"/>\n</g>\n<!-- 26 -->\n<g id=\"node27\" class=\"node\">\n<title>26</title>\n<polygon fill=\"none\" stroke=\"#000000\" points=\"845,-469 735,-469 735,-401 845,-401 845,-469\"/>\n<text text-anchor=\"middle\" x=\"790\" y=\"-453.8\" font-family=\"Times,serif\" font-size=\"14.00\" fill=\"#000000\">X[1] &lt;= 6.42</text>\n<text text-anchor=\"middle\" x=\"790\" y=\"-438.8\" font-family=\"Times,serif\" font-size=\"14.00\" fill=\"#000000\">entropy = 0.348</text>\n<text text-anchor=\"middle\" x=\"790\" y=\"-423.8\" font-family=\"Times,serif\" font-size=\"14.00\" fill=\"#000000\">samples = 46</text>\n<text text-anchor=\"middle\" x=\"790\" y=\"-408.8\" font-family=\"Times,serif\" font-size=\"14.00\" fill=\"#000000\">value = [3, 43]</text>\n</g>\n<!-- 25&#45;&gt;26 -->\n<g id=\"edge26\" class=\"edge\">\n<title>25&#45;&gt;26</title>\n<path fill=\"none\" stroke=\"#000000\" d=\"M833.7166,-504.9465C828.2733,-496.2373 822.3516,-486.7626 816.675,-477.6801\"/>\n<polygon fill=\"#000000\" stroke=\"#000000\" points=\"819.5993,-475.755 811.3312,-469.13 813.6633,-479.465 819.5993,-475.755\"/>\n</g>\n<!-- 29 -->\n<g id=\"node30\" class=\"node\">\n<title>29</title>\n<polygon fill=\"none\" stroke=\"#000000\" points=\"979,-469 863,-469 863,-401 979,-401 979,-469\"/>\n<text text-anchor=\"middle\" x=\"921\" y=\"-453.8\" font-family=\"Times,serif\" font-size=\"14.00\" fill=\"#000000\">X[3] &lt;= 0.092</text>\n<text text-anchor=\"middle\" x=\"921\" y=\"-438.8\" font-family=\"Times,serif\" font-size=\"14.00\" fill=\"#000000\">entropy = 0.569</text>\n<text text-anchor=\"middle\" x=\"921\" y=\"-423.8\" font-family=\"Times,serif\" font-size=\"14.00\" fill=\"#000000\">samples = 134</text>\n<text text-anchor=\"middle\" x=\"921\" y=\"-408.8\" font-family=\"Times,serif\" font-size=\"14.00\" fill=\"#000000\">value = [116, 18]</text>\n</g>\n<!-- 25&#45;&gt;29 -->\n<g id=\"edge29\" class=\"edge\">\n<title>25&#45;&gt;29</title>\n<path fill=\"none\" stroke=\"#000000\" d=\"M876.6109,-504.9465C882.1378,-496.2373 888.1506,-486.7626 893.9146,-477.6801\"/>\n<polygon fill=\"#000000\" stroke=\"#000000\" points=\"896.9374,-479.4487 899.3406,-469.13 891.0271,-475.6979 896.9374,-479.4487\"/>\n</g>\n<!-- 27 -->\n<g id=\"node28\" class=\"node\">\n<title>27</title>\n<polygon fill=\"none\" stroke=\"#000000\" points=\"725,-357.5 623,-357.5 623,-304.5 725,-304.5 725,-357.5\"/>\n<text text-anchor=\"middle\" x=\"674\" y=\"-342.3\" font-family=\"Times,serif\" font-size=\"14.00\" fill=\"#000000\">entropy = 0.0</text>\n<text text-anchor=\"middle\" x=\"674\" y=\"-327.3\" font-family=\"Times,serif\" font-size=\"14.00\" fill=\"#000000\">samples = 43</text>\n<text text-anchor=\"middle\" x=\"674\" y=\"-312.3\" font-family=\"Times,serif\" font-size=\"14.00\" fill=\"#000000\">value = [0, 43]</text>\n</g>\n<!-- 26&#45;&gt;27 -->\n<g id=\"edge27\" class=\"edge\">\n<title>26&#45;&gt;27</title>\n<path fill=\"none\" stroke=\"#000000\" d=\"M752.0173,-400.9465C738.8714,-389.1606 724.1618,-375.9726 711.0887,-364.2519\"/>\n<polygon fill=\"#000000\" stroke=\"#000000\" points=\"713.3869,-361.6116 703.6047,-357.5422 708.714,-366.8236 713.3869,-361.6116\"/>\n</g>\n<!-- 28 -->\n<g id=\"node29\" class=\"node\">\n<title>28</title>\n<polygon fill=\"none\" stroke=\"#000000\" points=\"838.5,-357.5 743.5,-357.5 743.5,-304.5 838.5,-304.5 838.5,-357.5\"/>\n<text text-anchor=\"middle\" x=\"791\" y=\"-342.3\" font-family=\"Times,serif\" font-size=\"14.00\" fill=\"#000000\">entropy = 0.0</text>\n<text text-anchor=\"middle\" x=\"791\" y=\"-327.3\" font-family=\"Times,serif\" font-size=\"14.00\" fill=\"#000000\">samples = 3</text>\n<text text-anchor=\"middle\" x=\"791\" y=\"-312.3\" font-family=\"Times,serif\" font-size=\"14.00\" fill=\"#000000\">value = [3, 0]</text>\n</g>\n<!-- 26&#45;&gt;28 -->\n<g id=\"edge28\" class=\"edge\">\n<title>26&#45;&gt;28</title>\n<path fill=\"none\" stroke=\"#000000\" d=\"M790.3274,-400.9465C790.4302,-390.2621 790.544,-378.4254 790.6483,-367.5742\"/>\n<polygon fill=\"#000000\" stroke=\"#000000\" points=\"794.1484,-367.5754 790.7448,-357.5422 787.1487,-367.508 794.1484,-367.5754\"/>\n</g>\n<!-- 30 -->\n<g id=\"node31\" class=\"node\">\n<title>30</title>\n<polygon fill=\"none\" stroke=\"#000000\" points=\"969,-365 859,-365 859,-297 969,-297 969,-365\"/>\n<text text-anchor=\"middle\" x=\"914\" y=\"-349.8\" font-family=\"Times,serif\" font-size=\"14.00\" fill=\"#000000\">X[0] &lt;= 0.451</text>\n<text text-anchor=\"middle\" x=\"914\" y=\"-334.8\" font-family=\"Times,serif\" font-size=\"14.00\" fill=\"#000000\">entropy = 0.08</text>\n<text text-anchor=\"middle\" x=\"914\" y=\"-319.8\" font-family=\"Times,serif\" font-size=\"14.00\" fill=\"#000000\">samples = 101</text>\n<text text-anchor=\"middle\" x=\"914\" y=\"-304.8\" font-family=\"Times,serif\" font-size=\"14.00\" fill=\"#000000\">value = [100, 1]</text>\n</g>\n<!-- 29&#45;&gt;30 -->\n<g id=\"edge30\" class=\"edge\">\n<title>29&#45;&gt;30</title>\n<path fill=\"none\" stroke=\"#000000\" d=\"M918.7079,-400.9465C918.158,-392.776 917.5627,-383.9318 916.9864,-375.3697\"/>\n<polygon fill=\"#000000\" stroke=\"#000000\" points=\"920.461,-374.8723 916.2972,-365.13 913.4768,-375.3425 920.461,-374.8723\"/>\n</g>\n<!-- 35 -->\n<g id=\"node36\" class=\"node\">\n<title>35</title>\n<polygon fill=\"none\" stroke=\"#000000\" points=\"1097,-365 987,-365 987,-297 1097,-297 1097,-365\"/>\n<text text-anchor=\"middle\" x=\"1042\" y=\"-349.8\" font-family=\"Times,serif\" font-size=\"14.00\" fill=\"#000000\">X[2] &lt;= 1.952</text>\n<text text-anchor=\"middle\" x=\"1042\" y=\"-334.8\" font-family=\"Times,serif\" font-size=\"14.00\" fill=\"#000000\">entropy = 0.999</text>\n<text text-anchor=\"middle\" x=\"1042\" y=\"-319.8\" font-family=\"Times,serif\" font-size=\"14.00\" fill=\"#000000\">samples = 33</text>\n<text text-anchor=\"middle\" x=\"1042\" y=\"-304.8\" font-family=\"Times,serif\" font-size=\"14.00\" fill=\"#000000\">value = [16, 17]</text>\n</g>\n<!-- 29&#45;&gt;35 -->\n<g id=\"edge35\" class=\"edge\">\n<title>29&#45;&gt;35</title>\n<path fill=\"none\" stroke=\"#000000\" d=\"M960.6199,-400.9465C971.484,-391.6088 983.3718,-381.3911 994.6235,-371.7203\"/>\n<polygon fill=\"#000000\" stroke=\"#000000\" points=\"996.9887,-374.3026 1002.2911,-365.13 992.4259,-368.994 996.9887,-374.3026\"/>\n</g>\n<!-- 31 -->\n<g id=\"node32\" class=\"node\">\n<title>31</title>\n<polygon fill=\"none\" stroke=\"#000000\" points=\"849,-261 739,-261 739,-193 849,-193 849,-261\"/>\n<text text-anchor=\"middle\" x=\"794\" y=\"-245.8\" font-family=\"Times,serif\" font-size=\"14.00\" fill=\"#000000\">X[0] &lt;= 0.401</text>\n<text text-anchor=\"middle\" x=\"794\" y=\"-230.8\" font-family=\"Times,serif\" font-size=\"14.00\" fill=\"#000000\">entropy = 0.353</text>\n<text text-anchor=\"middle\" x=\"794\" y=\"-215.8\" font-family=\"Times,serif\" font-size=\"14.00\" fill=\"#000000\">samples = 15</text>\n<text text-anchor=\"middle\" x=\"794\" y=\"-200.8\" font-family=\"Times,serif\" font-size=\"14.00\" fill=\"#000000\">value = [14, 1]</text>\n</g>\n<!-- 30&#45;&gt;31 -->\n<g id=\"edge31\" class=\"edge\">\n<title>30&#45;&gt;31</title>\n<path fill=\"none\" stroke=\"#000000\" d=\"M874.7075,-296.9465C863.9333,-287.6088 852.1436,-277.3911 840.985,-267.7203\"/>\n<polygon fill=\"#000000\" stroke=\"#000000\" points=\"843.2299,-265.0344 833.3808,-261.13 838.6454,-270.3243 843.2299,-265.0344\"/>\n</g>\n<!-- 34 -->\n<g id=\"node35\" class=\"node\">\n<title>34</title>\n<polygon fill=\"none\" stroke=\"#000000\" points=\"969,-253.5 867,-253.5 867,-200.5 969,-200.5 969,-253.5\"/>\n<text text-anchor=\"middle\" x=\"918\" y=\"-238.3\" font-family=\"Times,serif\" font-size=\"14.00\" fill=\"#000000\">entropy = 0.0</text>\n<text text-anchor=\"middle\" x=\"918\" y=\"-223.3\" font-family=\"Times,serif\" font-size=\"14.00\" fill=\"#000000\">samples = 86</text>\n<text text-anchor=\"middle\" x=\"918\" y=\"-208.3\" font-family=\"Times,serif\" font-size=\"14.00\" fill=\"#000000\">value = [86, 0]</text>\n</g>\n<!-- 30&#45;&gt;34 -->\n<g id=\"edge34\" class=\"edge\">\n<title>30&#45;&gt;34</title>\n<path fill=\"none\" stroke=\"#000000\" d=\"M915.3097,-296.9465C915.7207,-286.2621 916.1759,-274.4254 916.5933,-263.5742\"/>\n<polygon fill=\"#000000\" stroke=\"#000000\" points=\"920.0921,-263.6693 916.9791,-253.5422 913.0973,-263.4002 920.0921,-263.6693\"/>\n</g>\n<!-- 32 -->\n<g id=\"node33\" class=\"node\">\n<title>32</title>\n<polygon fill=\"none\" stroke=\"#000000\" points=\"808,-149.5 706,-149.5 706,-96.5 808,-96.5 808,-149.5\"/>\n<text text-anchor=\"middle\" x=\"757\" y=\"-134.3\" font-family=\"Times,serif\" font-size=\"14.00\" fill=\"#000000\">entropy = 0.0</text>\n<text text-anchor=\"middle\" x=\"757\" y=\"-119.3\" font-family=\"Times,serif\" font-size=\"14.00\" fill=\"#000000\">samples = 14</text>\n<text text-anchor=\"middle\" x=\"757\" y=\"-104.3\" font-family=\"Times,serif\" font-size=\"14.00\" fill=\"#000000\">value = [14, 0]</text>\n</g>\n<!-- 31&#45;&gt;32 -->\n<g id=\"edge32\" class=\"edge\">\n<title>31&#45;&gt;32</title>\n<path fill=\"none\" stroke=\"#000000\" d=\"M781.8848,-192.9465C778.0444,-182.1519 773.7856,-170.1813 769.8927,-159.2389\"/>\n<polygon fill=\"#000000\" stroke=\"#000000\" points=\"773.0924,-157.7905 766.4429,-149.5422 766.4973,-160.1369 773.0924,-157.7905\"/>\n</g>\n<!-- 33 -->\n<g id=\"node34\" class=\"node\">\n<title>33</title>\n<polygon fill=\"none\" stroke=\"#000000\" points=\"921.5,-149.5 826.5,-149.5 826.5,-96.5 921.5,-96.5 921.5,-149.5\"/>\n<text text-anchor=\"middle\" x=\"874\" y=\"-134.3\" font-family=\"Times,serif\" font-size=\"14.00\" fill=\"#000000\">entropy = 0.0</text>\n<text text-anchor=\"middle\" x=\"874\" y=\"-119.3\" font-family=\"Times,serif\" font-size=\"14.00\" fill=\"#000000\">samples = 1</text>\n<text text-anchor=\"middle\" x=\"874\" y=\"-104.3\" font-family=\"Times,serif\" font-size=\"14.00\" fill=\"#000000\">value = [0, 1]</text>\n</g>\n<!-- 31&#45;&gt;33 -->\n<g id=\"edge33\" class=\"edge\">\n<title>31&#45;&gt;33</title>\n<path fill=\"none\" stroke=\"#000000\" d=\"M820.195,-192.9465C828.9222,-181.6012 838.6487,-168.9567 847.4059,-157.5724\"/>\n<polygon fill=\"#000000\" stroke=\"#000000\" points=\"850.26,-159.6024 853.583,-149.5422 844.7116,-155.3344 850.26,-159.6024\"/>\n</g>\n<!-- 36 -->\n<g id=\"node37\" class=\"node\">\n<title>36</title>\n<polygon fill=\"none\" stroke=\"#000000\" points=\"1097,-261 987,-261 987,-193 1097,-193 1097,-261\"/>\n<text text-anchor=\"middle\" x=\"1042\" y=\"-245.8\" font-family=\"Times,serif\" font-size=\"14.00\" fill=\"#000000\">X[1] &lt;= 3.559</text>\n<text text-anchor=\"middle\" x=\"1042\" y=\"-230.8\" font-family=\"Times,serif\" font-size=\"14.00\" fill=\"#000000\">entropy = 0.485</text>\n<text text-anchor=\"middle\" x=\"1042\" y=\"-215.8\" font-family=\"Times,serif\" font-size=\"14.00\" fill=\"#000000\">samples = 19</text>\n<text text-anchor=\"middle\" x=\"1042\" y=\"-200.8\" font-family=\"Times,serif\" font-size=\"14.00\" fill=\"#000000\">value = [2, 17]</text>\n</g>\n<!-- 35&#45;&gt;36 -->\n<g id=\"edge36\" class=\"edge\">\n<title>35&#45;&gt;36</title>\n<path fill=\"none\" stroke=\"#000000\" d=\"M1042,-296.9465C1042,-288.776 1042,-279.9318 1042,-271.3697\"/>\n<polygon fill=\"#000000\" stroke=\"#000000\" points=\"1045.5001,-271.13 1042,-261.13 1038.5001,-271.13 1045.5001,-271.13\"/>\n</g>\n<!-- 39 -->\n<g id=\"node40\" class=\"node\">\n<title>39</title>\n<polygon fill=\"none\" stroke=\"#000000\" points=\"1217,-253.5 1115,-253.5 1115,-200.5 1217,-200.5 1217,-253.5\"/>\n<text text-anchor=\"middle\" x=\"1166\" y=\"-238.3\" font-family=\"Times,serif\" font-size=\"14.00\" fill=\"#000000\">entropy = 0.0</text>\n<text text-anchor=\"middle\" x=\"1166\" y=\"-223.3\" font-family=\"Times,serif\" font-size=\"14.00\" fill=\"#000000\">samples = 14</text>\n<text text-anchor=\"middle\" x=\"1166\" y=\"-208.3\" font-family=\"Times,serif\" font-size=\"14.00\" fill=\"#000000\">value = [14, 0]</text>\n</g>\n<!-- 35&#45;&gt;39 -->\n<g id=\"edge39\" class=\"edge\">\n<title>35&#45;&gt;39</title>\n<path fill=\"none\" stroke=\"#000000\" d=\"M1082.6022,-296.9465C1096.6547,-285.1606 1112.3788,-271.9726 1126.3535,-260.2519\"/>\n<polygon fill=\"#000000\" stroke=\"#000000\" points=\"1128.9408,-262.65 1134.3536,-253.5422 1124.4425,-257.2866 1128.9408,-262.65\"/>\n</g>\n<!-- 37 -->\n<g id=\"node38\" class=\"node\">\n<title>37</title>\n<polygon fill=\"none\" stroke=\"#000000\" points=\"1053,-149.5 951,-149.5 951,-96.5 1053,-96.5 1053,-149.5\"/>\n<text text-anchor=\"middle\" x=\"1002\" y=\"-134.3\" font-family=\"Times,serif\" font-size=\"14.00\" fill=\"#000000\">entropy = 0.0</text>\n<text text-anchor=\"middle\" x=\"1002\" y=\"-119.3\" font-family=\"Times,serif\" font-size=\"14.00\" fill=\"#000000\">samples = 17</text>\n<text text-anchor=\"middle\" x=\"1002\" y=\"-104.3\" font-family=\"Times,serif\" font-size=\"14.00\" fill=\"#000000\">value = [0, 17]</text>\n</g>\n<!-- 36&#45;&gt;37 -->\n<g id=\"edge37\" class=\"edge\">\n<title>36&#45;&gt;37</title>\n<path fill=\"none\" stroke=\"#000000\" d=\"M1028.9025,-192.9465C1024.7084,-182.0418 1020.0526,-169.9368 1015.8093,-158.9043\"/>\n<polygon fill=\"#000000\" stroke=\"#000000\" points=\"1019.0651,-157.6192 1012.2085,-149.5422 1012.5317,-160.1321 1019.0651,-157.6192\"/>\n</g>\n<!-- 38 -->\n<g id=\"node39\" class=\"node\">\n<title>38</title>\n<polygon fill=\"none\" stroke=\"#000000\" points=\"1166.5,-149.5 1071.5,-149.5 1071.5,-96.5 1166.5,-96.5 1166.5,-149.5\"/>\n<text text-anchor=\"middle\" x=\"1119\" y=\"-134.3\" font-family=\"Times,serif\" font-size=\"14.00\" fill=\"#000000\">entropy = 0.0</text>\n<text text-anchor=\"middle\" x=\"1119\" y=\"-119.3\" font-family=\"Times,serif\" font-size=\"14.00\" fill=\"#000000\">samples = 2</text>\n<text text-anchor=\"middle\" x=\"1119\" y=\"-104.3\" font-family=\"Times,serif\" font-size=\"14.00\" fill=\"#000000\">value = [2, 0]</text>\n</g>\n<!-- 36&#45;&gt;38 -->\n<g id=\"edge38\" class=\"edge\">\n<title>36&#45;&gt;38</title>\n<path fill=\"none\" stroke=\"#000000\" d=\"M1067.2127,-192.9465C1075.5311,-181.7113 1084.7927,-169.2021 1093.1574,-157.9043\"/>\n<polygon fill=\"#000000\" stroke=\"#000000\" points=\"1096.2111,-159.6618 1099.3486,-149.5422 1090.5852,-155.4965 1096.2111,-159.6618\"/>\n</g>\n<!-- 41 -->\n<g id=\"node42\" class=\"node\">\n<title>41</title>\n<polygon fill=\"none\" stroke=\"#000000\" points=\"1271,-469 1161,-469 1161,-401 1271,-401 1271,-469\"/>\n<text text-anchor=\"middle\" x=\"1216\" y=\"-453.8\" font-family=\"Times,serif\" font-size=\"14.00\" fill=\"#000000\">X[0] &lt;= 3.304</text>\n<text text-anchor=\"middle\" x=\"1216\" y=\"-438.8\" font-family=\"Times,serif\" font-size=\"14.00\" fill=\"#000000\">entropy = 0.918</text>\n<text text-anchor=\"middle\" x=\"1216\" y=\"-423.8\" font-family=\"Times,serif\" font-size=\"14.00\" fill=\"#000000\">samples = 6</text>\n<text text-anchor=\"middle\" x=\"1216\" y=\"-408.8\" font-family=\"Times,serif\" font-size=\"14.00\" fill=\"#000000\">value = [2, 4]</text>\n</g>\n<!-- 40&#45;&gt;41 -->\n<g id=\"edge41\" class=\"edge\">\n<title>40&#45;&gt;41</title>\n<path fill=\"none\" stroke=\"#000000\" d=\"M1216,-504.9465C1216,-496.776 1216,-487.9318 1216,-479.3697\"/>\n<polygon fill=\"#000000\" stroke=\"#000000\" points=\"1219.5001,-479.13 1216,-469.13 1212.5001,-479.13 1219.5001,-479.13\"/>\n</g>\n<!-- 44 -->\n<g id=\"node45\" class=\"node\">\n<title>44</title>\n<polygon fill=\"none\" stroke=\"#000000\" points=\"1452,-469 1342,-469 1342,-401 1452,-401 1452,-469\"/>\n<text text-anchor=\"middle\" x=\"1397\" y=\"-453.8\" font-family=\"Times,serif\" font-size=\"14.00\" fill=\"#000000\">X[0] &lt;= 2.018</text>\n<text text-anchor=\"middle\" x=\"1397\" y=\"-438.8\" font-family=\"Times,serif\" font-size=\"14.00\" fill=\"#000000\">entropy = 0.026</text>\n<text text-anchor=\"middle\" x=\"1397\" y=\"-423.8\" font-family=\"Times,serif\" font-size=\"14.00\" fill=\"#000000\">samples = 388</text>\n<text text-anchor=\"middle\" x=\"1397\" y=\"-408.8\" font-family=\"Times,serif\" font-size=\"14.00\" fill=\"#000000\">value = [387, 1]</text>\n</g>\n<!-- 40&#45;&gt;44 -->\n<g id=\"edge44\" class=\"edge\">\n<title>40&#45;&gt;44</title>\n<path fill=\"none\" stroke=\"#000000\" d=\"M1271.2895,-507.2315C1290.7601,-496.0439 1312.8068,-483.3762 1332.9398,-471.8081\"/>\n<polygon fill=\"#000000\" stroke=\"#000000\" points=\"1334.8106,-474.7698 1341.7375,-466.753 1331.3231,-468.7004 1334.8106,-474.7698\"/>\n</g>\n<!-- 42 -->\n<g id=\"node43\" class=\"node\">\n<title>42</title>\n<polygon fill=\"none\" stroke=\"#000000\" points=\"1210.5,-357.5 1115.5,-357.5 1115.5,-304.5 1210.5,-304.5 1210.5,-357.5\"/>\n<text text-anchor=\"middle\" x=\"1163\" y=\"-342.3\" font-family=\"Times,serif\" font-size=\"14.00\" fill=\"#000000\">entropy = 0.0</text>\n<text text-anchor=\"middle\" x=\"1163\" y=\"-327.3\" font-family=\"Times,serif\" font-size=\"14.00\" fill=\"#000000\">samples = 4</text>\n<text text-anchor=\"middle\" x=\"1163\" y=\"-312.3\" font-family=\"Times,serif\" font-size=\"14.00\" fill=\"#000000\">value = [0, 4]</text>\n</g>\n<!-- 41&#45;&gt;42 -->\n<g id=\"edge42\" class=\"edge\">\n<title>41&#45;&gt;42</title>\n<path fill=\"none\" stroke=\"#000000\" d=\"M1198.6458,-400.9465C1193.0325,-389.9316 1186.795,-377.6922 1181.1272,-366.5703\"/>\n<polygon fill=\"#000000\" stroke=\"#000000\" points=\"1184.1853,-364.8627 1176.5263,-357.5422 1177.9485,-368.0411 1184.1853,-364.8627\"/>\n</g>\n<!-- 43 -->\n<g id=\"node44\" class=\"node\">\n<title>43</title>\n<polygon fill=\"none\" stroke=\"#000000\" points=\"1323.5,-357.5 1228.5,-357.5 1228.5,-304.5 1323.5,-304.5 1323.5,-357.5\"/>\n<text text-anchor=\"middle\" x=\"1276\" y=\"-342.3\" font-family=\"Times,serif\" font-size=\"14.00\" fill=\"#000000\">entropy = 0.0</text>\n<text text-anchor=\"middle\" x=\"1276\" y=\"-327.3\" font-family=\"Times,serif\" font-size=\"14.00\" fill=\"#000000\">samples = 2</text>\n<text text-anchor=\"middle\" x=\"1276\" y=\"-312.3\" font-family=\"Times,serif\" font-size=\"14.00\" fill=\"#000000\">value = [2, 0]</text>\n</g>\n<!-- 41&#45;&gt;43 -->\n<g id=\"edge43\" class=\"edge\">\n<title>41&#45;&gt;43</title>\n<path fill=\"none\" stroke=\"#000000\" d=\"M1235.6462,-400.9465C1242.0645,-389.8215 1249.2035,-377.4473 1255.671,-366.237\"/>\n<polygon fill=\"#000000\" stroke=\"#000000\" points=\"1258.7216,-367.9531 1260.6872,-357.5422 1252.6583,-364.455 1258.7216,-367.9531\"/>\n</g>\n<!-- 45 -->\n<g id=\"node46\" class=\"node\">\n<title>45</title>\n<polygon fill=\"none\" stroke=\"#000000\" points=\"1452,-365 1342,-365 1342,-297 1452,-297 1452,-365\"/>\n<text text-anchor=\"middle\" x=\"1397\" y=\"-349.8\" font-family=\"Times,serif\" font-size=\"14.00\" fill=\"#000000\">X[2] &lt;= &#45;2.648</text>\n<text text-anchor=\"middle\" x=\"1397\" y=\"-334.8\" font-family=\"Times,serif\" font-size=\"14.00\" fill=\"#000000\">entropy = 0.165</text>\n<text text-anchor=\"middle\" x=\"1397\" y=\"-319.8\" font-family=\"Times,serif\" font-size=\"14.00\" fill=\"#000000\">samples = 41</text>\n<text text-anchor=\"middle\" x=\"1397\" y=\"-304.8\" font-family=\"Times,serif\" font-size=\"14.00\" fill=\"#000000\">value = [40, 1]</text>\n</g>\n<!-- 44&#45;&gt;45 -->\n<g id=\"edge45\" class=\"edge\">\n<title>44&#45;&gt;45</title>\n<path fill=\"none\" stroke=\"#000000\" d=\"M1397,-400.9465C1397,-392.776 1397,-383.9318 1397,-375.3697\"/>\n<polygon fill=\"#000000\" stroke=\"#000000\" points=\"1400.5001,-375.13 1397,-365.13 1393.5001,-375.13 1400.5001,-375.13\"/>\n</g>\n<!-- 48 -->\n<g id=\"node49\" class=\"node\">\n<title>48</title>\n<polygon fill=\"none\" stroke=\"#000000\" points=\"1580,-357.5 1470,-357.5 1470,-304.5 1580,-304.5 1580,-357.5\"/>\n<text text-anchor=\"middle\" x=\"1525\" y=\"-342.3\" font-family=\"Times,serif\" font-size=\"14.00\" fill=\"#000000\">entropy = 0.0</text>\n<text text-anchor=\"middle\" x=\"1525\" y=\"-327.3\" font-family=\"Times,serif\" font-size=\"14.00\" fill=\"#000000\">samples = 347</text>\n<text text-anchor=\"middle\" x=\"1525\" y=\"-312.3\" font-family=\"Times,serif\" font-size=\"14.00\" fill=\"#000000\">value = [347, 0]</text>\n</g>\n<!-- 44&#45;&gt;48 -->\n<g id=\"edge48\" class=\"edge\">\n<title>44&#45;&gt;48</title>\n<path fill=\"none\" stroke=\"#000000\" d=\"M1438.912,-400.9465C1453.5533,-389.0504 1469.9526,-375.726 1484.4785,-363.9237\"/>\n<polygon fill=\"#000000\" stroke=\"#000000\" points=\"1486.7786,-366.5645 1492.3327,-357.5422 1482.3645,-361.1317 1486.7786,-366.5645\"/>\n</g>\n<!-- 46 -->\n<g id=\"node47\" class=\"node\">\n<title>46</title>\n<polygon fill=\"none\" stroke=\"#000000\" points=\"1387.5,-253.5 1292.5,-253.5 1292.5,-200.5 1387.5,-200.5 1387.5,-253.5\"/>\n<text text-anchor=\"middle\" x=\"1340\" y=\"-238.3\" font-family=\"Times,serif\" font-size=\"14.00\" fill=\"#000000\">entropy = 0.0</text>\n<text text-anchor=\"middle\" x=\"1340\" y=\"-223.3\" font-family=\"Times,serif\" font-size=\"14.00\" fill=\"#000000\">samples = 1</text>\n<text text-anchor=\"middle\" x=\"1340\" y=\"-208.3\" font-family=\"Times,serif\" font-size=\"14.00\" fill=\"#000000\">value = [0, 1]</text>\n</g>\n<!-- 45&#45;&gt;46 -->\n<g id=\"edge46\" class=\"edge\">\n<title>45&#45;&gt;46</title>\n<path fill=\"none\" stroke=\"#000000\" d=\"M1378.3361,-296.9465C1372.2991,-285.9316 1365.5909,-273.6922 1359.4953,-262.5703\"/>\n<polygon fill=\"#000000\" stroke=\"#000000\" points=\"1362.4227,-260.6292 1354.5471,-253.5422 1356.2842,-263.9936 1362.4227,-260.6292\"/>\n</g>\n<!-- 47 -->\n<g id=\"node48\" class=\"node\">\n<title>47</title>\n<polygon fill=\"none\" stroke=\"#000000\" points=\"1508,-253.5 1406,-253.5 1406,-200.5 1508,-200.5 1508,-253.5\"/>\n<text text-anchor=\"middle\" x=\"1457\" y=\"-238.3\" font-family=\"Times,serif\" font-size=\"14.00\" fill=\"#000000\">entropy = 0.0</text>\n<text text-anchor=\"middle\" x=\"1457\" y=\"-223.3\" font-family=\"Times,serif\" font-size=\"14.00\" fill=\"#000000\">samples = 40</text>\n<text text-anchor=\"middle\" x=\"1457\" y=\"-208.3\" font-family=\"Times,serif\" font-size=\"14.00\" fill=\"#000000\">value = [40, 0]</text>\n</g>\n<!-- 45&#45;&gt;47 -->\n<g id=\"edge47\" class=\"edge\">\n<title>45&#45;&gt;47</title>\n<path fill=\"none\" stroke=\"#000000\" d=\"M1416.6462,-296.9465C1423.0645,-285.8215 1430.2035,-273.4473 1436.671,-262.237\"/>\n<polygon fill=\"#000000\" stroke=\"#000000\" points=\"1439.7216,-263.9531 1441.6872,-253.5422 1433.6583,-260.455 1439.7216,-263.9531\"/>\n</g>\n</g>\n</svg>\n"
          },
          "metadata": {
            "tags": []
          },
          "execution_count": 54
        }
      ]
    },
    {
      "cell_type": "code",
      "metadata": {
        "id": "nOp40ypnV80w",
        "colab_type": "code",
        "colab": {}
      },
      "source": [
        ""
      ],
      "execution_count": 0,
      "outputs": []
    }
  ]
}