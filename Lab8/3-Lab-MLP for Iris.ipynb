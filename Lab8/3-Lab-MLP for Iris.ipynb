{
 "cells": [
  {
   "cell_type": "markdown",
   "metadata": {
    "colab_type": "text",
    "id": "gvKshvFzQorr"
   },
   "source": [
    "# Multilayer Perceptron for Iris dataset"
   ]
  },
  {
   "cell_type": "markdown",
   "metadata": {},
   "source": [
    "- Nguyễn Hữu Vũ \n",
    "- Nhóm nghiên cứu về AI đại học Bách Khoa Tp. Hồ Chí Minh"
   ]
  },
  {
   "cell_type": "code",
   "execution_count": 38,
   "metadata": {},
   "outputs": [],
   "source": [
    "\n",
    "from sklearn import datasets\n",
    "from sklearn.preprocessing import StandardScaler\n",
    "from sklearn.linear_model import Perceptron\n",
    "from sklearn.model_selection import train_test_split\n",
    "from sklearn.metrics import accuracy_score\n",
    "import numpy as np"
   ]
  },
  {
   "cell_type": "code",
   "execution_count": 39,
   "metadata": {},
   "outputs": [],
   "source": [
    "# Load the iris dataset\n",
    "iris = datasets.load_iris()\n",
    "\n",
    "# Create our X and y data\n",
    "X = iris.data\n",
    "y = iris.target"
   ]
  },
  {
   "cell_type": "markdown",
   "metadata": {},
   "source": [
    "## 1) Khám phá dữ liệu"
   ]
  },
  {
   "cell_type": "code",
   "execution_count": 40,
   "metadata": {},
   "outputs": [
    {
     "data": {
      "text/plain": [
       "(150, 4)"
      ]
     },
     "execution_count": 40,
     "metadata": {},
     "output_type": "execute_result"
    }
   ],
   "source": [
    "X.shape"
   ]
  },
  {
   "cell_type": "code",
   "execution_count": 41,
   "metadata": {},
   "outputs": [
    {
     "data": {
      "text/plain": [
       "(150,)"
      ]
     },
     "execution_count": 41,
     "metadata": {},
     "output_type": "execute_result"
    }
   ],
   "source": [
    "y.shape"
   ]
  },
  {
   "cell_type": "code",
   "execution_count": 42,
   "metadata": {},
   "outputs": [
    {
     "data": {
      "text/plain": [
       "array([[5.1, 3.5, 1.4, 0.2],\n",
       "       [4.9, 3. , 1.4, 0.2],\n",
       "       [4.7, 3.2, 1.3, 0.2],\n",
       "       [4.6, 3.1, 1.5, 0.2],\n",
       "       [5. , 3.6, 1.4, 0.2]])"
      ]
     },
     "execution_count": 42,
     "metadata": {},
     "output_type": "execute_result"
    }
   ],
   "source": [
    "X[:5]"
   ]
  },
  {
   "cell_type": "code",
   "execution_count": 43,
   "metadata": {},
   "outputs": [
    {
     "data": {
      "text/plain": [
       "array([0, 0, 0, 0, 0])"
      ]
     },
     "execution_count": 43,
     "metadata": {},
     "output_type": "execute_result"
    }
   ],
   "source": [
    "# View the first five observations of our y data\n",
    "y[:5]"
   ]
  },
  {
   "cell_type": "code",
   "execution_count": null,
   "metadata": {},
   "outputs": [],
   "source": []
  },
  {
   "cell_type": "code",
   "execution_count": 44,
   "metadata": {},
   "outputs": [],
   "source": [
    "# Split the data into 70% training data and 30% test data\n",
    "X_train, X_test, y_train, y_test = train_test_split(X, y, test_size=0.3)"
   ]
  },
  {
   "cell_type": "code",
   "execution_count": 45,
   "metadata": {},
   "outputs": [
    {
     "data": {
      "text/plain": [
       "array([[5.5, 3.5, 1.3, 0.2],\n",
       "       [5.5, 2.5, 4. , 1.3],\n",
       "       [7.7, 2.8, 6.7, 2. ],\n",
       "       [4.9, 3.6, 1.4, 0.1],\n",
       "       [6.8, 3. , 5.5, 2.1]])"
      ]
     },
     "execution_count": 45,
     "metadata": {},
     "output_type": "execute_result"
    }
   ],
   "source": [
    "X_train[:5]"
   ]
  },
  {
   "cell_type": "markdown",
   "metadata": {},
   "source": [
    "## 2) Chuẩn bị dữ liệu"
   ]
  },
  {
   "cell_type": "code",
   "execution_count": 46,
   "metadata": {
    "scrolled": true
   },
   "outputs": [
    {
     "data": {
      "text/plain": [
       "StandardScaler(copy=True, with_mean=True, with_std=True)"
      ]
     },
     "execution_count": 46,
     "metadata": {},
     "output_type": "execute_result"
    }
   ],
   "source": [
    "# Train the scaler, which standarizes all the features to have mean=0 and unit variance\n",
    "sc = StandardScaler()\n",
    "sc.fit(X_train)"
   ]
  },
  {
   "cell_type": "code",
   "execution_count": 47,
   "metadata": {},
   "outputs": [],
   "source": [
    "# Apply the scaler to the X training data\n",
    "X_train_std = sc.transform(X_train)\n",
    "\n",
    "# Apply the SAME scaler to the X test data\n",
    "X_test_std = sc.transform(X_test)"
   ]
  },
  {
   "cell_type": "code",
   "execution_count": 48,
   "metadata": {},
   "outputs": [
    {
     "data": {
      "text/plain": [
       "array([[-0.55220855,  1.01665721, -1.54515283, -1.43513942],\n",
       "       [-0.55220855, -1.23543154,  0.05532517,  0.0568372 ],\n",
       "       [ 2.22083875, -0.55980492,  1.65580316,  1.00627688],\n",
       "       [-1.30849418,  1.24186608, -1.48587587, -1.57077366],\n",
       "       [ 1.08641031, -0.10938717,  0.94447961,  1.14191111]])"
      ]
     },
     "execution_count": 48,
     "metadata": {},
     "output_type": "execute_result"
    }
   ],
   "source": [
    "X_train_std[:5]"
   ]
  },
  {
   "cell_type": "code",
   "execution_count": 49,
   "metadata": {},
   "outputs": [
    {
     "data": {
      "text/plain": [
       "array([[ 0.07802947, -1.91105817,  0.05532517, -0.35006551],\n",
       "       [-1.18244658,  1.01665721, -1.54515283, -1.29950518],\n",
       "       [-1.56058939,  0.34103058, -1.54515283, -1.43513942],\n",
       "       [-1.05639897,  1.46707496, -1.4265989 , -1.16387094],\n",
       "       [ 0.58221989, -0.78501379,  0.82592568,  0.87064264]])"
      ]
     },
     "execution_count": 49,
     "metadata": {},
     "output_type": "execute_result"
    }
   ],
   "source": [
    "X_test_std[:5]"
   ]
  },
  {
   "cell_type": "markdown",
   "metadata": {},
   "source": [
    "## 3) Xây dựng model Perceptron"
   ]
  },
  {
   "cell_type": "code",
   "execution_count": 50,
   "metadata": {},
   "outputs": [],
   "source": [
    "# Create a perceptron object with the parameters: 40 iterations (epochs) over the data, and a learning rate of 0.1\n",
    "ppn = Perceptron(max_iter=40, eta0=0.1, random_state=0)\n"
   ]
  },
  {
   "cell_type": "code",
   "execution_count": 51,
   "metadata": {
    "scrolled": true
   },
   "outputs": [
    {
     "data": {
      "text/plain": [
       "Perceptron(alpha=0.0001, class_weight=None, early_stopping=False, eta0=0.1,\n",
       "           fit_intercept=True, max_iter=40, n_iter_no_change=5, n_jobs=None,\n",
       "           penalty=None, random_state=0, shuffle=True, tol=0.001,\n",
       "           validation_fraction=0.1, verbose=0, warm_start=False)"
      ]
     },
     "execution_count": 51,
     "metadata": {},
     "output_type": "execute_result"
    }
   ],
   "source": [
    "\n",
    "# Train the perceptron\n",
    "ppn.fit(X_train_std, y_train)"
   ]
  },
  {
   "cell_type": "code",
   "execution_count": 52,
   "metadata": {},
   "outputs": [
    {
     "data": {
      "text/plain": [
       "10"
      ]
     },
     "execution_count": 52,
     "metadata": {},
     "output_type": "execute_result"
    }
   ],
   "source": [
    "#The actual number of iterations to reach the stopping criterion. For multiclass fits, it is the maximum over every binary fit.\n",
    "ppn.n_iter_ "
   ]
  },
  {
   "cell_type": "markdown",
   "metadata": {},
   "source": [
    "##### Prediction"
   ]
  },
  {
   "cell_type": "code",
   "execution_count": 53,
   "metadata": {},
   "outputs": [
    {
     "data": {
      "text/plain": [
       "array([1, 0, 0, 0, 1, 2, 1, 0, 0, 1, 0, 0, 0, 2, 1, 1, 0, 2, 1, 1, 1, 0,\n",
       "       0, 2, 1, 0, 0, 0, 0, 2, 1, 1, 0, 0, 0, 1, 0, 1, 1, 0, 2, 1, 1, 1,\n",
       "       2])"
      ]
     },
     "execution_count": 53,
     "metadata": {},
     "output_type": "execute_result"
    }
   ],
   "source": [
    "# Apply the trained perceptron on the X data to make predicts for the y test data\n",
    "y_pred = ppn.predict(X_test_std)\n",
    "y_pred"
   ]
  },
  {
   "cell_type": "code",
   "execution_count": 54,
   "metadata": {},
   "outputs": [
    {
     "name": "stdout",
     "output_type": "stream",
     "text": [
      "Accuracy: 0.76\n"
     ]
    }
   ],
   "source": [
    "# View the accuracy of the model, which is: 1 - (observations predicted wrong / total observations)\n",
    "print('Accuracy: %.2f' % accuracy_score(y_test, y_pred))"
   ]
  },
  {
   "cell_type": "markdown",
   "metadata": {},
   "source": [
    "## 4) Xây dựng model MLPClassifier"
   ]
  },
  {
   "cell_type": "code",
   "execution_count": 55,
   "metadata": {},
   "outputs": [],
   "source": [
    "from sklearn.neural_network import MLPClassifier\n",
    "\n",
    "clf = MLPClassifier(hidden_layer_sizes=(8,5 ), activation='tanh', solver='sgd', \n",
    "                    alpha=0.0000001, batch_size=4, learning_rate='constant', learning_rate_init=0.005, \n",
    "                    power_t=0.5, max_iter=500, shuffle=True, random_state=11, tol=0.00001, \n",
    "                    verbose=True, warm_start=False, momentum=0.8, nesterovs_momentum=True, \n",
    "                    early_stopping=False, validation_fraction=0.2, \n",
    "                    beta_1=0.9, beta_2=0.999, epsilon=1e-08)\n"
   ]
  },
  {
   "cell_type": "code",
   "execution_count": 56,
   "metadata": {},
   "outputs": [
    {
     "name": "stdout",
     "output_type": "stream",
     "text": [
      "Iteration 1, loss = 1.11656164\n",
      "Iteration 2, loss = 0.89378279\n",
      "Iteration 3, loss = 0.75698460\n",
      "Iteration 4, loss = 0.66481429\n",
      "Iteration 5, loss = 0.59141086\n",
      "Iteration 6, loss = 0.53828737\n",
      "Iteration 7, loss = 0.49039381\n",
      "Iteration 8, loss = 0.45360913\n",
      "Iteration 9, loss = 0.42078052\n",
      "Iteration 10, loss = 0.39061059\n",
      "Iteration 11, loss = 0.36400503\n",
      "Iteration 12, loss = 0.33877937\n",
      "Iteration 13, loss = 0.31626020\n",
      "Iteration 14, loss = 0.29304906\n",
      "Iteration 15, loss = 0.27336776\n",
      "Iteration 16, loss = 0.25418985\n",
      "Iteration 17, loss = 0.23754278\n",
      "Iteration 18, loss = 0.22313258\n",
      "Iteration 19, loss = 0.20886941\n",
      "Iteration 20, loss = 0.19783223\n",
      "Iteration 21, loss = 0.18552644\n",
      "Iteration 22, loss = 0.17731192\n",
      "Iteration 23, loss = 0.17013853\n",
      "Iteration 24, loss = 0.16229842\n",
      "Iteration 25, loss = 0.15363641\n",
      "Iteration 26, loss = 0.14623811\n",
      "Iteration 27, loss = 0.14116761\n",
      "Iteration 28, loss = 0.13758311\n",
      "Iteration 29, loss = 0.13212494\n",
      "Iteration 30, loss = 0.12992315\n",
      "Iteration 31, loss = 0.12433824\n",
      "Iteration 32, loss = 0.12152051\n",
      "Iteration 33, loss = 0.11877040\n",
      "Iteration 34, loss = 0.11507710\n",
      "Iteration 35, loss = 0.11504396\n",
      "Iteration 36, loss = 0.11027320\n",
      "Iteration 37, loss = 0.11611989\n",
      "Iteration 38, loss = 0.10670225\n",
      "Iteration 39, loss = 0.10353791\n",
      "Iteration 40, loss = 0.10348721\n",
      "Iteration 41, loss = 0.10249382\n",
      "Iteration 42, loss = 0.09934931\n",
      "Iteration 43, loss = 0.09830056\n",
      "Iteration 44, loss = 0.09541834\n",
      "Iteration 45, loss = 0.09291587\n",
      "Iteration 46, loss = 0.09305565\n",
      "Iteration 47, loss = 0.09304452\n",
      "Iteration 48, loss = 0.09034180\n",
      "Iteration 49, loss = 0.09285336\n",
      "Iteration 50, loss = 0.08944907\n",
      "Iteration 51, loss = 0.08650799\n",
      "Iteration 52, loss = 0.08713276\n",
      "Iteration 53, loss = 0.08616821\n",
      "Iteration 54, loss = 0.08769652\n",
      "Iteration 55, loss = 0.08537833\n",
      "Iteration 56, loss = 0.08549685\n",
      "Iteration 57, loss = 0.08408516\n",
      "Iteration 58, loss = 0.08086703\n",
      "Iteration 59, loss = 0.08017265\n",
      "Iteration 60, loss = 0.08108801\n",
      "Iteration 61, loss = 0.07958579\n",
      "Iteration 62, loss = 0.07965845\n",
      "Iteration 63, loss = 0.08476091\n",
      "Iteration 64, loss = 0.07905131\n",
      "Iteration 65, loss = 0.07552259\n",
      "Iteration 66, loss = 0.07484127\n",
      "Iteration 67, loss = 0.07902434\n",
      "Iteration 68, loss = 0.07635559\n",
      "Iteration 69, loss = 0.07336258\n",
      "Iteration 70, loss = 0.07292391\n",
      "Iteration 71, loss = 0.07351859\n",
      "Iteration 72, loss = 0.07317464\n",
      "Iteration 73, loss = 0.07383447\n",
      "Iteration 74, loss = 0.07166861\n",
      "Iteration 75, loss = 0.07020335\n",
      "Iteration 76, loss = 0.07189761\n",
      "Iteration 77, loss = 0.07029598\n",
      "Iteration 78, loss = 0.07058041\n",
      "Iteration 79, loss = 0.07043122\n",
      "Iteration 80, loss = 0.07374719\n",
      "Iteration 81, loss = 0.07161897\n",
      "Iteration 82, loss = 0.07163662\n",
      "Iteration 83, loss = 0.06866774\n",
      "Iteration 84, loss = 0.06865746\n",
      "Iteration 85, loss = 0.06797873\n",
      "Iteration 86, loss = 0.06712080\n",
      "Iteration 87, loss = 0.06756546\n",
      "Iteration 88, loss = 0.07011704\n",
      "Iteration 89, loss = 0.06834128\n",
      "Iteration 90, loss = 0.06686372\n",
      "Iteration 91, loss = 0.06964586\n",
      "Iteration 92, loss = 0.06500367\n",
      "Iteration 93, loss = 0.06559773\n",
      "Iteration 94, loss = 0.06900606\n",
      "Iteration 95, loss = 0.06504328\n",
      "Iteration 96, loss = 0.06571096\n",
      "Iteration 97, loss = 0.06619021\n",
      "Iteration 98, loss = 0.06820389\n",
      "Iteration 99, loss = 0.06342600\n",
      "Iteration 100, loss = 0.06409993\n",
      "Iteration 101, loss = 0.06575980\n",
      "Iteration 102, loss = 0.06400300\n",
      "Iteration 103, loss = 0.06428266\n",
      "Iteration 104, loss = 0.06539663\n",
      "Iteration 105, loss = 0.06374183\n",
      "Iteration 106, loss = 0.06687644\n",
      "Iteration 107, loss = 0.06564009\n",
      "Iteration 108, loss = 0.06332654\n",
      "Iteration 109, loss = 0.06214434\n",
      "Iteration 110, loss = 0.06323857\n",
      "Iteration 111, loss = 0.06420811\n",
      "Iteration 112, loss = 0.06413304\n",
      "Iteration 113, loss = 0.06212197\n",
      "Iteration 114, loss = 0.06204289\n",
      "Iteration 115, loss = 0.06298248\n",
      "Iteration 116, loss = 0.06376079\n",
      "Iteration 117, loss = 0.06311903\n",
      "Iteration 118, loss = 0.06055426\n",
      "Iteration 119, loss = 0.06117537\n",
      "Iteration 120, loss = 0.06302249\n",
      "Iteration 121, loss = 0.06059902\n",
      "Iteration 122, loss = 0.06409717\n",
      "Iteration 123, loss = 0.06042419\n",
      "Iteration 124, loss = 0.06295812\n",
      "Iteration 125, loss = 0.06202591\n",
      "Iteration 126, loss = 0.07357688\n",
      "Iteration 127, loss = 0.06106259\n",
      "Iteration 128, loss = 0.06076396\n",
      "Iteration 129, loss = 0.05870245\n",
      "Iteration 130, loss = 0.06032496\n",
      "Iteration 131, loss = 0.06246363\n",
      "Iteration 132, loss = 0.05986538\n",
      "Iteration 133, loss = 0.06004948\n",
      "Iteration 134, loss = 0.06052179\n",
      "Iteration 135, loss = 0.05941826\n",
      "Iteration 136, loss = 0.05864966\n",
      "Iteration 137, loss = 0.05986785\n",
      "Iteration 138, loss = 0.06553775\n",
      "Iteration 139, loss = 0.05988179\n",
      "Iteration 140, loss = 0.06254325\n",
      "Iteration 141, loss = 0.05871678\n",
      "Iteration 142, loss = 0.05733792\n",
      "Iteration 143, loss = 0.05888957\n",
      "Iteration 144, loss = 0.05865177\n",
      "Iteration 145, loss = 0.05613761\n",
      "Iteration 146, loss = 0.05841908\n",
      "Iteration 147, loss = 0.05790138\n",
      "Iteration 148, loss = 0.05658112\n",
      "Iteration 149, loss = 0.05941142\n",
      "Iteration 150, loss = 0.06079958\n",
      "Iteration 151, loss = 0.05909627\n",
      "Iteration 152, loss = 0.05814991\n",
      "Iteration 153, loss = 0.05786148\n",
      "Iteration 154, loss = 0.05650478\n",
      "Iteration 155, loss = 0.05794000\n",
      "Iteration 156, loss = 0.05901949\n",
      "Training loss did not improve more than tol=0.000010 for 10 consecutive epochs. Stopping.\n"
     ]
    },
    {
     "data": {
      "text/plain": [
       "MLPClassifier(activation='tanh', alpha=1e-07, batch_size=4, beta_1=0.9,\n",
       "              beta_2=0.999, early_stopping=False, epsilon=1e-08,\n",
       "              hidden_layer_sizes=(8, 5), learning_rate='constant',\n",
       "              learning_rate_init=0.005, max_fun=15000, max_iter=500,\n",
       "              momentum=0.8, n_iter_no_change=10, nesterovs_momentum=True,\n",
       "              power_t=0.5, random_state=11, shuffle=True, solver='sgd',\n",
       "              tol=1e-05, validation_fraction=0.2, verbose=True,\n",
       "              warm_start=False)"
      ]
     },
     "execution_count": 56,
     "metadata": {},
     "output_type": "execute_result"
    }
   ],
   "source": [
    "\n",
    "# Train the perceptron\n",
    "clf.fit(X_train_std, y_train)"
   ]
  },
  {
   "cell_type": "code",
   "execution_count": 57,
   "metadata": {},
   "outputs": [
    {
     "data": {
      "text/plain": [
       "array([0, 1, 2])"
      ]
     },
     "execution_count": 57,
     "metadata": {},
     "output_type": "execute_result"
    }
   ],
   "source": [
    "clf.classes_ "
   ]
  },
  {
   "cell_type": "code",
   "execution_count": 58,
   "metadata": {},
   "outputs": [
    {
     "data": {
      "text/plain": [
       "4"
      ]
     },
     "execution_count": 58,
     "metadata": {},
     "output_type": "execute_result"
    }
   ],
   "source": [
    "clf.n_layers_ "
   ]
  },
  {
   "cell_type": "code",
   "execution_count": 59,
   "metadata": {},
   "outputs": [
    {
     "data": {
      "text/plain": [
       "3"
      ]
     },
     "execution_count": 59,
     "metadata": {},
     "output_type": "execute_result"
    }
   ],
   "source": [
    "clf.n_outputs_ "
   ]
  },
  {
   "cell_type": "code",
   "execution_count": 60,
   "metadata": {},
   "outputs": [
    {
     "data": {
      "text/plain": [
       "'softmax'"
      ]
     },
     "execution_count": 60,
     "metadata": {},
     "output_type": "execute_result"
    }
   ],
   "source": [
    "clf.out_activation_ "
   ]
  },
  {
   "cell_type": "markdown",
   "metadata": {},
   "source": [
    "- 1 input, 2 hidden, 1 ouput: => 4\n",
    "- Thông thường trong Neural Networks, sẽ ko tính input layers, nên  trong Neural Networks, trường hợp này số Layers sẽ là 3"
   ]
  },
  {
   "cell_type": "code",
   "execution_count": 61,
   "metadata": {},
   "outputs": [
    {
     "name": "stdout",
     "output_type": "stream",
     "text": [
      "Acuracy (on test set) =  0.9555555555555556\n"
     ]
    }
   ],
   "source": [
    "# Evaluate acuracy on test data\n",
    "score = clf.score(X_test_std,y_test)\n",
    "print(\"Acuracy (on test set) = \", score)"
   ]
  },
  {
   "cell_type": "markdown",
   "metadata": {},
   "source": [
    "- Ta thấy chỉ cần tăng #Layers, #Units độ chính xác sẽ tăng cao"
   ]
  },
  {
   "cell_type": "code",
   "execution_count": null,
   "metadata": {},
   "outputs": [],
   "source": []
  }
 ],
 "metadata": {
  "kernelspec": {
   "display_name": "Python 3",
   "language": "python",
   "name": "python3"
  },
  "language_info": {
   "codemirror_mode": {
    "name": "ipython",
    "version": 3
   },
   "file_extension": ".py",
   "mimetype": "text/x-python",
   "name": "python",
   "nbconvert_exporter": "python",
   "pygments_lexer": "ipython3",
   "version": "3.7.6"
  }
 },
 "nbformat": 4,
 "nbformat_minor": 4
}
